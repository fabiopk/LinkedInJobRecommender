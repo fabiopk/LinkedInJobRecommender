{
 "cells": [
  {
   "cell_type": "code",
   "execution_count": 1,
   "metadata": {},
   "outputs": [],
   "source": [
    "import pandas as pd\n",
    "import numpy as np\n",
    "import re\n",
    "import time\n",
    "import io\n",
    "import webbrowser\n",
    "import datetime\n",
    "import random\n",
    "\n",
    "import requests as rq\n",
    "import bs4 as bs4 # beautifulsoup4\n",
    "import json\n",
    "from pymongo import MongoClient\n",
    "\n",
    "from feature_extractor import convert_datetime"
   ]
  },
  {
   "cell_type": "code",
   "execution_count": 2,
   "metadata": {},
   "outputs": [],
   "source": [
    "queries = [\"data%20scientist\"]#, \"cientista%20de%20dados\", \"machine%20learning\"]\n",
    "#locations = [\"São%20Paulo%2C%20Brazil\", \"Porto%20Alegre%2C%20Rio%20Grande%20do%20Sul%2C%20Brazil\", \"europe\"]\n",
    "locations = [\"São%20Paulo%2C%20Brazil\", \"Porto%20Alegre%2C%20Rio%20Grande%20do%20Sul%2C%20Brazil\", \"europe\", \"England\", \"Italy\", \"Netherlands\", \"Spain\"]\n",
    "url=\"https://www.linkedin.com/jobs-guest/jobs/api/seeMoreJobPostings/search?keywords={query}&location={location}&pageNum=0&start={page}\"\n",
    "#url=\"https://www.linkedin.com/jobs-guest/jobs/api/seeMoreJobPostings/search?keywords={query}&location={location}&pageNum=0&f_TP=1%2C2&start={page}\""
   ]
  },
  {
   "cell_type": "code",
   "execution_count": 3,
   "metadata": {},
   "outputs": [],
   "source": [
    "client = MongoClient()\n",
    "db = client.linkedin\n",
    "collection = db.jobIds"
   ]
  },
  {
   "cell_type": "code",
   "execution_count": 4,
   "metadata": {},
   "outputs": [],
   "source": [
    "headers = {\n",
    "    \"User-Agent\" : \"PythonRequests\",\n",
    "}"
   ]
  },
  {
   "cell_type": "code",
   "execution_count": 16,
   "metadata": {
    "tags": []
   },
   "outputs": [
    {
     "output_type": "stream",
     "name": "stdout",
     "text": "https://www.linkedin.com/jobs-guest/jobs/api/seeMoreJobPostings/search?keywords=data%20scientist&location=São%20Paulo%2C%20Brazil&pageNum=0&f_TP=1%2C2&start=0\n25\nhttps://www.linkedin.com/jobs-guest/jobs/api/seeMoreJobPostings/search?keywords=data%20scientist&location=Porto%20Alegre%2C%20Rio%20Grande%20do%20Sul%2C%20Brazil&pageNum=0&f_TP=1%2C2&start=0\n12\nhttps://www.linkedin.com/jobs-guest/jobs/api/seeMoreJobPostings/search?keywords=data%20scientist&location=europe&pageNum=0&f_TP=1%2C2&start=0\n25\nhttps://www.linkedin.com/jobs-guest/jobs/api/seeMoreJobPostings/search?keywords=data%20scientist&location=England&pageNum=0&f_TP=1%2C2&start=0\n25\nhttps://www.linkedin.com/jobs-guest/jobs/api/seeMoreJobPostings/search?keywords=data%20scientist&location=Italy&pageNum=0&f_TP=1%2C2&start=0\n25\nhttps://www.linkedin.com/jobs-guest/jobs/api/seeMoreJobPostings/search?keywords=data%20scientist&location=Netherlands&pageNum=0&f_TP=1%2C2&start=0\n25\nhttps://www.linkedin.com/jobs-guest/jobs/api/seeMoreJobPostings/search?keywords=data%20scientist&location=Spain&pageNum=0&f_TP=1%2C2&start=0\n25\n"
    }
   ],
   "source": [
    "start = 0\n",
    "for query in queries:\n",
    "    for location in locations:\n",
    "        for page in range(0,1):\n",
    "            urll = url.format(query=query, page=page*25, location=location)\n",
    "            print(urll)\n",
    "            response = rq.get(urll, headers=headers)            \n",
    "            with io.open(\"./pages/{}_{}_{}.html\".format(query,location, page).replace(\"%20\", \"_\"), \"w\", encoding=\"utf-8\") as f:\n",
    "                f.write(response.text)\n",
    "\n",
    "            parsed = bs4.BeautifulSoup(response.text)\n",
    "            tags = parsed.findAll(\"li\", class_=\"result-card\")\n",
    "\n",
    "            time.sleep(2.5)\n",
    "\n",
    "            print(len(tags))\n",
    "\n",
    "            if len(tags) < 25:\n",
    "                break\n",
    "\n"
   ]
  },
  {
   "cell_type": "code",
   "execution_count": 21,
   "metadata": {
    "tags": []
   },
   "outputs": [
    {
     "output_type": "stream",
     "name": "stdout",
     "text": "Page data_scientist_England_0.html:\nAdding 1932926640\nAdding 1933716917\nAdding 1935522233\nAdding 1087403280\nAdding 1928750956\nAdding 1909832377\nAdding 1909048253\nAdding 1933923773\nAdding 1909836435\nPage data_scientist_europe_0.html:\nAdding 1935624667\nAdding 1932135058\nAdding 1909819877\nAdding 1909433877\nAdding 1931941551\nAdding 1909810723\nAdding 1908839545\nAdding 1904306589\nAdding 1904337941\nAdding 1930531602\nAdding 1932593136\nAdding 1908867737\nAdding 1909410264\nAdding 1936287688\nAdding 1903187997\nPage data_scientist_Italy_0.html:\nAdding 1909832781\nAdding 1909810352\nAdding 1905092840\nAdding 1907735616\nAdding 1935963023\nAdding 1935580201\nAdding 1935673035\nAdding 1932151129\nAdding 1905086849\nAdding 1931647160\nAdding 1907775433\nPage data_scientist_Netherlands_0.html:\nAdding 1931710890\nAdding 1935597063\nAdding 1932700508\nAdding 1932951913\nAdding 1935769667\nAdding 1909822645\nAdding 1909076032\nAdding 1909806363\nAdding 1909441657\nAdding 1932545891\nAdding 1927857000\nAdding 1930427252\nAdding 1930721675\nPage data_scientist_Porto_Alegre%2C_Rio_Grande_do_Sul%2C_Brazil_0.html:\nAdding 1909426321\nAdding 1909431079\nAdding 1909424550\nAdding 1909426837\nAdding 1909423880\nAdding 1909428288\nAdding 1909425212\nAdding 1909427060\nAdding 1909423317\nAdding 1909424310\nAdding 1909427131\nAdding 1909422355\nPage data_scientist_Spain_0.html:\nAdding 1909440042\nAdding 1909835456\nAdding 1909056435\nAdding 1932827894\nAdding 1932692719\nAdding 1879769005\nAdding 1907742561\nAdding 1909818135\nPage data_scientist_São_Paulo%2C_Brazil_0.html:\nAdding 1936285192\nAdding 1934100168\nAdding 1909419869\nAdding 1930578865\nAdding 1903130276\nAdding 1908887758\nAdding 1909824348\nAdding 1930778733\nAdding 1904300936\nAdding 1934032515\nAdding 1934095676\nAdding 1933342810\nAdded 80 new jobs!\n"
    }
   ],
   "source": [
    "new_documents = 0\n",
    "\n",
    "for document in os.listdir('./pages'):\n",
    "    with io.open(\"./pages/{}\".format(document), \"r\", encoding=\"utf-8\") as inp:\n",
    "        page_html = inp.read()\n",
    "        \n",
    "        print(f\"Page {document}:\")\n",
    "        parsed = bs4.BeautifulSoup(page_html)\n",
    "        \n",
    "        tags = parsed.findAll(\"li\", class_=\"result-card\")\n",
    "        for tag in tags:\n",
    "            item = {'jobId': tag['data-id'], 'loaded': False, 'added' : datetime.datetime.utcnow()}\n",
    "            alreadyIn = collection.find_one({\"jobId\": item['jobId']})\n",
    "            if not alreadyIn:\n",
    "                print(f\"Adding {item['jobId']}\")\n",
    "                new_documents += 1 \n",
    "                collection.insert_one(item)\n",
    "\n",
    "print(f\"Added {new_documents} new jobs!\")"
   ]
  },
  {
   "cell_type": "code",
   "execution_count": 24,
   "metadata": {
    "tags": []
   },
   "outputs": [
    {
     "output_type": "stream",
     "name": "stdout",
     "text": "https://www.linkedin.com/jobs-guest/jobs/api/jobPosting/1933716917\nhttps://www.linkedin.com/jobs-guest/jobs/api/jobPosting/1935522233\nhttps://www.linkedin.com/jobs-guest/jobs/api/jobPosting/1087403280\nhttps://www.linkedin.com/jobs-guest/jobs/api/jobPosting/1928750956\nhttps://www.linkedin.com/jobs-guest/jobs/api/jobPosting/1909832377\nhttps://www.linkedin.com/jobs-guest/jobs/api/jobPosting/1909048253\nhttps://www.linkedin.com/jobs-guest/jobs/api/jobPosting/1933923773\nhttps://www.linkedin.com/jobs-guest/jobs/api/jobPosting/1909836435\nhttps://www.linkedin.com/jobs-guest/jobs/api/jobPosting/1935624667\nhttps://www.linkedin.com/jobs-guest/jobs/api/jobPosting/1932135058\nhttps://www.linkedin.com/jobs-guest/jobs/api/jobPosting/1909819877\nhttps://www.linkedin.com/jobs-guest/jobs/api/jobPosting/1909433877\nhttps://www.linkedin.com/jobs-guest/jobs/api/jobPosting/1931941551\nhttps://www.linkedin.com/jobs-guest/jobs/api/jobPosting/1909810723\nhttps://www.linkedin.com/jobs-guest/jobs/api/jobPosting/1908839545\nhttps://www.linkedin.com/jobs-guest/jobs/api/jobPosting/1904306589\nhttps://www.linkedin.com/jobs-guest/jobs/api/jobPosting/1904337941\nhttps://www.linkedin.com/jobs-guest/jobs/api/jobPosting/1930531602\nhttps://www.linkedin.com/jobs-guest/jobs/api/jobPosting/1932593136\nhttps://www.linkedin.com/jobs-guest/jobs/api/jobPosting/1908867737\nhttps://www.linkedin.com/jobs-guest/jobs/api/jobPosting/1909410264\nhttps://www.linkedin.com/jobs-guest/jobs/api/jobPosting/1936287688\nhttps://www.linkedin.com/jobs-guest/jobs/api/jobPosting/1903187997\nhttps://www.linkedin.com/jobs-guest/jobs/api/jobPosting/1909832781\nhttps://www.linkedin.com/jobs-guest/jobs/api/jobPosting/1909810352\nhttps://www.linkedin.com/jobs-guest/jobs/api/jobPosting/1905092840\nhttps://www.linkedin.com/jobs-guest/jobs/api/jobPosting/1907735616\nhttps://www.linkedin.com/jobs-guest/jobs/api/jobPosting/1935963023\nhttps://www.linkedin.com/jobs-guest/jobs/api/jobPosting/1935580201\nhttps://www.linkedin.com/jobs-guest/jobs/api/jobPosting/1935673035\nhttps://www.linkedin.com/jobs-guest/jobs/api/jobPosting/1932151129\nhttps://www.linkedin.com/jobs-guest/jobs/api/jobPosting/1905086849\nhttps://www.linkedin.com/jobs-guest/jobs/api/jobPosting/1931647160\nhttps://www.linkedin.com/jobs-guest/jobs/api/jobPosting/1907775433\nhttps://www.linkedin.com/jobs-guest/jobs/api/jobPosting/1931710890\nhttps://www.linkedin.com/jobs-guest/jobs/api/jobPosting/1935597063\nhttps://www.linkedin.com/jobs-guest/jobs/api/jobPosting/1932700508\nhttps://www.linkedin.com/jobs-guest/jobs/api/jobPosting/1932951913\nhttps://www.linkedin.com/jobs-guest/jobs/api/jobPosting/1935769667\nhttps://www.linkedin.com/jobs-guest/jobs/api/jobPosting/1909822645\nhttps://www.linkedin.com/jobs-guest/jobs/api/jobPosting/1909076032\nhttps://www.linkedin.com/jobs-guest/jobs/api/jobPosting/1909806363\nhttps://www.linkedin.com/jobs-guest/jobs/api/jobPosting/1909441657\nhttps://www.linkedin.com/jobs-guest/jobs/api/jobPosting/1932545891\nhttps://www.linkedin.com/jobs-guest/jobs/api/jobPosting/1927857000\nhttps://www.linkedin.com/jobs-guest/jobs/api/jobPosting/1930427252\nhttps://www.linkedin.com/jobs-guest/jobs/api/jobPosting/1930721675\nhttps://www.linkedin.com/jobs-guest/jobs/api/jobPosting/1909426321\nhttps://www.linkedin.com/jobs-guest/jobs/api/jobPosting/1909431079\nhttps://www.linkedin.com/jobs-guest/jobs/api/jobPosting/1909424550\nhttps://www.linkedin.com/jobs-guest/jobs/api/jobPosting/1909426837\nhttps://www.linkedin.com/jobs-guest/jobs/api/jobPosting/1909423880\nhttps://www.linkedin.com/jobs-guest/jobs/api/jobPosting/1909428288\nhttps://www.linkedin.com/jobs-guest/jobs/api/jobPosting/1909425212\nhttps://www.linkedin.com/jobs-guest/jobs/api/jobPosting/1909427060\nhttps://www.linkedin.com/jobs-guest/jobs/api/jobPosting/1909423317\nhttps://www.linkedin.com/jobs-guest/jobs/api/jobPosting/1909424310\nhttps://www.linkedin.com/jobs-guest/jobs/api/jobPosting/1909427131\nhttps://www.linkedin.com/jobs-guest/jobs/api/jobPosting/1909422355\nhttps://www.linkedin.com/jobs-guest/jobs/api/jobPosting/1909440042\nhttps://www.linkedin.com/jobs-guest/jobs/api/jobPosting/1909835456\nhttps://www.linkedin.com/jobs-guest/jobs/api/jobPosting/1909056435\nhttps://www.linkedin.com/jobs-guest/jobs/api/jobPosting/1932827894\nhttps://www.linkedin.com/jobs-guest/jobs/api/jobPosting/1932692719\nhttps://www.linkedin.com/jobs-guest/jobs/api/jobPosting/1879769005\nhttps://www.linkedin.com/jobs-guest/jobs/api/jobPosting/1907742561\nhttps://www.linkedin.com/jobs-guest/jobs/api/jobPosting/1909818135\nhttps://www.linkedin.com/jobs-guest/jobs/api/jobPosting/1936285192\nhttps://www.linkedin.com/jobs-guest/jobs/api/jobPosting/1934100168\nhttps://www.linkedin.com/jobs-guest/jobs/api/jobPosting/1909419869\nhttps://www.linkedin.com/jobs-guest/jobs/api/jobPosting/1930578865\nhttps://www.linkedin.com/jobs-guest/jobs/api/jobPosting/1903130276\nhttps://www.linkedin.com/jobs-guest/jobs/api/jobPosting/1908887758\nhttps://www.linkedin.com/jobs-guest/jobs/api/jobPosting/1909824348\nhttps://www.linkedin.com/jobs-guest/jobs/api/jobPosting/1930778733\nhttps://www.linkedin.com/jobs-guest/jobs/api/jobPosting/1904300936\nhttps://www.linkedin.com/jobs-guest/jobs/api/jobPosting/1934032515\nhttps://www.linkedin.com/jobs-guest/jobs/api/jobPosting/1934095676\nhttps://www.linkedin.com/jobs-guest/jobs/api/jobPosting/1933342810\n"
    }
   ],
   "source": [
    "for job in collection.find({'loaded': False}):\n",
    "    url = \"https://www.linkedin.com/jobs-guest/jobs/api/jobPosting/{jobId}\"\n",
    "    urll = url.format(jobId=job['jobId'])\n",
    "    print(urll)\n",
    "    response = rq.get(urll)\n",
    "    with io.open(\"./jobs/{}.html\".format(job['jobId']), \"w\", encoding=\"utf-8\") as f:\n",
    "        f.write(response.text)\n",
    "        job['loaded'] = True\n",
    "        job['created'] = datetime.datetime.utcnow()\n",
    "        collection.save(job)\n",
    "    time.sleep(random.randint(2,5))\n"
   ]
  },
  {
   "cell_type": "code",
   "execution_count": 25,
   "metadata": {},
   "outputs": [
    {
     "output_type": "execute_result",
     "data": {
      "text/plain": "80"
     },
     "metadata": {},
     "execution_count": 25
    }
   ],
   "source": [
    "collection.count_documents({'loaded': False})\n",
    "collection.count_documents({'loaded': True, 'title': None})"
   ]
  },
  {
   "cell_type": "code",
   "execution_count": 9,
   "metadata": {
    "tags": []
   },
   "outputs": [],
   "source": [
    "for i, job in enumerate(collection.find({'loaded': True, 'title': None})):\n",
    "    jobId = job['jobId']\n",
    "    with io.open(\"./jobs/{}.html\".format(jobId), \"r\", encoding=\"utf-8\") as f:\n",
    "        \n",
    "        print(f\"Job {jobId}:\")\n",
    "\n",
    "        #BS4\n",
    "        page_html = f.read()\n",
    "        parsed = bs4.BeautifulSoup(page_html)\n",
    "        company_a = parsed.findAll(\"a\", class_=\"topcard__org-name-link\")\n",
    "        if company_a:\n",
    "            job['company'] = company_a[0].get_text()\n",
    "        else:\n",
    "            job['company'] = parsed.findAll(\"span\", class_=\"topcard__flavor\")[0].get_text()\n",
    "        job['title'] = parsed.findAll(\"h2\", class_=\"topcard__title\")[0].get_text()\n",
    "        job['city'] = parsed.findAll(\"span\", class_=\"topcard__flavor topcard__flavor--bullet\")[0].contents[0]\n",
    "        delta_posted = convert_datetime(parsed.findAll(\"span\", class_=[\"topcard__flavor--metadata posted-time-ago__text\", \"topcard__flavor--metadata posted-time-ago__text posted-time-ago__text--new\"])[0].contents[0])\n",
    "        job['posted'] = job['created'] - delta_posted\n",
    "        applicants = parsed.findAll(\"span\", class_=\"topcard__flavor--metadata topcard__flavor--bullet num-applicants__caption\")\n",
    "        if applicants:\n",
    "            job['applicants'] = int(applicants[0].get_text().split(' ')[0])\n",
    "        else:\n",
    "            job['applicants'] = 10\n",
    "        job['applicants_per_day'] = job['applicants'] / (delta_posted.days + 1)\n",
    "        job['description'] = parsed.findAll(\"div\", class_=\"show-more-less-html__markup show-more-less-html__markup--clamp-after-5\")[0].get_text()\n",
    "        job['description_len'] = len(job['description'])\n",
    "        job_criterion = parsed.findAll(\"span\", class_=\"job-criteria__text job-criteria__text--criteria\")\n",
    "        job_header = parsed.findAll(\"h3\", class_=\"job-criteria__subheader\")\n",
    "        for header, value in zip(job_header, job_criterion):\n",
    "            job[header.get_text()] = value.get_text()\n",
    "\n",
    "        collection.save(job)"
   ]
  },
  {
   "cell_type": "code",
   "execution_count": 83,
   "metadata": {},
   "outputs": [],
   "source": []
  },
  {
   "cell_type": "code",
   "execution_count": 6,
   "metadata": {
    "tags": []
   },
   "outputs": [
    {
     "output_type": "stream",
     "name": "stdout",
     "text": "Data analyst Affin Hwang Capital\n0\nData analyst - Matipay MATIPAY - Mobile Payment and Telemetry system for Vending\n0\nMeteorological Data Scientist DTN\n0\nData Scientist (ASL) Nestlé\n0\nAnalista de Banco de Dados - Ciência de Dados HST CARD TECHNOLOGY\n0\nFunctional Data Analyst Securex\n0\nSENIOR DATA ENGINEER Omina Technologies\n0\nBusiness Data Analyst Vaillant Group\n0\nSales Engineer - Brazil Alarm.com\n0\nTechnology Delivery Manager Twipe\n0\nSr Backend Developer (Python) Inovation IT Premium Outsourcing\n0\nEstágio em inteligência (bi) Petlove\n0\nJunior Data scientist / Planning Process Expert AkzoNobel\n0\nData Scientist Rightangled\n0\nData Scientist Marks and Spencer\n1\nDeals - Investigative Analytics - Data Scientist - London, PWC Guardian Jobs\n1\nNLP Data Scientist PEP Health\n1\nData Science Intern StyleSage\n0\nConsultor de políticas de crédito e modelagem Page Personnel\n0\nData Scientist Compass Lexecon\n1\n"
    }
   ],
   "source": [
    "for job in collection.aggregate([{ \"$match\": { \"label\": { \"$exists\": False } } }, { \"$sample\": { \"size\": 20 }}]):\n",
    "    url = f\"https://www.linkedin.com/jobs/view/{job['jobId']}\"\n",
    "    print(job['title'], job['company'])\n",
    "    webbrowser.open(url)\n",
    "    job['label'] = int(input())\n",
    "    assert(job['label'] in [0,1,-1])\n",
    "    print(job['label'])\n",
    "    if job['label'] == -1:\n",
    "        print('Deleting job')\n",
    "        collection.delete_one({'jobId': job['jobId']})\n",
    "    else:\n",
    "        collection.save(job)"
   ]
  },
  {
   "cell_type": "code",
   "execution_count": 10,
   "metadata": {
    "tags": []
   },
   "outputs": [
    {
     "output_type": "stream",
     "name": "stdout",
     "text": "135\n464\n"
    },
    {
     "output_type": "execute_result",
     "data": {
      "text/plain": "599"
     },
     "metadata": {},
     "execution_count": 10
    }
   ],
   "source": [
    "print(collection.count_documents({'label' : 1}))\n",
    "print(collection.count_documents({'label' : 0}))\n",
    "\n",
    "collection.count_documents({'label' : 1}) + collection.count_documents({'label' : 0})"
   ]
  },
  {
   "cell_type": "code",
   "execution_count": 30,
   "metadata": {},
   "outputs": [
    {
     "output_type": "execute_result",
     "data": {
      "text/plain": "887"
     },
     "metadata": {},
     "execution_count": 30
    }
   ],
   "source": [
    "collection.count_documents({'label' : None})"
   ]
  },
  {
   "cell_type": "code",
   "execution_count": 27,
   "metadata": {
    "tags": []
   },
   "outputs": [
    {
     "output_type": "stream",
     "name": "stdout",
     "text": "1929998936\n1927462021\n1897388221\n1897967956\n1865633769\n1828820756\n1879666038\n1869851010\n1875306659\n1904055066\n1904082120\n1907869128\n1923284989\n1865660361\n1928207071\n1519956488\n1805699370\n1888811341\n1840740404\n1718334914\n1894888703\n1903926427\n1908812796\n1826241938\n1908690579\n1927388015\n1924685614\n1841944610\n1924392079\n1745899361\n1926690401\n1910988623\n1922342401\n1924006645\n1709415926\n1921682681\n1782841567\n1893780920\n1926516629\n1789135389\n1928206872\n1927162480\n1877930054\n1901517734\n1338288139\n1927978745\n1519410583\n1910855673\n1907230784\n1727111489\n1924886357\n1899042606\n1916890579\n1892340943\n1928743299\n1884435598\n1923548632\n1901038239\n1930860525\n1905069958\n1764181663\n1914372928\n1902203672\n1819063930\n1892511470\n1918932652\n1904582418\n1894800387\n1879425668\n1894813818\n1727102879\n1924217037\n1915866768\n1811691646\n1895675890\n1892679695\n1804787596\n1921906860\n1684919361\n1881125522\n1819318222\n1879479030\n1901135268\n1882050386\n1738600127\n1897326663\n1888163448\n1883149435\n1922475558\n1922238429\n1877473764\n1918595272\n1549299316\n1869489547\n1932132493\n1799834532\n1915869507\n1930926120\n1918822474\n1673813205\n"
    }
   ],
   "source": [
    "for pin in collection.aggregate([{ \"$match\": { \"label\": { \"$exists\": False } } }, { \"$sample\": { \"size\": 100 }}]):\n",
    "    print(pin['jobId'])"
   ]
  },
  {
   "cell_type": "code",
   "execution_count": 4,
   "metadata": {},
   "outputs": [],
   "source": [
    "import datetime"
   ]
  },
  {
   "cell_type": "code",
   "execution_count": 5,
   "metadata": {},
   "outputs": [
    {
     "output_type": "execute_result",
     "data": {
      "text/plain": "datetime.datetime(2020, 7, 6, 22, 27, 37, 726961)"
     },
     "metadata": {},
     "execution_count": 5
    }
   ],
   "source": [
    "datetime.datetime.utcnow()"
   ]
  },
  {
   "cell_type": "code",
   "execution_count": 20,
   "metadata": {},
   "outputs": [
    {
     "output_type": "execute_result",
     "data": {
      "text/plain": "datetime.datetime(2020, 6, 30, 22, 40, 34, 287034)"
     },
     "metadata": {},
     "execution_count": 20
    }
   ],
   "source": [
    "datetime.datetime.utcnow() - datetime.timedelta(days=6)"
   ]
  },
  {
   "cell_type": "code",
   "execution_count": null,
   "metadata": {},
   "outputs": [],
   "source": []
  }
 ],
 "metadata": {
  "language_info": {
   "codemirror_mode": {
    "name": "ipython",
    "version": 3
   },
   "file_extension": ".py",
   "mimetype": "text/x-python",
   "name": "python",
   "nbconvert_exporter": "python",
   "pygments_lexer": "ipython3",
   "version": "3.7.6-final"
  },
  "orig_nbformat": 2,
  "kernelspec": {
   "name": "python3",
   "display_name": "Python 3"
  }
 },
 "nbformat": 4,
 "nbformat_minor": 2
}