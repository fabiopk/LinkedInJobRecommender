{
 "cells": [
  {
   "cell_type": "code",
   "execution_count": 1,
   "metadata": {},
   "outputs": [],
   "source": [
    "import sys\n",
    "sys.path.append('../app/')"
   ]
  },
  {
   "cell_type": "code",
   "execution_count": 2,
   "metadata": {},
   "outputs": [],
   "source": [
    "from pymongo import MongoClient\n",
    "import pandas as pd\n",
    "from feature_extractor import get_ohe_features, get_portuguese_stop_words\n",
    "import json"
   ]
  },
  {
   "cell_type": "code",
   "execution_count": 3,
   "metadata": {},
   "outputs": [],
   "source": [
    "from sklearn.feature_extraction import text\n",
    "stop_words = text.ENGLISH_STOP_WORDS.union(get_portuguese_stop_words())"
   ]
  },
  {
   "cell_type": "code",
   "execution_count": 4,
   "metadata": {},
   "outputs": [],
   "source": [
    "with open('../config.json') as json_file:\n",
    "    config = json.load(json_file)"
   ]
  },
  {
   "cell_type": "code",
   "execution_count": 5,
   "metadata": {},
   "outputs": [],
   "source": [
    "client = MongoClient(config['MONGO_URI'])\n",
    "db = client.linkedin\n",
    "collection = db.jobIds"
   ]
  },
  {
   "cell_type": "code",
   "execution_count": 6,
   "metadata": {},
   "outputs": [],
   "source": [
    "df = pd.DataFrame(list(collection.find({})))"
   ]
  },
  {
   "cell_type": "code",
   "execution_count": 6,
   "metadata": {},
   "outputs": [],
   "source": [
    "feature_names = []"
   ]
  },
  {
   "cell_type": "code",
   "execution_count": 7,
   "metadata": {},
   "outputs": [],
   "source": [
    "from sklearn.model_selection import train_test_split\n",
    "\n",
    "df['Description Length'] = df['description'].apply(len)\n",
    "\n",
    "df_train_val = df[pd.notna(df['label'])]\n",
    "df_test = df[~pd.notna(df['label'])]\n",
    "X_test = df_test\n",
    "\n",
    "X = df_train_val.drop(columns=['label'])\n",
    "y = df_train_val[['label']]\n",
    "\n",
    "usedFeatures = ['applicants', 'applicants_per_day', 'Description Length']\n",
    "\n",
    "X_train, X_val, y_train, y_val = train_test_split(X, y, test_size=0.25, random_state=777, stratify=y)\n",
    "\n",
    "final_features_train = [X_train[usedFeatures]]\n",
    "final_features_val = [X_val[usedFeatures]]\n",
    "final_features_test = [X_test[usedFeatures]]\n",
    "\n",
    "final_vects_train = []\n",
    "final_vects_val = []\n",
    "final_vects_test = []\n",
    "\n",
    "feature_names += usedFeatures"
   ]
  },
  {
   "cell_type": "code",
   "execution_count": 8,
   "metadata": {},
   "outputs": [],
   "source": [
    "from feature_extractor import all_columns_dict\n",
    "categorical_fields = ['Seniority level', 'Employment type', 'Job function', 'Industries']\n",
    "\n",
    "for field in categorical_fields:\n",
    "    feature_names += all_columns_dict[field]\n",
    "    final_features_train.append(get_ohe_features(X_train, field))\n",
    "    final_features_val.append(get_ohe_features(X_val, field))\n",
    "    final_features_test.append(get_ohe_features(X_test, field))"
   ]
  },
  {
   "cell_type": "code",
   "execution_count": 9,
   "metadata": {
    "tags": []
   },
   "outputs": [
    {
     "output_type": "stream",
     "name": "stdout",
     "text": "(511, 25)\n"
    }
   ],
   "source": [
    "from sklearn.feature_extraction.text import TfidfVectorizer\n",
    "\n",
    "title_vec = TfidfVectorizer(min_df=10, ngram_range=(1,1), stop_words=stop_words)\n",
    "title_bow_train = title_vec.fit_transform(X_train['title'])\n",
    "title_bow_val = title_vec.transform(X_val['title'])\n",
    "title_bow_test = title_vec.transform(X_test['title'])\n",
    "\n",
    "print(title_bow_train.shape)\n",
    "\n",
    "final_vects_train.append(title_bow_train)\n",
    "final_vects_val.append(title_bow_val)\n",
    "final_vects_test.append(title_bow_test)\n",
    "\n",
    "feature_names += title_vec.get_feature_names()"
   ]
  },
  {
   "cell_type": "code",
   "execution_count": 10,
   "metadata": {
    "tags": []
   },
   "outputs": [
    {
     "output_type": "stream",
     "name": "stdout",
     "text": "(511, 7588)\n"
    }
   ],
   "source": [
    "desc_vec = TfidfVectorizer(min_df=5, ngram_range=(1,4), stop_words=stop_words)\n",
    "desc_bow_train = desc_vec.fit_transform(X_train['description'])\n",
    "desc_bow_val = desc_vec.transform(X_val['description'])\n",
    "desc_bow_test = desc_vec.transform(X_test['description'])\n",
    "\n",
    "print(desc_bow_train.shape)\n",
    "\n",
    "final_vects_train.append(desc_bow_train)\n",
    "final_vects_val.append(desc_bow_val)\n",
    "final_vects_test.append(desc_bow_test)\n",
    "\n",
    "feature_names += desc_vec.get_feature_names()"
   ]
  },
  {
   "cell_type": "code",
   "execution_count": 11,
   "metadata": {},
   "outputs": [],
   "source": [
    "from scipy.sparse import hstack\n",
    "\n",
    "X_train_full = hstack(final_features_train + final_vects_train)\n",
    "X_val_full = hstack(final_features_val + final_vects_val)\n",
    "X_test_full = hstack(final_features_test + final_vects_test)"
   ]
  },
  {
   "cell_type": "code",
   "execution_count": 12,
   "metadata": {},
   "outputs": [],
   "source": [
    "#feature_names"
   ]
  },
  {
   "cell_type": "code",
   "execution_count": 13,
   "metadata": {},
   "outputs": [
    {
     "output_type": "execute_result",
     "data": {
      "text/plain": "RandomForestClassifier(bootstrap=True, ccp_alpha=0.0, class_weight='balanced',\n                       criterion='gini', max_depth=None, max_features='auto',\n                       max_leaf_nodes=None, max_samples=None,\n                       min_impurity_decrease=0.0, min_impurity_split=None,\n                       min_samples_leaf=5, min_samples_split=2,\n                       min_weight_fraction_leaf=0.0, n_estimators=1000,\n                       n_jobs=-1, oob_score=False, random_state=0, verbose=0,\n                       warm_start=False)"
     },
     "metadata": {},
     "execution_count": 13
    }
   ],
   "source": [
    "from sklearn.ensemble import RandomForestClassifier\n",
    "\n",
    "mdl_rf = RandomForestClassifier(n_estimators=1000, random_state=0, class_weight=\"balanced\", n_jobs=-1, min_samples_leaf=5)\n",
    "mdl_rf.fit(X_train_full, y_train)"
   ]
  },
  {
   "cell_type": "code",
   "execution_count": 14,
   "metadata": {
    "tags": []
   },
   "outputs": [
    {
     "output_type": "stream",
     "name": "stdout",
     "text": "Precision: 73.45%\tAUC: 0.865\n"
    }
   ],
   "source": [
    "from sklearn.metrics import roc_auc_score, average_precision_score\n",
    "\n",
    "p = mdl_rf.predict_proba(X_val_full)[:, 1]\n",
    "\n",
    "precision = average_precision_score(y_val, p)\n",
    "auc = roc_auc_score(y_val, p)\n",
    "\n",
    "print(\"Precision: {:.2f}%\\tAUC: {:.3f}\".format(precision*100, auc))"
   ]
  },
  {
   "cell_type": "code",
   "execution_count": 15,
   "metadata": {},
   "outputs": [
    {
     "output_type": "execute_result",
     "data": {
      "text/plain": "(171, 7743)"
     },
     "metadata": {},
     "execution_count": 15
    }
   ],
   "source": [
    "X_val_full.shape"
   ]
  },
  {
   "cell_type": "code",
   "execution_count": 16,
   "metadata": {
    "tags": []
   },
   "outputs": [
    {
     "output_type": "stream",
     "name": "stdout",
     "text": "k = 1400 - MAE = 0.7368849419547637\n"
    }
   ],
   "source": [
    "from sklearn.feature_selection import SelectKBest, SelectPercentile, f_regression, f_classif\n",
    "from sklearn.metrics import mean_absolute_error\n",
    "from sklearn.ensemble import RandomForestRegressor\n",
    "\n",
    "k_vs_score = []\n",
    "\n",
    "k = 1400\n",
    "selector = SelectKBest(score_func=f_classif, k=k)\n",
    "\n",
    "Xtrain2 = selector.fit_transform(X_train_full, y_train)\n",
    "Xval2 = selector.transform(X_val_full)\n",
    "\n",
    "mdl = RandomForestRegressor(n_estimators=1000, n_jobs=-1, random_state=0, min_samples_leaf=5)\n",
    "mdl.fit(Xtrain2, y_train)\n",
    "\n",
    "p = mdl.predict(Xval2)\n",
    "\n",
    "score = average_precision_score(y_val, p)\n",
    "print(\"k = {} - MAE = {}\".format(k, score))\n",
    "\n",
    "k_vs_score.append(score)\n"
   ]
  },
  {
   "cell_type": "code",
   "execution_count": 17,
   "metadata": {},
   "outputs": [],
   "source": [
    "# Precision: 68.71%\tAUC: 0.900 - title_vec = (min_df=3, ngram_range=(1,2) desc_vec =(min_df=4, ngram_range=(1,3)\n",
    "# Precision: 71.35%\tAUC: 0.875 "
   ]
  },
  {
   "cell_type": "code",
   "execution_count": 18,
   "metadata": {},
   "outputs": [],
   "source": [
    "import itertools\n",
    "\n",
    "mask = selector.get_support()\n",
    "#list(itertools.compress(feature_names, mask))"
   ]
  },
  {
   "cell_type": "code",
   "execution_count": 19,
   "metadata": {},
   "outputs": [],
   "source": [
    "from lightgbm import LGBMClassifier"
   ]
  },
  {
   "cell_type": "code",
   "execution_count": 20,
   "metadata": {},
   "outputs": [
    {
     "output_type": "execute_result",
     "data": {
      "text/plain": "LGBMClassifier(boosting_type='gbdt', class_weight='balanced',\n               colsample_bytree=1.0, importance_type='split', learning_rate=0.1,\n               max_depth=-1, min_child_samples=20, min_child_weight=0.001,\n               min_split_gain=0.0, n_estimators=100, n_jobs=-1, num_leaves=31,\n               objective=None, random_state=0, reg_alpha=0.0, reg_lambda=0.0,\n               silent=True, subsample=1.0, subsample_for_bin=200000,\n               subsample_freq=0)"
     },
     "metadata": {},
     "execution_count": 20
    }
   ],
   "source": [
    "mdl = LGBMClassifier(random_state=0, class_weight=\"balanced\", n_jobs=-1)\n",
    "mdl.fit(X_train_full, y_train)"
   ]
  },
  {
   "cell_type": "code",
   "execution_count": 21,
   "metadata": {
    "tags": []
   },
   "outputs": [
    {
     "output_type": "stream",
     "name": "stdout",
     "text": "Precision: 76.89%\tAUC: 0.868\n"
    }
   ],
   "source": [
    "p = mdl.predict_proba(X_val_full)[:, 1]\n",
    "\n",
    "precision = average_precision_score(y_val, p)\n",
    "auc = roc_auc_score(y_val, p)\n",
    "\n",
    "print(\"Precision: {:.2f}%\\tAUC: {:.3f}\".format(precision*100, auc))"
   ]
  },
  {
   "cell_type": "code",
   "execution_count": 22,
   "metadata": {},
   "outputs": [],
   "source": [
    "from skopt import forest_minimize"
   ]
  },
  {
   "cell_type": "code",
   "execution_count": 23,
   "metadata": {},
   "outputs": [
    {
     "output_type": "execute_result",
     "data": {
      "text/plain": "(label    0.232877\n dtype: float64,\n label    0.233918\n dtype: float64)"
     },
     "metadata": {},
     "execution_count": 23
    }
   ],
   "source": [
    "y_train.mean(), y_val.mean()"
   ]
  },
  {
   "cell_type": "code",
   "execution_count": 24,
   "metadata": {
    "tags": [
     "outputPrepend"
    ]
   },
   "outputs": [
    {
     "output_type": "stream",
     "name": "stdout",
     "text": "um: -0.7917\nIteration No: 35 started. Evaluating function at random point.\n[0.03485552780947716, 3, 16, 0.9824024873308342, 0.6279493869140963, 5, 2]\n0.8633587786259542\nIteration No: 35 ended. Evaluation done at random point.\nTime taken: 0.8225\nFunction value obtained: -0.7321\nCurrent minimum: -0.7917\nIteration No: 36 started. Evaluating function at random point.\n[0.028412685616154454, 6, 13, 0.196771888771214, 0.7526360135581259, 3, 3]\n0.8579198473282442\nIteration No: 36 ended. Evaluation done at random point.\nTime taken: 1.6790\nFunction value obtained: -0.7343\nCurrent minimum: -0.7917\nIteration No: 37 started. Evaluating function at random point.\n[0.048938517872981674, 10, 11, 0.0697130003282783, 0.21710212089182218, 3, 4]\n0.8577290076335878\nIteration No: 37 ended. Evaluation done at random point.\nTime taken: 2.2525\nFunction value obtained: -0.7511\nCurrent minimum: -0.7917\nIteration No: 38 started. Evaluating function at random point.\n[0.010700332067545254, 7, 20, 0.8026304928396812, 0.6001303211296966, 7, 4]\n0.8453244274809161\nIteration No: 38 ended. Evaluation done at random point.\nTime taken: 1.8690\nFunction value obtained: -0.7076\nCurrent minimum: -0.7917\nIteration No: 39 started. Evaluating function at random point.\n[0.010287690621154422, 8, 27, 0.9944124138949809, 0.1413993943354166, 2, 4]\n0.8951335877862595\nIteration No: 39 ended. Evaluation done at random point.\nTime taken: 1.9780\nFunction value obtained: -0.7789\nCurrent minimum: -0.7917\nIteration No: 40 started. Evaluating function at random point.\n[0.03783194908170934, 7, 25, 0.4821630405609128, 0.4226979802584025, 2, 1]\n0.8901717557251909\nIteration No: 40 ended. Evaluation done at random point.\nTime taken: 0.9030\nFunction value obtained: -0.7785\nCurrent minimum: -0.7917\nIteration No: 41 started. Searching for the next optimal point.\n[0.012409558673688549, 1, 28, 0.9509421845670653, 0.16526167777168757, 2, 4]\n0.8350190839694656\nIteration No: 41 ended. Search finished for the next optimal point.\nTime taken: 2.0930\nFunction value obtained: -0.5709\nCurrent minimum: -0.7917\nIteration No: 42 started. Searching for the next optimal point.\n[0.08181182330543005, 1, 29, 0.7782196855514854, 0.12949183721325666, 8, 3]\n0.8562022900763359\nIteration No: 42 ended. Search finished for the next optimal point.\nTime taken: 1.4085\nFunction value obtained: -0.7007\nCurrent minimum: -0.7917\nIteration No: 43 started. Searching for the next optimal point.\n[0.010855672983390368, 3, 28, 0.9097049225938899, 0.06413958556838512, 6, 3]\n0.8895992366412214\nIteration No: 43 ended. Search finished for the next optimal point.\nTime taken: 1.4470\nFunction value obtained: -0.7601\nCurrent minimum: -0.7917\nIteration No: 44 started. Searching for the next optimal point.\n[0.01266610300077407, 4, 11, 0.769401169093079, 0.09687089966670437, 7, 3]\n0.8911259541984733\nIteration No: 44 ended. Search finished for the next optimal point.\nTime taken: 1.5285\nFunction value obtained: -0.7951\nCurrent minimum: -0.7951\nIteration No: 45 started. Searching for the next optimal point.\n[0.012173485832451309, 5, 27, 0.9942126041090663, 0.2444217826563454, 7, 4]\n0.8875000000000001\nIteration No: 45 ended. Search finished for the next optimal point.\nTime taken: 1.8220\nFunction value obtained: -0.7732\nCurrent minimum: -0.7951\nIteration No: 46 started. Searching for the next optimal point.\n[0.013947648398406069, 1, 13, 0.8474090858587148, 0.07147327930964613, 7, 4]\n0.8865458015267175\nIteration No: 46 ended. Search finished for the next optimal point.\nTime taken: 1.8595\nFunction value obtained: -0.7388\nCurrent minimum: -0.7951\nIteration No: 47 started. Searching for the next optimal point.\n[0.02088477308562588, 4, 28, 0.9587323605937723, 0.07132332884705184, 2, 4]\n0.8831106870229009\nIteration No: 47 ended. Search finished for the next optimal point.\nTime taken: 2.1645\nFunction value obtained: -0.7398\nCurrent minimum: -0.7951\nIteration No: 48 started. Searching for the next optimal point.\n[0.09539370836166176, 4, 10, 0.8754051323067591, 0.880627010752255, 7, 3]\n0.8320610687022901\nIteration No: 48 ended. Search finished for the next optimal point.\nTime taken: 1.6620\nFunction value obtained: -0.7451\nCurrent minimum: -0.7951\nIteration No: 49 started. Searching for the next optimal point.\n[0.01134145164032837, 1, 10, 0.9108529305970615, 0.07685712803894489, 6, 1]\n0.8719465648854962\nIteration No: 49 ended. Search finished for the next optimal point.\nTime taken: 0.6765\nFunction value obtained: -0.7106\nCurrent minimum: -0.7951\nIteration No: 50 started. Searching for the next optimal point.\n[0.09283532817845022, 2, 14, 0.44018440413384297, 0.8894876938907212, 5, 3]\n0.857442748091603\nIteration No: 50 ended. Search finished for the next optimal point.\nTime taken: 1.4555\nFunction value obtained: -0.7665\nCurrent minimum: -0.7951\nIteration No: 51 started. Searching for the next optimal point.\n[0.011716283440048119, 5, 30, 0.9461130485305626, 0.14532043179201187, 5, 4]\n0.9000954198473282\nIteration No: 51 ended. Search finished for the next optimal point.\nTime taken: 1.7730\nFunction value obtained: -0.7973\nCurrent minimum: -0.7973\nIteration No: 52 started. Searching for the next optimal point.\n[0.01025413875005514, 2, 26, 0.8023034425270331, 0.1309851070156744, 2, 4]\n0.8854007633587786\nIteration No: 52 ended. Search finished for the next optimal point.\nTime taken: 2.0040\nFunction value obtained: -0.7149\nCurrent minimum: -0.7973\nIteration No: 53 started. Searching for the next optimal point.\n[0.01333120413878759, 4, 13, 0.8651082351900362, 0.3233362380847672, 6, 4]\n0.857824427480916\nIteration No: 53 ended. Search finished for the next optimal point.\nTime taken: 1.8405\nFunction value obtained: -0.7468\nCurrent minimum: -0.7973\nIteration No: 54 started. Searching for the next optimal point.\n[0.06089412333896191, 3, 14, 0.5920647262726844, 0.9407994568691784, 8, 4]\n0.8480916030534351\nIteration No: 54 ended. Search finished for the next optimal point.\nTime taken: 1.8135\nFunction value obtained: -0.7386\nCurrent minimum: -0.7973\nIteration No: 55 started. Searching for the next optimal point.\n[0.08781919390790022, 1, 22, 0.645583934820997, 0.898024398282259, 6, 4]\n0.8535305343511451\nIteration No: 55 ended. Search finished for the next optimal point.\nTime taken: 1.7385\nFunction value obtained: -0.7067\nCurrent minimum: -0.7973\nIteration No: 56 started. Searching for the next optimal point.\n[0.01193721714411457, 1, 11, 0.14375849450206654, 0.2096779400274889, 5, 4]\n0.8590648854961832\nIteration No: 56 ended. Search finished for the next optimal point.\nTime taken: 1.7690\nFunction value obtained: -0.7052\nCurrent minimum: -0.7973\nIteration No: 57 started. Searching for the next optimal point.\n[0.012084329724864545, 4, 28, 0.6414278239499758, 0.16607235625133027, 3, 4]\n0.8903625954198473\nIteration No: 57 ended. Search finished for the next optimal point.\nTime taken: 1.8245\nFunction value obtained: -0.7732\nCurrent minimum: -0.7973\nIteration No: 58 started. Searching for the next optimal point.\n[0.08783091875202488, 1, 11, 0.4292513885782461, 0.8762022249667412, 5, 4]\n0.8487595419847328\nIteration No: 58 ended. Search finished for the next optimal point.\nTime taken: 1.8170\nFunction value obtained: -0.6699\nCurrent minimum: -0.7973\nIteration No: 59 started. Searching for the next optimal point.\n[0.03580118417958281, 12, 11, 0.8268138612871759, 0.9113344220631718, 5, 2]\n0.8355916030534352\nIteration No: 59 ended. Search finished for the next optimal point.\nTime taken: 3.3400\nFunction value obtained: -0.7326\nCurrent minimum: -0.7973\nIteration No: 60 started. Searching for the next optimal point.\n[0.03355355739804825, 2, 14, 0.9100416473274133, 0.927981396740857, 6, 3]\n0.8500954198473283\nIteration No: 60 ended. Search finished for the next optimal point.\nTime taken: 1.4370\nFunction value obtained: -0.6932\nCurrent minimum: -0.7973\nIteration No: 61 started. Searching for the next optimal point.\n[0.01138227559935607, 2, 14, 0.9453190533047036, 0.3394452909625813, 8, 4]\n0.8563931297709924\nIteration No: 61 ended. Search finished for the next optimal point.\nTime taken: 1.8835\nFunction value obtained: -0.7002\nCurrent minimum: -0.7973\nIteration No: 62 started. Searching for the next optimal point.\n[0.013474400611169071, 3, 27, 0.9693873636667399, 0.10720428716107006, 2, 3]\n0.8962786259541985\nIteration No: 62 ended. Search finished for the next optimal point.\nTime taken: 1.6110\nFunction value obtained: -0.7682\nCurrent minimum: -0.7973\nIteration No: 63 started. Searching for the next optimal point.\n[0.011951213511476603, 4, 18, 0.9898657765427205, 0.12288487052578782, 2, 4]\n0.8854007633587787\nIteration No: 63 ended. Search finished for the next optimal point.\nTime taken: 2.9850\nFunction value obtained: -0.7552\nCurrent minimum: -0.7973\nIteration No: 64 started. Searching for the next optimal point.\n[0.010243176312424423, 5, 28, 0.9947029804953198, 0.3552118895843972, 4, 2]\n0.8691793893129771\nIteration No: 64 ended. Search finished for the next optimal point.\nTime taken: 1.6360\nFunction value obtained: -0.7314\nCurrent minimum: -0.7973\nIteration No: 65 started. Searching for the next optimal point.\n[0.03092151860931297, 3, 18, 0.796414740212184, 0.8962230527484303, 8, 3]\n0.8514312977099238\nIteration No: 65 ended. Search finished for the next optimal point.\nTime taken: 2.1425\nFunction value obtained: -0.7324\nCurrent minimum: -0.7973\nIteration No: 66 started. Searching for the next optimal point.\n[0.09037989780611488, 1, 27, 0.7069500545560926, 0.9718587800017852, 4, 3]\n0.8549618320610686\nIteration No: 66 ended. Search finished for the next optimal point.\nTime taken: 1.6635\nFunction value obtained: -0.7234\nCurrent minimum: -0.7973\nIteration No: 67 started. Searching for the next optimal point.\n[0.01204974688116034, 4, 28, 0.847373325687228, 0.2076308405824553, 6, 3]\n0.8813931297709924\nIteration No: 67 ended. Search finished for the next optimal point.\nTime taken: 2.2725\nFunction value obtained: -0.7634\nCurrent minimum: -0.7973\nIteration No: 68 started. Searching for the next optimal point.\n[0.011641824180104482, 1, 11, 0.10411956516236723, 0.29129992640404756, 2, 3]\n0.8290076335877862\nIteration No: 68 ended. Search finished for the next optimal point.\nTime taken: 1.8955\nFunction value obtained: -0.5377\nCurrent minimum: -0.7973\nIteration No: 69 started. Searching for the next optimal point.\n[0.012702372010174401, 1, 30, 0.9064331976852175, 0.21212087155776982, 6, 3]\n0.8496183206106871\nIteration No: 69 ended. Search finished for the next optimal point.\nTime taken: 1.5115\nFunction value obtained: -0.6809\nCurrent minimum: -0.7973\nIteration No: 70 started. Searching for the next optimal point.\n[0.01196042243586057, 2, 12, 0.9630153928329526, 0.22108836529451775, 2, 3]\n0.8645992366412213\nIteration No: 70 ended. Search finished for the next optimal point.\nTime taken: 1.6850\nFunction value obtained: -0.7267\nCurrent minimum: -0.7973\nIteration No: 71 started. Searching for the next optimal point.\n[0.011901602625013007, 6, 22, 0.12306168477713786, 0.20785800056076492, 2, 3]\n0.8750954198473282\nIteration No: 71 ended. Search finished for the next optimal point.\nTime taken: 1.7275\nFunction value obtained: -0.7463\nCurrent minimum: -0.7973\nIteration No: 72 started. Searching for the next optimal point.\n[0.012168431367904237, 4, 12, 0.05400625535180432, 0.15479404292341695, 7, 1]\n0.8903625954198473\nIteration No: 72 ended. Search finished for the next optimal point.\nTime taken: 0.7770\nFunction value obtained: -0.7754\nCurrent minimum: -0.7973\nIteration No: 73 started. Searching for the next optimal point.\n[0.012273861221667914, 4, 29, 0.8588971038762577, 0.1638513796294418, 2, 4]\n0.8871183206106871\nIteration No: 73 ended. Search finished for the next optimal point.\nTime taken: 2.1610\nFunction value obtained: -0.7417\nCurrent minimum: -0.7973\nIteration No: 74 started. Searching for the next optimal point.\n[0.016177930656548038, 2, 29, 0.1259453034367024, 0.30178227990773826, 2, 3]\n0.8720419847328245\nIteration No: 74 ended. Search finished for the next optimal point.\nTime taken: 1.5570\nFunction value obtained: -0.7156\nCurrent minimum: -0.7973\nIteration No: 75 started. Searching for the next optimal point.\n[0.013392169066317686, 1, 12, 0.6692708055734083, 0.20576786176563006, 6, 1]\n0.8573473282442747\nIteration No: 75 ended. Search finished for the next optimal point.\nTime taken: 0.7220\nFunction value obtained: -0.7151\nCurrent minimum: -0.7973\nIteration No: 76 started. Searching for the next optimal point.\n[0.010816601592852365, 5, 15, 0.08224559350465722, 0.30004363801205586, 7, 3]\n0.8669847328244275\nIteration No: 76 ended. Search finished for the next optimal point.\nTime taken: 1.5945\nFunction value obtained: -0.7552\nCurrent minimum: -0.7973\nIteration No: 77 started. Searching for the next optimal point.\n[0.01418932395290435, 1, 11, 0.13064432151013478, 0.3643803899941109, 8, 3]\n0.846469465648855\nIteration No: 77 ended. Search finished for the next optimal point.\nTime taken: 1.4485\nFunction value obtained: -0.6338\nCurrent minimum: -0.7973\nIteration No: 78 started. Searching for the next optimal point.\n[0.013916237162269758, 11, 12, 0.1043779551258199, 0.2883552078817853, 2, 3]\n0.8476145038167938\nIteration No: 78 ended. Search finished for the next optimal point.\nTime taken: 2.7645\nFunction value obtained: -0.6989\nCurrent minimum: -0.7973\nIteration No: 79 started. Searching for the next optimal point.\n[0.010473275435306498, 1, 10, 0.9932171794423351, 0.22883594628166815, 7, 3]\n0.8524809160305343\nIteration No: 79 ended. Search finished for the next optimal point.\nTime taken: 1.5140\nFunction value obtained: -0.6692\nCurrent minimum: -0.7973\nIteration No: 80 started. Searching for the next optimal point.\n[0.019972176873319394, 2, 10, 0.11595844318392343, 0.27007919009230663, 4, 1]\n0.8803435114503817\nIteration No: 80 ended. Search finished for the next optimal point.\nTime taken: 0.7685\nFunction value obtained: -0.7627\nCurrent minimum: -0.7973\nIteration No: 81 started. Searching for the next optimal point.\n[0.01182079260835908, 4, 11, 0.4417945013092529, 0.2792049009521953, 6, 1]\n0.8728053435114503\nIteration No: 81 ended. Search finished for the next optimal point.\nTime taken: 0.8835\nFunction value obtained: -0.7362\nCurrent minimum: -0.7973\nIteration No: 82 started. Searching for the next optimal point.\n[0.02651126644562133, 1, 22, 0.307436547969022, 0.10990958734833854, 2, 2]\n0.859351145038168\nIteration No: 82 ended. Search finished for the next optimal point.\nTime taken: 1.1095\nFunction value obtained: -0.6678\nCurrent minimum: -0.7973\nIteration No: 83 started. Searching for the next optimal point.\n[0.01619915681592412, 6, 17, 0.7629557060188418, 0.05190839753153961, 7, 2]\n0.898091603053435\nIteration No: 83 ended. Search finished for the next optimal point.\nTime taken: 1.1250\nFunction value obtained: -0.7943\nCurrent minimum: -0.7973\nIteration No: 84 started. Searching for the next optimal point.\n[0.014611563185203706, 7, 10, 0.741053656933482, 0.4498068891760833, 8, 1]\n0.8452290076335878\nIteration No: 84 ended. Search finished for the next optimal point.\nTime taken: 1.0940\nFunction value obtained: -0.6787\nCurrent minimum: -0.7973\nIteration No: 85 started. Searching for the next optimal point.\n[0.02246787419191158, 6, 12, 0.561186764489405, 0.05187922373655829, 8, 1]\n0.880057251908397\nIteration No: 85 ended. Search finished for the next optimal point.\nTime taken: 0.8425\nFunction value obtained: -0.7433\nCurrent minimum: -0.7973\nIteration No: 86 started. Searching for the next optimal point.\n[0.01898388288060316, 2, 12, 0.08647666949148528, 0.903813484691855, 4, 2]\n0.8226145038167939\nIteration No: 86 ended. Search finished for the next optimal point.\nTime taken: 1.1580\nFunction value obtained: -0.6283\nCurrent minimum: -0.7973\nIteration No: 87 started. Searching for the next optimal point.\n[0.011205015609092265, 5, 11, 0.34901000328627985, 0.09792458038420342, 7, 4]\n0.8689885496183206\nIteration No: 87 ended. Search finished for the next optimal point.\nTime taken: 2.0345\nFunction value obtained: -0.7577\nCurrent minimum: -0.7973\nIteration No: 88 started. Searching for the next optimal point.\n[0.06871511476874455, 2, 10, 0.09920393009256218, 0.766747752236414, 7, 2]\n0.8432251908396947\nIteration No: 88 ended. Search finished for the next optimal point.\nTime taken: 1.1350\nFunction value obtained: -0.7193\nCurrent minimum: -0.7973\nIteration No: 89 started. Searching for the next optimal point.\n[0.027525354034114026, 11, 13, 0.9375423776062427, 0.9678824615335616, 3, 1]\n0.8418893129770992\nIteration No: 89 ended. Search finished for the next optimal point.\nTime taken: 1.9465\nFunction value obtained: -0.6818\nCurrent minimum: -0.7973\nIteration No: 90 started. Searching for the next optimal point.\n[0.012477284162764078, 4, 30, 0.06126107092735955, 0.9169564646650589, 7, 2]\n0.833206106870229\nIteration No: 90 ended. Search finished for the next optimal point.\nTime taken: 1.0965\nFunction value obtained: -0.6472\nCurrent minimum: -0.7973\nIteration No: 91 started. Searching for the next optimal point.\n[0.015210098162511655, 12, 22, 0.9488418576148965, 0.08657494584068799, 8, 1]\n0.8842557251908396\nIteration No: 91 ended. Search finished for the next optimal point.\nTime taken: 2.4450\nFunction value obtained: -0.7491\nCurrent minimum: -0.7973\nIteration No: 92 started. Searching for the next optimal point.\n[0.04134147160244801, 3, 26, 0.8952029408954697, 0.13634949334766627, 8, 4]\n0.894942748091603\nIteration No: 92 ended. Search finished for the next optimal point.\nTime taken: 1.8345\nFunction value obtained: -0.7869\nCurrent minimum: -0.7973\nIteration No: 93 started. Searching for the next optimal point.\n[0.010327125073860896, 1, 19, 0.1229419496153626, 0.0971080309358824, 4, 4]\n0.8591603053435115\nIteration No: 93 ended. Search finished for the next optimal point.\nTime taken: 1.8655\nFunction value obtained: -0.6975\nCurrent minimum: -0.7973\nIteration No: 94 started. Searching for the next optimal point.\n[0.020357819231730263, 1, 24, 0.985894500649366, 0.30633594090947164, 7, 4]\n0.8436068702290076\nIteration No: 94 ended. Search finished for the next optimal point.\nTime taken: 1.8330\nFunction value obtained: -0.6113\nCurrent minimum: -0.7973\nIteration No: 95 started. Searching for the next optimal point.\n[0.07024278660735796, 5, 28, 0.9946321731866946, 0.15951626351005943, 2, 4]\n0.8672709923664123\nIteration No: 95 ended. Search finished for the next optimal point.\nTime taken: 2.1375\nFunction value obtained: -0.7299\nCurrent minimum: -0.7973\nIteration No: 96 started. Searching for the next optimal point.\n[0.026457598909657324, 5, 12, 0.8283519532358901, 0.6944251678593816, 5, 4]\n0.851908396946565\nIteration No: 96 ended. Search finished for the next optimal point.\nTime taken: 2.1345\nFunction value obtained: -0.7402\nCurrent minimum: -0.7973\nIteration No: 97 started. Searching for the next optimal point.\n[0.015374183401263574, 6, 16, 0.9876915655722421, 0.15314232601592595, 8, 4]\n0.8817748091603054\nIteration No: 97 ended. Search finished for the next optimal point.\nTime taken: 1.9855\nFunction value obtained: -0.7803\nCurrent minimum: -0.7973\nIteration No: 98 started. Searching for the next optimal point.\n[0.026492675004564373, 4, 18, 0.33200688889936497, 0.8928972977485463, 5, 3]\n0.8406488549618321\nIteration No: 98 ended. Search finished for the next optimal point.\nTime taken: 1.5850\nFunction value obtained: -0.7115\nCurrent minimum: -0.7973\nIteration No: 99 started. Searching for the next optimal point.\n[0.025907120243202637, 2, 26, 0.861824725180687, 0.23938091190793265, 8, 4]\n0.862881679389313\nIteration No: 99 ended. Search finished for the next optimal point.\nTime taken: 1.8115\nFunction value obtained: -0.7324\nCurrent minimum: -0.7973\nIteration No: 100 started. Searching for the next optimal point.\n[0.01026932145263894, 3, 27, 0.5992117486795592, 0.4802474204791552, 7, 4]\n0.8474236641221374\nIteration No: 100 ended. Search finished for the next optimal point.\nTime taken: 1.8845\nFunction value obtained: -0.6568\nCurrent minimum: -0.7973\n"
    }
   ],
   "source": [
    "def tune_lgbm(params):\n",
    "    print(params)\n",
    "    lr = params[0]\n",
    "    max_depth = params[1]\n",
    "    min_child_samples = params[2]\n",
    "    subsample = params[3]\n",
    "    colsample_bytree = params[4]\n",
    "    \n",
    "    min_df = params[5]\n",
    "    ngram_range = (1, params[6])\n",
    "\n",
    "    final_vects_train, final_vects_val = [], []\n",
    "    \n",
    "    title_vec = TfidfVectorizer(min_df=10, ngram_range=(1,1), stop_words=stop_words)\n",
    "    title_bow_train = title_vec.fit_transform(X_train['title'])\n",
    "    title_bow_val = title_vec.transform(X_val['title'])\n",
    "    \n",
    "    final_vects_train.append(title_bow_train)\n",
    "    final_vects_val.append(title_bow_val)\n",
    "\n",
    "    desc_vec = TfidfVectorizer(min_df=min_df, ngram_range=ngram_range, stop_words=stop_words)\n",
    "    desc_bow_train = desc_vec.fit_transform(X_train['description'])\n",
    "    desc_bow_val = desc_vec.transform(X_val['description'])\n",
    "\n",
    "    final_vects_train.append(desc_bow_train)\n",
    "    final_vects_val.append(desc_bow_val)\n",
    "\n",
    "    \n",
    "    \n",
    "    X_train_full = hstack(final_features_train + final_vects_train)\n",
    "    X_val_full = hstack(final_features_val + final_vects_val)\n",
    "\n",
    "\n",
    "    mdl_lgbm = LGBMClassifier(learning_rate=lr, num_leaves=2 ** max_depth, max_depth=max_depth,\n",
    "                            min_child_samples=min_child_samples, subsample=subsample, random_state=0, \n",
    "                            colsample_bytree=colsample_bytree, class_weight=\"balanced\", n_jobs=-1)\n",
    "\n",
    "    mdl_lgbm.fit(X_train_full, y_train)\n",
    "    \n",
    "    p = mdl_lgbm.predict_proba(X_val_full)[:, 1]\n",
    "    \n",
    "    print(roc_auc_score(y_val, p))\n",
    "    \n",
    "    return -average_precision_score(y_val, p)\n",
    "\n",
    "\n",
    "space = [(1e-2, 1e-1, 'log-uniform'), # lr\n",
    "          (1, 12), # max_depth\n",
    "          (10, 30), # min_child_samples\n",
    "          (0.05, 1.), # subsample\n",
    "          (0.05, 1.), # colsample_bytree\n",
    "          (2,8), # min_df desc\n",
    "          (1,4)] # ngram_range desc\n",
    "\n",
    "res = forest_minimize(tune_lgbm, space, random_state=7777, n_random_starts=40, n_calls=100, verbose=1)"
   ]
  },
  {
   "cell_type": "code",
   "execution_count": 37,
   "metadata": {},
   "outputs": [
    {
     "output_type": "execute_result",
     "data": {
      "text/plain": "[0.011716283440048119, 5, 30, 0.9461130485305626, 0.14532043179201187, 5, 4]"
     },
     "metadata": {},
     "execution_count": 37
    }
   ],
   "source": [
    "res.x"
   ]
  },
  {
   "cell_type": "code",
   "execution_count": 26,
   "metadata": {
    "tags": []
   },
   "outputs": [
    {
     "output_type": "stream",
     "name": "stdout",
     "text": "[0.012, 6, 28, 0.8, 0.1, 4, 3, 3, 4]\n0.8810114503816795\n"
    },
    {
     "output_type": "execute_result",
     "data": {
      "text/plain": "-0.7646462187480968"
     },
     "metadata": {},
     "execution_count": 26
    }
   ],
   "source": [
    "tune_lgbm([0.012,\n",
    " 6,\n",
    " 28,\n",
    " 0.8,\n",
    " 0.1,\n",
    " 4,\n",
    " 3,\n",
    " 3,\n",
    " 4])"
   ]
  },
  {
   "cell_type": "code",
   "execution_count": 38,
   "metadata": {
    "tags": []
   },
   "outputs": [
    {
     "output_type": "stream",
     "name": "stdout",
     "text": "Precision: 79.73%\tAUC: 0.900\n"
    }
   ],
   "source": [
    "params = [0.012, 6, 28, 0.8, 0.1, 4, 3, 3, 4]\n",
    "params = res.x\n",
    "lr = params[0]\n",
    "max_depth = params[1]\n",
    "min_child_samples = params[2]\n",
    "subsample = params[3]\n",
    "colsample_bytree = params[4]\n",
    "\n",
    "min_df = params[5]\n",
    "ngram_range = (1, params[6])\n",
    "\n",
    "final_vects_train, final_vects_val = [], []\n",
    "\n",
    "title_vec = TfidfVectorizer(min_df=10, ngram_range=(1,1), stop_words=stop_words)\n",
    "title_bow_train = title_vec.fit_transform(X_train['title'])\n",
    "title_bow_val = title_vec.transform(X_val['title'])\n",
    "\n",
    "final_vects_train.append(title_bow_train)\n",
    "final_vects_val.append(title_bow_val)\n",
    "\n",
    "desc_vec = TfidfVectorizer(min_df=min_df, ngram_range=ngram_range, stop_words=stop_words)\n",
    "desc_bow_train = desc_vec.fit_transform(X_train['description'])\n",
    "desc_bow_val = desc_vec.transform(X_val['description'])\n",
    "\n",
    "final_vects_train.append(desc_bow_train)\n",
    "final_vects_val.append(desc_bow_val)\n",
    "\n",
    "\n",
    "\n",
    "X_train_full = hstack(final_features_train + final_vects_train)\n",
    "X_val_full = hstack(final_features_val + final_vects_val)\n",
    "\n",
    "\n",
    "mdl_lgbm = LGBMClassifier(learning_rate=lr, num_leaves=2 ** max_depth, max_depth=max_depth,\n",
    "                        min_child_samples=min_child_samples, subsample=subsample, random_state=0, \n",
    "                        colsample_bytree=colsample_bytree, class_weight=\"balanced\", n_jobs=-1)\n",
    "\n",
    "mdl_lgbm.fit(X_train_full, y_train)\n",
    "\n",
    "p_lgbm = mdl_lgbm.predict_proba(X_val_full)[:, 1]\n",
    "\n",
    "precision = average_precision_score(y_val, p_lgbm)\n",
    "auc = roc_auc_score(y_val, p_lgbm)\n",
    "\n",
    "print(\"Precision: {:.2f}%\\tAUC: {:.3f}\".format(precision*100, auc))\n"
   ]
  },
  {
   "cell_type": "code",
   "execution_count": 39,
   "metadata": {
    "tags": []
   },
   "outputs": [
    {
     "output_type": "stream",
     "name": "stdout",
     "text": "Precision: 72.17%\tAUC: 0.846\n"
    }
   ],
   "source": [
    "mdl_rf = RandomForestClassifier(n_estimators=1000, random_state=0, class_weight=\"balanced\", n_jobs=-1, min_samples_leaf=2)\n",
    "mdl_rf.fit(X_train_full, y_train)\n",
    "\n",
    "\n",
    "p_rf = mdl_rf.predict_proba(X_val_full)[:, 1]\n",
    "\n",
    "precision = average_precision_score(y_val, p_rf)\n",
    "auc = roc_auc_score(y_val, p_rf)\n",
    "\n",
    "print(\"Precision: {:.2f}%\\tAUC: {:.3f}\".format(precision*100, auc))"
   ]
  },
  {
   "cell_type": "code",
   "execution_count": 40,
   "metadata": {},
   "outputs": [],
   "source": [
    "from sklearn.linear_model import LogisticRegression\n",
    "from sklearn.preprocessing import MaxAbsScaler\n",
    "from sklearn.pipeline import make_pipeline"
   ]
  },
  {
   "cell_type": "code",
   "execution_count": 41,
   "metadata": {
    "tags": []
   },
   "outputs": [
    {
     "output_type": "stream",
     "name": "stdout",
     "text": "Precision: 68.24%\tAUC: 0.816\n"
    }
   ],
   "source": [
    "lr_pipe =  make_pipeline(MaxAbsScaler(), LogisticRegression(C=2.0, penalty='l2', n_jobs=-1, random_state=777))\n",
    "lr_pipe.fit(X_train_full, y_train)\n",
    "\n",
    "p_lr = lr_pipe.predict_proba(X_val_full)[:, 1]\n",
    "\n",
    "\n",
    "precision = average_precision_score(y_val, p_lr)\n",
    "auc = roc_auc_score(y_val, p_lr)\n",
    "\n",
    "print(\"Precision: {:.2f}%\\tAUC: {:.3f}\".format(precision*100, auc))"
   ]
  },
  {
   "cell_type": "code",
   "execution_count": 42,
   "metadata": {},
   "outputs": [
    {
     "output_type": "execute_result",
     "data": {
      "text/plain": "            RF      LGBM        LR\nRF    1.000000  0.891790  0.854508\nLGBM  0.891790  1.000000  0.664495\nLR    0.854508  0.664495  1.000000",
      "text/html": "<div>\n<style scoped>\n    .dataframe tbody tr th:only-of-type {\n        vertical-align: middle;\n    }\n\n    .dataframe tbody tr th {\n        vertical-align: top;\n    }\n\n    .dataframe thead th {\n        text-align: right;\n    }\n</style>\n<table border=\"1\" class=\"dataframe\">\n  <thead>\n    <tr style=\"text-align: right;\">\n      <th></th>\n      <th>RF</th>\n      <th>LGBM</th>\n      <th>LR</th>\n    </tr>\n  </thead>\n  <tbody>\n    <tr>\n      <th>RF</th>\n      <td>1.000000</td>\n      <td>0.891790</td>\n      <td>0.854508</td>\n    </tr>\n    <tr>\n      <th>LGBM</th>\n      <td>0.891790</td>\n      <td>1.000000</td>\n      <td>0.664495</td>\n    </tr>\n    <tr>\n      <th>LR</th>\n      <td>0.854508</td>\n      <td>0.664495</td>\n      <td>1.000000</td>\n    </tr>\n  </tbody>\n</table>\n</div>"
     },
     "metadata": {},
     "execution_count": 42
    }
   ],
   "source": [
    "pd.DataFrame({\"RF\": p_rf, \"LGBM\" : p_lgbm, \"LR\" : p_lr}).corr()"
   ]
  },
  {
   "cell_type": "code",
   "execution_count": 50,
   "metadata": {},
   "outputs": [
    {
     "output_type": "execute_result",
     "data": {
      "text/plain": "(0.7407569210952109, 0.8731870229007633)"
     },
     "metadata": {},
     "execution_count": 50
    }
   ],
   "source": [
    "part_lgbm, part_rf, part_lr = .5, .3, .2\n",
    "p = part_lgbm * p_lgbm + part_rf * p_rf + part_lr * p_lr\n",
    "average_precision_score(y_val, p), roc_auc_score(y_val, p)"
   ]
  },
  {
   "cell_type": "code",
   "execution_count": 51,
   "metadata": {},
   "outputs": [],
   "source": [
    "import joblib as jb"
   ]
  },
  {
   "cell_type": "code",
   "execution_count": 52,
   "metadata": {},
   "outputs": [],
   "source": [
    "import datetime"
   ]
  },
  {
   "cell_type": "code",
   "execution_count": 53,
   "metadata": {},
   "outputs": [],
   "source": [
    "timestamp = datetime.datetime.now().strftime('%d_%b_%Y')"
   ]
  },
  {
   "cell_type": "code",
   "execution_count": 56,
   "metadata": {},
   "outputs": [
    {
     "output_type": "execute_result",
     "data": {
      "text/plain": "['../app/models/title_vec_26_Jul_2020.jb']"
     },
     "metadata": {},
     "execution_count": 56
    }
   ],
   "source": [
    "jb.dump(mdl_lgbm, f'../app/models/lgbm_{timestamp}.jb')\n",
    "jb.dump(mdl_rf, f'../app/models/rf_{timestamp}.jb')\n",
    "jb.dump(lr_pipe, f'../app/models/lr_{timestamp}.jb')\n",
    "jb.dump(desc_vec, f'../app/models/desc_vec_{timestamp}.jb')\n",
    "jb.dump(title_vec, f'../app/models/title_vec_{timestamp}.jb')"
   ]
  },
  {
   "cell_type": "code",
   "execution_count": null,
   "metadata": {},
   "outputs": [],
   "source": []
  }
 ],
 "metadata": {
  "language_info": {
   "codemirror_mode": {
    "name": "ipython",
    "version": 3
   },
   "file_extension": ".py",
   "mimetype": "text/x-python",
   "name": "python",
   "nbconvert_exporter": "python",
   "pygments_lexer": "ipython3",
   "version": "3.7.6-final"
  },
  "orig_nbformat": 2,
  "kernelspec": {
   "name": "python3",
   "display_name": "Python 3"
  }
 },
 "nbformat": 4,
 "nbformat_minor": 2
}