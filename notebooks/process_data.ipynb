{
 "cells": [
  {
   "cell_type": "code",
   "execution_count": 1,
   "metadata": {},
   "outputs": [],
   "source": [
    "import sys\n",
    "sys.path.append('../app/')"
   ]
  },
  {
   "cell_type": "code",
   "execution_count": 2,
   "metadata": {},
   "outputs": [],
   "source": [
    "from pymongo import MongoClient\n",
    "import pandas as pd\n",
    "from feature_extractor import get_ohe_features, get_portuguese_stop_words\n",
    "import os"
   ]
  },
  {
   "cell_type": "code",
   "execution_count": 3,
   "metadata": {},
   "outputs": [],
   "source": [
    "from sklearn.feature_extraction import text\n",
    "stop_words = text.ENGLISH_STOP_WORDS.union(get_portuguese_stop_words())"
   ]
  },
  {
   "cell_type": "code",
   "execution_count": 5,
   "metadata": {},
   "outputs": [],
   "source": [
    "client = MongoClient(os.environ.get('MONGO_URI'))\n",
    "db = client.linkedin\n",
    "collection = db.jobIds"
   ]
  },
  {
   "cell_type": "code",
   "execution_count": 6,
   "metadata": {},
   "outputs": [],
   "source": [
    "df = pd.DataFrame(list(collection.find({})))"
   ]
  },
  {
   "cell_type": "code",
   "execution_count": 7,
   "metadata": {},
   "outputs": [],
   "source": [
    "feature_names = []"
   ]
  },
  {
   "cell_type": "code",
   "execution_count": 8,
   "metadata": {},
   "outputs": [],
   "source": [
    "from sklearn.model_selection import train_test_split\n",
    "\n",
    "df['Description Length'] = df['description'].apply(len)\n",
    "\n",
    "df_train_val = df[pd.notna(df['label'])]\n",
    "df_test = df[~pd.notna(df['label'])]\n",
    "X_test = df_test\n",
    "\n",
    "X = df_train_val.drop(columns=['label'])\n",
    "y = df_train_val[['label']]\n",
    "\n",
    "usedFeatures = ['applicants', 'applicants_per_day', 'Description Length']\n",
    "\n",
    "X_train, X_val, y_train, y_val = train_test_split(X, y, test_size=0.25, random_state=777, stratify=y)\n",
    "\n",
    "final_features_train = [X_train[usedFeatures]]\n",
    "final_features_val = [X_val[usedFeatures]]\n",
    "final_features_test = [X_test[usedFeatures]]\n",
    "\n",
    "final_vects_train = []\n",
    "final_vects_val = []\n",
    "final_vects_test = []\n",
    "\n",
    "feature_names += usedFeatures"
   ]
  },
  {
   "cell_type": "code",
   "execution_count": 9,
   "metadata": {},
   "outputs": [],
   "source": [
    "from feature_extractor import all_columns_dict\n",
    "categorical_fields = ['Seniority level', 'Employment type', 'Job function', 'Industries']\n",
    "\n",
    "for field in categorical_fields:\n",
    "    feature_names += all_columns_dict[field]\n",
    "    final_features_train.append(get_ohe_features(X_train, field))\n",
    "    final_features_val.append(get_ohe_features(X_val, field))\n",
    "    final_features_test.append(get_ohe_features(X_test, field))"
   ]
  },
  {
   "cell_type": "code",
   "execution_count": 10,
   "metadata": {
    "tags": []
   },
   "outputs": [
    {
     "output_type": "stream",
     "name": "stdout",
     "text": "(511, 25)\n"
    }
   ],
   "source": [
    "from sklearn.feature_extraction.text import TfidfVectorizer\n",
    "\n",
    "title_vec = TfidfVectorizer(min_df=10, ngram_range=(1,1), stop_words=stop_words)\n",
    "title_bow_train = title_vec.fit_transform(X_train['title'])\n",
    "title_bow_val = title_vec.transform(X_val['title'])\n",
    "title_bow_test = title_vec.transform(X_test['title'])\n",
    "\n",
    "print(title_bow_train.shape)\n",
    "\n",
    "final_vects_train.append(title_bow_train)\n",
    "final_vects_val.append(title_bow_val)\n",
    "final_vects_test.append(title_bow_test)\n",
    "\n",
    "feature_names += title_vec.get_feature_names()"
   ]
  },
  {
   "cell_type": "code",
   "execution_count": 11,
   "metadata": {
    "tags": []
   },
   "outputs": [
    {
     "output_type": "stream",
     "name": "stdout",
     "text": "(511, 7686)\n"
    }
   ],
   "source": [
    "desc_vec = TfidfVectorizer(min_df=5, ngram_range=(1,4), stop_words=stop_words)\n",
    "desc_bow_train = desc_vec.fit_transform(X_train['description'])\n",
    "desc_bow_val = desc_vec.transform(X_val['description'])\n",
    "desc_bow_test = desc_vec.transform(X_test['description'])\n",
    "\n",
    "print(desc_bow_train.shape)\n",
    "\n",
    "final_vects_train.append(desc_bow_train)\n",
    "final_vects_val.append(desc_bow_val)\n",
    "final_vects_test.append(desc_bow_test)\n",
    "\n",
    "feature_names += desc_vec.get_feature_names()"
   ]
  },
  {
   "cell_type": "code",
   "execution_count": 12,
   "metadata": {},
   "outputs": [],
   "source": [
    "from scipy.sparse import hstack\n",
    "\n",
    "X_train_full = hstack(final_features_train + final_vects_train)\n",
    "X_val_full = hstack(final_features_val + final_vects_val)\n",
    "X_test_full = hstack(final_features_test + final_vects_test)"
   ]
  },
  {
   "cell_type": "code",
   "execution_count": 13,
   "metadata": {},
   "outputs": [],
   "source": [
    "#feature_names"
   ]
  },
  {
   "cell_type": "code",
   "execution_count": 14,
   "metadata": {},
   "outputs": [
    {
     "output_type": "execute_result",
     "data": {
      "text/plain": "RandomForestClassifier(bootstrap=True, ccp_alpha=0.0, class_weight='balanced',\n                       criterion='gini', max_depth=None, max_features='auto',\n                       max_leaf_nodes=None, max_samples=None,\n                       min_impurity_decrease=0.0, min_impurity_split=None,\n                       min_samples_leaf=5, min_samples_split=2,\n                       min_weight_fraction_leaf=0.0, n_estimators=1000,\n                       n_jobs=-1, oob_score=False, random_state=0, verbose=0,\n                       warm_start=False)"
     },
     "metadata": {},
     "execution_count": 14
    }
   ],
   "source": [
    "from sklearn.ensemble import RandomForestClassifier\n",
    "\n",
    "mdl_rf = RandomForestClassifier(n_estimators=1000, random_state=0, class_weight=\"balanced\", n_jobs=-1, min_samples_leaf=5)\n",
    "mdl_rf.fit(X_train_full, y_train)"
   ]
  },
  {
   "cell_type": "code",
   "execution_count": 15,
   "metadata": {
    "tags": []
   },
   "outputs": [
    {
     "output_type": "stream",
     "name": "stdout",
     "text": "Precision: 73.76%\tAUC: 0.871\n"
    }
   ],
   "source": [
    "from sklearn.metrics import roc_auc_score, average_precision_score\n",
    "\n",
    "p = mdl_rf.predict_proba(X_val_full)[:, 1]\n",
    "\n",
    "precision = average_precision_score(y_val, p)\n",
    "auc = roc_auc_score(y_val, p)\n",
    "\n",
    "print(\"Precision: {:.2f}%\\tAUC: {:.3f}\".format(precision*100, auc))"
   ]
  },
  {
   "cell_type": "code",
   "execution_count": 16,
   "metadata": {},
   "outputs": [
    {
     "output_type": "execute_result",
     "data": {
      "text/plain": "(171, 7841)"
     },
     "metadata": {},
     "execution_count": 16
    }
   ],
   "source": [
    "X_val_full.shape"
   ]
  },
  {
   "cell_type": "code",
   "execution_count": 17,
   "metadata": {
    "tags": []
   },
   "outputs": [
    {
     "output_type": "stream",
     "name": "stdout",
     "text": "k = 1400 - MAE = 0.7230305212479924\n"
    }
   ],
   "source": [
    "from sklearn.feature_selection import SelectKBest, SelectPercentile, f_regression, f_classif\n",
    "from sklearn.metrics import mean_absolute_error\n",
    "from sklearn.ensemble import RandomForestRegressor\n",
    "\n",
    "k_vs_score = []\n",
    "\n",
    "k = 1400\n",
    "selector = SelectKBest(score_func=f_classif, k=k)\n",
    "\n",
    "Xtrain2 = selector.fit_transform(X_train_full, y_train)\n",
    "Xval2 = selector.transform(X_val_full)\n",
    "\n",
    "mdl = RandomForestRegressor(n_estimators=1000, n_jobs=-1, random_state=0, min_samples_leaf=5)\n",
    "mdl.fit(Xtrain2, y_train)\n",
    "\n",
    "p = mdl.predict(Xval2)\n",
    "\n",
    "score = average_precision_score(y_val, p)\n",
    "print(\"k = {} - MAE = {}\".format(k, score))\n",
    "\n",
    "k_vs_score.append(score)\n"
   ]
  },
  {
   "cell_type": "code",
   "execution_count": 18,
   "metadata": {},
   "outputs": [],
   "source": [
    "# Precision: 68.71%\tAUC: 0.900 - title_vec = (min_df=3, ngram_range=(1,2) desc_vec =(min_df=4, ngram_range=(1,3)\n",
    "# Precision: 71.35%\tAUC: 0.875 "
   ]
  },
  {
   "cell_type": "code",
   "execution_count": 19,
   "metadata": {},
   "outputs": [],
   "source": [
    "import itertools\n",
    "\n",
    "mask = selector.get_support()\n",
    "#list(itertools.compress(feature_names, mask))"
   ]
  },
  {
   "cell_type": "code",
   "execution_count": 20,
   "metadata": {},
   "outputs": [],
   "source": [
    "from lightgbm import LGBMClassifier"
   ]
  },
  {
   "cell_type": "code",
   "execution_count": 21,
   "metadata": {},
   "outputs": [
    {
     "output_type": "execute_result",
     "data": {
      "text/plain": "LGBMClassifier(boosting_type='gbdt', class_weight='balanced',\n               colsample_bytree=1.0, importance_type='split', learning_rate=0.1,\n               max_depth=-1, min_child_samples=20, min_child_weight=0.001,\n               min_split_gain=0.0, n_estimators=100, n_jobs=-1, num_leaves=31,\n               objective=None, random_state=0, reg_alpha=0.0, reg_lambda=0.0,\n               silent=True, subsample=1.0, subsample_for_bin=200000,\n               subsample_freq=0)"
     },
     "metadata": {},
     "execution_count": 21
    }
   ],
   "source": [
    "mdl = LGBMClassifier(random_state=0, class_weight=\"balanced\", n_jobs=-1)\n",
    "mdl.fit(X_train_full, y_train)"
   ]
  },
  {
   "cell_type": "code",
   "execution_count": 22,
   "metadata": {
    "tags": []
   },
   "outputs": [
    {
     "output_type": "stream",
     "name": "stdout",
     "text": "Precision: 76.42%\tAUC: 0.877\n"
    }
   ],
   "source": [
    "p = mdl.predict_proba(X_val_full)[:, 1]\n",
    "\n",
    "precision = average_precision_score(y_val, p)\n",
    "auc = roc_auc_score(y_val, p)\n",
    "\n",
    "print(\"Precision: {:.2f}%\\tAUC: {:.3f}\".format(precision*100, auc))"
   ]
  },
  {
   "cell_type": "code",
   "execution_count": 23,
   "metadata": {},
   "outputs": [],
   "source": [
    "from skopt import forest_minimize"
   ]
  },
  {
   "cell_type": "code",
   "execution_count": 24,
   "metadata": {},
   "outputs": [
    {
     "output_type": "execute_result",
     "data": {
      "text/plain": "(label    0.232877\n dtype: float64,\n label    0.233918\n dtype: float64)"
     },
     "metadata": {},
     "execution_count": 24
    }
   ],
   "source": [
    "y_train.mean(), y_val.mean()"
   ]
  },
  {
   "cell_type": "code",
   "execution_count": 25,
   "metadata": {
    "tags": [
     "outputPrepend"
    ]
   },
   "outputs": [
    {
     "output_type": "stream",
     "name": "stdout",
     "text": "0.7912\nIteration No: 35 started. Evaluating function at random point.\n[0.03485552780947716, 3, 16, 0.9824024873308342, 0.6279493869140963, 5, 2]\n0.8591603053435114\nIteration No: 35 ended. Evaluation done at random point.\nTime taken: 1.1655\nFunction value obtained: -0.7029\nCurrent minimum: -0.7912\nIteration No: 36 started. Evaluating function at random point.\n[0.028412685616154454, 6, 13, 0.196771888771214, 0.7526360135581259, 3, 3]\n0.8520992366412213\nIteration No: 36 ended. Evaluation done at random point.\nTime taken: 1.7530\nFunction value obtained: -0.7131\nCurrent minimum: -0.7912\nIteration No: 37 started. Evaluating function at random point.\n[0.048938517872981674, 10, 11, 0.0697130003282783, 0.21710212089182218, 3, 4]\n0.8607824427480916\nIteration No: 37 ended. Evaluation done at random point.\nTime taken: 2.4205\nFunction value obtained: -0.7606\nCurrent minimum: -0.7912\nIteration No: 38 started. Evaluating function at random point.\n[0.010700332067545254, 7, 20, 0.8026304928396812, 0.6001303211296966, 7, 4]\n0.8395992366412214\nIteration No: 38 ended. Evaluation done at random point.\nTime taken: 1.9370\nFunction value obtained: -0.6596\nCurrent minimum: -0.7912\nIteration No: 39 started. Evaluating function at random point.\n[0.010287690621154422, 8, 27, 0.9944124138949809, 0.1413993943354166, 2, 4]\n0.8924618320610687\nIteration No: 39 ended. Evaluation done at random point.\nTime taken: 1.8450\nFunction value obtained: -0.7723\nCurrent minimum: -0.7912\nIteration No: 40 started. Evaluating function at random point.\n[0.03783194908170934, 7, 25, 0.4821630405609128, 0.4226979802584025, 2, 1]\n0.8922709923664123\nIteration No: 40 ended. Evaluation done at random point.\nTime taken: 0.7595\nFunction value obtained: -0.7803\nCurrent minimum: -0.7912\nIteration No: 41 started. Searching for the next optimal point.\n[0.028637958941820214, 1, 27, 0.7427466882080308, 0.12170242152510766, 4, 4]\n0.8507633587786259\nIteration No: 41 ended. Search finished for the next optimal point.\nTime taken: 1.7465\nFunction value obtained: -0.6679\nCurrent minimum: -0.7912\nIteration No: 42 started. Searching for the next optimal point.\n[0.04868664664321483, 1, 19, 0.10594722240760206, 0.1663591355425789, 2, 1]\n0.857442748091603\nIteration No: 42 ended. Search finished for the next optimal point.\nTime taken: 0.6190\nFunction value obtained: -0.6411\nCurrent minimum: -0.7912\nIteration No: 43 started. Searching for the next optimal point.\n[0.09831952445874079, 8, 18, 0.982343413781341, 0.9965367767025674, 2, 1]\n0.8602099236641221\nIteration No: 43 ended. Search finished for the next optimal point.\nTime taken: 0.8655\nFunction value obtained: -0.7396\nCurrent minimum: -0.7912\nIteration No: 44 started. Searching for the next optimal point.\n[0.013568508145491395, 7, 12, 0.5004337746873262, 0.243792805128128, 2, 2]\n0.8418893129770992\nIteration No: 44 ended. Search finished for the next optimal point.\nTime taken: 1.2260\nFunction value obtained: -0.6744\nCurrent minimum: -0.7912\nIteration No: 45 started. Searching for the next optimal point.\n[0.09480184755118853, 5, 17, 0.9087931641132925, 0.9117736009125638, 2, 1]\n0.8422709923664122\nIteration No: 45 ended. Search finished for the next optimal point.\nTime taken: 0.7285\nFunction value obtained: -0.7104\nCurrent minimum: -0.7912\nIteration No: 46 started. Searching for the next optimal point.\n[0.012679414963710596, 12, 18, 0.8889640339998881, 0.2854406650960928, 3, 4]\n0.8749045801526718\nIteration No: 46 ended. Search finished for the next optimal point.\nTime taken: 3.3600\nFunction value obtained: -0.7737\nCurrent minimum: -0.7912\nIteration No: 47 started. Searching for the next optimal point.\n[0.012636361882834032, 12, 11, 0.8560042885633783, 0.3997536493824925, 5, 3]\n0.8407442748091604\nIteration No: 47 ended. Search finished for the next optimal point.\nTime taken: 3.6295\nFunction value obtained: -0.7055\nCurrent minimum: -0.7912\nIteration No: 48 started. Searching for the next optimal point.\n[0.010070420621451255, 4, 11, 0.8403783871935159, 0.080844648886742, 8, 4]\n0.8861641221374045\nIteration No: 48 ended. Search finished for the next optimal point.\nTime taken: 1.8305\nFunction value obtained: -0.7571\nCurrent minimum: -0.7912\nIteration No: 49 started. Searching for the next optimal point.\n[0.014141441180165781, 6, 26, 0.959523187040726, 0.358189378510666, 2, 4]\n0.8437977099236641\nIteration No: 49 ended. Search finished for the next optimal point.\nTime taken: 2.0550\nFunction value obtained: -0.6589\nCurrent minimum: -0.7912\nIteration No: 50 started. Searching for the next optimal point.\n[0.01097957659212244, 1, 10, 0.6935832718370052, 0.086130925901715, 8, 4]\n0.876145038167939\nIteration No: 50 ended. Search finished for the next optimal point.\nTime taken: 1.8530\nFunction value obtained: -0.7137\nCurrent minimum: -0.7912\nIteration No: 51 started. Searching for the next optimal point.\n[0.09829632574234647, 3, 13, 0.7896850752445148, 0.7031606710309587, 2, 4]\n0.8433206106870229\nIteration No: 51 ended. Search finished for the next optimal point.\nTime taken: 2.0620\nFunction value obtained: -0.7210\nCurrent minimum: -0.7912\nIteration No: 52 started. Searching for the next optimal point.\n[0.09213800047227157, 2, 10, 0.21749984028504704, 0.5507618377049877, 8, 3]\n0.8383587786259543\nIteration No: 52 ended. Search finished for the next optimal point.\nTime taken: 1.4210\nFunction value obtained: -0.7165\nCurrent minimum: -0.7912\nIteration No: 53 started. Searching for the next optimal point.\n[0.09619585595233147, 2, 27, 0.2772739141093269, 0.910118054157555, 8, 1]\n0.8663167938931298\nIteration No: 53 ended. Search finished for the next optimal point.\nTime taken: 0.6575\nFunction value obtained: -0.7128\nCurrent minimum: -0.7912\nIteration No: 54 started. Searching for the next optimal point.\n[0.040575778445700525, 11, 10, 0.868392245183812, 0.9525545583627486, 4, 1]\n0.8321564885496184\nIteration No: 54 ended. Search finished for the next optimal point.\nTime taken: 1.8190\nFunction value obtained: -0.6955\nCurrent minimum: -0.7912\nIteration No: 55 started. Searching for the next optimal point.\n[0.010263768202680787, 9, 30, 0.9928798191748638, 0.28196131547830966, 2, 4]\n0.8785305343511449\nIteration No: 55 ended. Search finished for the next optimal point.\nTime taken: 2.0975\nFunction value obtained: -0.7379\nCurrent minimum: -0.7912\nIteration No: 56 started. Searching for the next optimal point.\n[0.059638248730947495, 1, 11, 0.39152502001556766, 0.3592457001422305, 8, 3]\n0.8380725190839695\nIteration No: 56 ended. Search finished for the next optimal point.\nTime taken: 1.3675\nFunction value obtained: -0.5980\nCurrent minimum: -0.7912\nIteration No: 57 started. Searching for the next optimal point.\n[0.014475291168789055, 2, 11, 0.8750666439472063, 0.2811356364939635, 8, 4]\n0.8399809160305344\nIteration No: 57 ended. Search finished for the next optimal point.\nTime taken: 1.8725\nFunction value obtained: -0.6722\nCurrent minimum: -0.7912\nIteration No: 58 started. Searching for the next optimal point.\n[0.04964106195480415, 7, 17, 0.24371193839160166, 0.37495506707528126, 7, 1]\n0.8697519083969466\nIteration No: 58 ended. Search finished for the next optimal point.\nTime taken: 0.7830\nFunction value obtained: -0.7537\nCurrent minimum: -0.7912\nIteration No: 59 started. Searching for the next optimal point.\n[0.01074929321212927, 7, 21, 0.8869129726275725, 0.13959979343507103, 2, 4]\n0.8724236641221373\nIteration No: 59 ended. Search finished for the next optimal point.\nTime taken: 2.0625\nFunction value obtained: -0.7329\nCurrent minimum: -0.7912\nIteration No: 60 started. Searching for the next optimal point.\n[0.03556809445459249, 7, 28, 0.8037885653003708, 0.4182869660500972, 3, 1]\n0.8771946564885497\nIteration No: 60 ended. Search finished for the next optimal point.\nTime taken: 0.7030\nFunction value obtained: -0.7221\nCurrent minimum: -0.7912\nIteration No: 61 started. Searching for the next optimal point.\n[0.04310546949636088, 2, 12, 0.8689463245230505, 0.48575955615042943, 4, 4]\n0.8498091603053435\nIteration No: 61 ended. Search finished for the next optimal point.\nTime taken: 1.8465\nFunction value obtained: -0.6904\nCurrent minimum: -0.7912\nIteration No: 62 started. Searching for the next optimal point.\n[0.0493422950449446, 7, 30, 0.20428834240139326, 0.4491924861331418, 6, 2]\n0.8686068702290077\nIteration No: 62 ended. Search finished for the next optimal point.\nTime taken: 1.1220\nFunction value obtained: -0.7403\nCurrent minimum: -0.7912\nIteration No: 63 started. Searching for the next optimal point.\n[0.018756003849988035, 1, 13, 0.9059793046967924, 0.06135384946149756, 5, 3]\n0.8846374045801526\nIteration No: 63 ended. Search finished for the next optimal point.\nTime taken: 1.4820\nFunction value obtained: -0.7432\nCurrent minimum: -0.7912\nIteration No: 64 started. Searching for the next optimal point.\n[0.011940051901389468, 1, 24, 0.8620514038573295, 0.13519342064073875, 7, 3]\n0.8562977099236642\nIteration No: 64 ended. Search finished for the next optimal point.\nTime taken: 1.3550\nFunction value obtained: -0.7044\nCurrent minimum: -0.7912\nIteration No: 65 started. Searching for the next optimal point.\n[0.013904952273053306, 1, 12, 0.5358160371451113, 0.2089988663764138, 4, 3]\n0.846469465648855\nIteration No: 65 ended. Search finished for the next optimal point.\nTime taken: 1.3950\nFunction value obtained: -0.6908\nCurrent minimum: -0.7912\nIteration No: 66 started. Searching for the next optimal point.\n[0.08082933075229552, 10, 15, 0.7692584903787459, 0.9060203152196853, 3, 1]\n0.8592557251908397\nIteration No: 66 ended. Search finished for the next optimal point.\nTime taken: 1.1535\nFunction value obtained: -0.7290\nCurrent minimum: -0.7912\nIteration No: 67 started. Searching for the next optimal point.\n[0.013737761783954673, 6, 15, 0.2397711820344397, 0.11947629603125452, 5, 4]\n0.8678435114503816\nIteration No: 67 ended. Search finished for the next optimal point.\nTime taken: 1.8280\nFunction value obtained: -0.7378\nCurrent minimum: -0.7912\nIteration No: 68 started. Searching for the next optimal point.\n[0.06475760520049996, 2, 13, 0.20181435220864274, 0.9035177014583626, 7, 1]\n0.8645992366412214\nIteration No: 68 ended. Search finished for the next optimal point.\nTime taken: 0.6550\nFunction value obtained: -0.7223\nCurrent minimum: -0.7912\nIteration No: 69 started. Searching for the next optimal point.\n[0.011756429963084136, 1, 10, 0.8924636526629689, 0.19242442604222842, 7, 3]\n0.8516221374045801\nIteration No: 69 ended. Search finished for the next optimal point.\nTime taken: 1.3520\nFunction value obtained: -0.6679\nCurrent minimum: -0.7912\nIteration No: 70 started. Searching for the next optimal point.\n[0.039843336769159764, 6, 16, 0.5592481991247528, 0.44003962180153744, 3, 1]\n0.8672709923664121\nIteration No: 70 ended. Search finished for the next optimal point.\nTime taken: 0.8105\nFunction value obtained: -0.7370\nCurrent minimum: -0.7912\nIteration No: 71 started. Searching for the next optimal point.\n[0.0965146358291025, 11, 14, 0.9674521793036405, 0.8644497569776385, 5, 2]\n0.8518129770992366\nIteration No: 71 ended. Search finished for the next optimal point.\nTime taken: 1.8960\nFunction value obtained: -0.7401\nCurrent minimum: -0.7912\nIteration No: 72 started. Searching for the next optimal point.\n[0.010295921484588695, 4, 29, 0.2593821858783116, 0.4979702388077993, 5, 4]\n0.8520038167938931\nIteration No: 72 ended. Search finished for the next optimal point.\nTime taken: 1.7390\nFunction value obtained: -0.6824\nCurrent minimum: -0.7912\nIteration No: 73 started. Searching for the next optimal point.\n[0.05776273384641991, 2, 27, 0.13041078454057092, 0.7659839008771181, 3, 3]\n0.8618320610687022\nIteration No: 73 ended. Search finished for the next optimal point.\nTime taken: 1.3825\nFunction value obtained: -0.6998\nCurrent minimum: -0.7912\nIteration No: 74 started. Searching for the next optimal point.\n[0.013598452345376995, 2, 16, 0.16882953162280476, 0.10671102692460112, 8, 3]\n0.881679389312977\nIteration No: 74 ended. Search finished for the next optimal point.\nTime taken: 1.3285\nFunction value obtained: -0.7332\nCurrent minimum: -0.7912\nIteration No: 75 started. Searching for the next optimal point.\n[0.09069608385876904, 11, 30, 0.8343725257099729, 0.8768169984480827, 8, 1]\n0.8707061068702291\nIteration No: 75 ended. Search finished for the next optimal point.\nTime taken: 1.0850\nFunction value obtained: -0.7409\nCurrent minimum: -0.7912\nIteration No: 76 started. Searching for the next optimal point.\n[0.010137793883511916, 1, 19, 0.783134085427368, 0.07876533873416564, 6, 2]\n0.8797709923664122\nIteration No: 76 ended. Search finished for the next optimal point.\nTime taken: 0.9610\nFunction value obtained: -0.7196\nCurrent minimum: -0.7912\nIteration No: 77 started. Searching for the next optimal point.\n[0.013709959669883068, 1, 25, 0.20158596216657138, 0.07167368563798279, 6, 3]\n0.8723282442748092\nIteration No: 77 ended. Search finished for the next optimal point.\nTime taken: 1.3040\nFunction value obtained: -0.7213\nCurrent minimum: -0.7912\nIteration No: 78 started. Searching for the next optimal point.\n[0.013832693682867315, 12, 27, 0.51912611207027, 0.3609721272220854, 2, 4]\n0.853530534351145\nIteration No: 78 ended. Search finished for the next optimal point.\nTime taken: 3.1325\nFunction value obtained: -0.6857\nCurrent minimum: -0.7912\nIteration No: 79 started. Searching for the next optimal point.\n[0.02627420903799242, 2, 11, 0.20655202180241888, 0.8858564218910001, 8, 4]\n0.8343511450381679\nIteration No: 79 ended. Search finished for the next optimal point.\nTime taken: 1.8657\nFunction value obtained: -0.6041\nCurrent minimum: -0.7912\nIteration No: 80 started. Searching for the next optimal point.\n[0.013097198350360762, 12, 21, 0.8952281107822276, 0.26793306370943853, 2, 3]\n0.8619274809160306\nIteration No: 80 ended. Search finished for the next optimal point.\nTime taken: 2.9350\nFunction value obtained: -0.7109\nCurrent minimum: -0.7912\nIteration No: 81 started. Searching for the next optimal point.\n[0.07855145857290685, 2, 12, 0.6476737193605722, 0.9684344009842, 7, 3]\n0.8479007633587786\nIteration No: 81 ended. Search finished for the next optimal point.\nTime taken: 1.4565\nFunction value obtained: -0.7139\nCurrent minimum: -0.7912\nIteration No: 82 started. Searching for the next optimal point.\n[0.08822740062063933, 11, 12, 0.09901237239729702, 0.9355957041382255, 7, 1]\n0.8437977099236642\nIteration No: 82 ended. Search finished for the next optimal point.\nTime taken: 1.7220\nFunction value obtained: -0.7077\nCurrent minimum: -0.7912\nIteration No: 83 started. Searching for the next optimal point.\n[0.042804164541204524, 2, 16, 0.8187143784096388, 0.964022762483161, 7, 2]\n0.8537213740458015\nIteration No: 83 ended. Search finished for the next optimal point.\nTime taken: 1.0260\nFunction value obtained: -0.6807\nCurrent minimum: -0.7912\nIteration No: 84 started. Searching for the next optimal point.\n[0.010102190475736253, 8, 15, 0.8911869738036257, 0.26339946692572064, 3, 4]\n0.8758587786259542\nIteration No: 84 ended. Search finished for the next optimal point.\nTime taken: 2.0840\nFunction value obtained: -0.7580\nCurrent minimum: -0.7912\nIteration No: 85 started. Searching for the next optimal point.\n[0.010053932337964493, 6, 18, 0.8555673019653636, 0.3091151478605068, 7, 4]\n0.854293893129771\nIteration No: 85 ended. Search finished for the next optimal point.\nTime taken: 1.8650\nFunction value obtained: -0.7148\nCurrent minimum: -0.7912\nIteration No: 86 started. Searching for the next optimal point.\n[0.06335204049785702, 1, 13, 0.9031347973540107, 0.07661966648874122, 6, 3]\n0.8708015267175573\nIteration No: 86 ended. Search finished for the next optimal point.\nTime taken: 1.3660\nFunction value obtained: -0.7311\nCurrent minimum: -0.7912\nIteration No: 87 started. Searching for the next optimal point.\n[0.051321847483488454, 1, 13, 0.8990973811642536, 0.056965663827199225, 3, 2]\n0.8840648854961832\nIteration No: 87 ended. Search finished for the next optimal point.\nTime taken: 1.0540\nFunction value obtained: -0.7282\nCurrent minimum: -0.7912\nIteration No: 88 started. Searching for the next optimal point.\n[0.08966207375896165, 1, 13, 0.9794704130128261, 0.9859628263932071, 8, 4]\n0.8424618320610687\nIteration No: 88 ended. Search finished for the next optimal point.\nTime taken: 1.8120\nFunction value obtained: -0.6333\nCurrent minimum: -0.7912\nIteration No: 89 started. Searching for the next optimal point.\n[0.013603381499216359, 8, 26, 0.9911078983931679, 0.17774472491715415, 2, 4]\n0.8825381679389314\nIteration No: 89 ended. Search finished for the next optimal point.\nTime taken: 2.1081\nFunction value obtained: -0.7619\nCurrent minimum: -0.7912\nIteration No: 90 started. Searching for the next optimal point.\n[0.01754235412787468, 8, 23, 0.841814307988643, 0.27281879403465437, 3, 4]\n0.8833015267175572\nIteration No: 90 ended. Search finished for the next optimal point.\nTime taken: 1.8995\nFunction value obtained: -0.7868\nCurrent minimum: -0.7912\nIteration No: 91 started. Searching for the next optimal point.\n[0.019936843979373797, 8, 27, 0.16943008690285974, 0.29374831694383735, 4, 4]\n0.8815839694656489\nIteration No: 91 ended. Search finished for the next optimal point.\nTime taken: 1.8510\nFunction value obtained: -0.7578\nCurrent minimum: -0.7912\nIteration No: 92 started. Searching for the next optimal point.\n[0.010294362744473446, 8, 24, 0.6792428530685821, 0.33235398530747845, 3, 2]\n0.8710877862595421\nIteration No: 92 ended. Search finished for the next optimal point.\nTime taken: 1.0895\nFunction value obtained: -0.7122\nCurrent minimum: -0.7912\nIteration No: 93 started. Searching for the next optimal point.\n[0.017388463296357296, 8, 11, 0.9661750340589034, 0.3378135532264337, 6, 4]\n0.8489503816793893\nIteration No: 93 ended. Search finished for the next optimal point.\nTime taken: 2.0685\nFunction value obtained: -0.7150\nCurrent minimum: -0.7912\nIteration No: 94 started. Searching for the next optimal point.\n[0.0234052656975653, 7, 29, 0.8701699519519991, 0.2952774494202607, 3, 4]\n0.8812022900763359\nIteration No: 94 ended. Search finished for the next optimal point.\nTime taken: 1.8375\nFunction value obtained: -0.7610\nCurrent minimum: -0.7912\nIteration No: 95 started. Searching for the next optimal point.\n[0.013792908548194408, 10, 27, 0.8431829816165027, 0.27503413751224887, 3, 4]\n0.8836832061068702\nIteration No: 95 ended. Search finished for the next optimal point.\nTime taken: 2.1315\nFunction value obtained: -0.7727\nCurrent minimum: -0.7912\nIteration No: 96 started. Searching for the next optimal point.\n[0.014291796603020945, 8, 30, 0.7839724785643518, 0.31748689019510695, 4, 4]\n0.872996183206107\nIteration No: 96 ended. Search finished for the next optimal point.\nTime taken: 1.8670\nFunction value obtained: -0.7057\nCurrent minimum: -0.7912\nIteration No: 97 started. Searching for the next optimal point.\n[0.014816632556109481, 6, 21, 0.7144594990622748, 0.23688564034887966, 3, 4]\n0.8766221374045802\nIteration No: 97 ended. Search finished for the next optimal point.\nTime taken: 1.8960\nFunction value obtained: -0.7743\nCurrent minimum: -0.7912\nIteration No: 98 started. Searching for the next optimal point.\n[0.017514712621724885, 6, 26, 0.8935795046512597, 0.32215403242117047, 3, 4]\n0.8693702290076335\nIteration No: 98 ended. Search finished for the next optimal point.\nTime taken: 1.8665\nFunction value obtained: -0.7186\nCurrent minimum: -0.7912\nIteration No: 99 started. Searching for the next optimal point.\n[0.010398582157550755, 7, 13, 0.6533688884785432, 0.27522877539984797, 3, 4]\n0.8701335877862595\nIteration No: 99 ended. Search finished for the next optimal point.\nTime taken: 2.0640\nFunction value obtained: -0.7782\nCurrent minimum: -0.7912\nIteration No: 100 started. Searching for the next optimal point.\n[0.013951618298278002, 6, 22, 0.9803600435589388, 0.28937932962029167, 3, 4]\n0.8687977099236641\nIteration No: 100 ended. Search finished for the next optimal point.\nTime taken: 1.9165\nFunction value obtained: -0.7273\nCurrent minimum: -0.7912\n"
    }
   ],
   "source": [
    "def tune_lgbm(params):\n",
    "    print(params)\n",
    "    lr = params[0]\n",
    "    max_depth = params[1]\n",
    "    min_child_samples = params[2]\n",
    "    subsample = params[3]\n",
    "    colsample_bytree = params[4]\n",
    "    \n",
    "    min_df = params[5]\n",
    "    ngram_range = (1, params[6])\n",
    "\n",
    "    final_vects_train, final_vects_val = [], []\n",
    "    \n",
    "    title_vec = TfidfVectorizer(min_df=10, ngram_range=(1,1), stop_words=stop_words)\n",
    "    title_bow_train = title_vec.fit_transform(X_train['title'])\n",
    "    title_bow_val = title_vec.transform(X_val['title'])\n",
    "    \n",
    "    final_vects_train.append(title_bow_train)\n",
    "    final_vects_val.append(title_bow_val)\n",
    "\n",
    "    desc_vec = TfidfVectorizer(min_df=min_df, ngram_range=ngram_range, stop_words=stop_words)\n",
    "    desc_bow_train = desc_vec.fit_transform(X_train['description'])\n",
    "    desc_bow_val = desc_vec.transform(X_val['description'])\n",
    "\n",
    "    final_vects_train.append(desc_bow_train)\n",
    "    final_vects_val.append(desc_bow_val)\n",
    "\n",
    "    \n",
    "    \n",
    "    X_train_full = hstack(final_features_train + final_vects_train)\n",
    "    X_val_full = hstack(final_features_val + final_vects_val)\n",
    "\n",
    "\n",
    "    mdl_lgbm = LGBMClassifier(learning_rate=lr, num_leaves=2 ** max_depth, max_depth=max_depth,\n",
    "                            min_child_samples=min_child_samples, subsample=subsample, random_state=0, \n",
    "                            colsample_bytree=colsample_bytree, class_weight=\"balanced\", n_jobs=-1)\n",
    "\n",
    "    mdl_lgbm.fit(X_train_full, y_train)\n",
    "    \n",
    "    p = mdl_lgbm.predict_proba(X_val_full)[:, 1]\n",
    "    \n",
    "    print(roc_auc_score(y_val, p))\n",
    "    \n",
    "    return -average_precision_score(y_val, p)\n",
    "\n",
    "\n",
    "space = [(1e-2, 1e-1, 'log-uniform'), # lr\n",
    "          (1, 12), # max_depth\n",
    "          (10, 30), # min_child_samples\n",
    "          (0.05, 1.), # subsample\n",
    "          (0.05, 1.), # colsample_bytree\n",
    "          (2,8), # min_df desc\n",
    "          (1,4)] # ngram_range desc\n",
    "\n",
    "res = forest_minimize(tune_lgbm, space, random_state=7777, n_random_starts=40, n_calls=100, verbose=1)"
   ]
  },
  {
   "cell_type": "code",
   "execution_count": 26,
   "metadata": {},
   "outputs": [
    {
     "output_type": "execute_result",
     "data": {
      "text/plain": "[0.09602533443444468, 11, 15, 0.815626604502644, 0.9231700046193302, 5, 1]"
     },
     "metadata": {},
     "execution_count": 26
    }
   ],
   "source": [
    "res.x"
   ]
  },
  {
   "cell_type": "code",
   "execution_count": 27,
   "metadata": {
    "tags": []
   },
   "outputs": [
    {
     "output_type": "stream",
     "name": "stdout",
     "text": "Precision: 79.12%\tAUC: 0.877\n"
    }
   ],
   "source": [
    "params = [0.012, 6, 28, 0.8, 0.1, 4, 3, 3, 4]\n",
    "params = res.x\n",
    "lr = params[0]\n",
    "max_depth = params[1]\n",
    "min_child_samples = params[2]\n",
    "subsample = params[3]\n",
    "colsample_bytree = params[4]\n",
    "\n",
    "min_df = params[5]\n",
    "ngram_range = (1, params[6])\n",
    "\n",
    "final_vects_train, final_vects_val = [], []\n",
    "\n",
    "title_vec = TfidfVectorizer(min_df=10, ngram_range=(1,1), stop_words=stop_words)\n",
    "title_bow_train = title_vec.fit_transform(X_train['title'])\n",
    "title_bow_val = title_vec.transform(X_val['title'])\n",
    "\n",
    "final_vects_train.append(title_bow_train)\n",
    "final_vects_val.append(title_bow_val)\n",
    "\n",
    "desc_vec = TfidfVectorizer(min_df=min_df, ngram_range=ngram_range, stop_words=stop_words)\n",
    "desc_bow_train = desc_vec.fit_transform(X_train['description'])\n",
    "desc_bow_val = desc_vec.transform(X_val['description'])\n",
    "\n",
    "final_vects_train.append(desc_bow_train)\n",
    "final_vects_val.append(desc_bow_val)\n",
    "\n",
    "\n",
    "\n",
    "X_train_full = hstack(final_features_train + final_vects_train)\n",
    "X_val_full = hstack(final_features_val + final_vects_val)\n",
    "\n",
    "\n",
    "mdl_lgbm = LGBMClassifier(learning_rate=lr, num_leaves=2 ** max_depth, max_depth=max_depth,\n",
    "                        min_child_samples=min_child_samples, subsample=subsample, random_state=0, \n",
    "                        colsample_bytree=colsample_bytree, class_weight=\"balanced\", n_jobs=-1)\n",
    "\n",
    "mdl_lgbm.fit(X_train_full, y_train)\n",
    "\n",
    "p_lgbm = mdl_lgbm.predict_proba(X_val_full)[:, 1]\n",
    "\n",
    "precision = average_precision_score(y_val, p_lgbm)\n",
    "auc = roc_auc_score(y_val, p_lgbm)\n",
    "\n",
    "print(\"Precision: {:.2f}%\\tAUC: {:.3f}\".format(precision*100, auc))\n"
   ]
  },
  {
   "cell_type": "code",
   "execution_count": 28,
   "metadata": {
    "tags": []
   },
   "outputs": [
    {
     "output_type": "stream",
     "name": "stdout",
     "text": "Precision: 74.26%\tAUC: 0.852\n"
    }
   ],
   "source": [
    "mdl_rf = RandomForestClassifier(n_estimators=1000, random_state=0, class_weight=\"balanced\", n_jobs=-1, min_samples_leaf=2)\n",
    "mdl_rf.fit(X_train_full, y_train)\n",
    "\n",
    "\n",
    "p_rf = mdl_rf.predict_proba(X_val_full)[:, 1]\n",
    "\n",
    "precision = average_precision_score(y_val, p_rf)\n",
    "auc = roc_auc_score(y_val, p_rf)\n",
    "\n",
    "print(\"Precision: {:.2f}%\\tAUC: {:.3f}\".format(precision*100, auc))"
   ]
  },
  {
   "cell_type": "code",
   "execution_count": 29,
   "metadata": {},
   "outputs": [],
   "source": [
    "from sklearn.linear_model import LogisticRegression\n",
    "from sklearn.preprocessing import MaxAbsScaler\n",
    "from sklearn.pipeline import make_pipeline"
   ]
  },
  {
   "cell_type": "code",
   "execution_count": 30,
   "metadata": {
    "tags": []
   },
   "outputs": [
    {
     "output_type": "stream",
     "name": "stdout",
     "text": "Precision: 67.79%\tAUC: 0.821\n"
    }
   ],
   "source": [
    "lr_pipe =  make_pipeline(MaxAbsScaler(), LogisticRegression(C=2.0, penalty='l2', n_jobs=-1, random_state=777))\n",
    "lr_pipe.fit(X_train_full, y_train)\n",
    "\n",
    "p_lr = lr_pipe.predict_proba(X_val_full)[:, 1]\n",
    "\n",
    "\n",
    "precision = average_precision_score(y_val, p_lr)\n",
    "auc = roc_auc_score(y_val, p_lr)\n",
    "\n",
    "print(\"Precision: {:.2f}%\\tAUC: {:.3f}\".format(precision*100, auc))"
   ]
  },
  {
   "cell_type": "code",
   "execution_count": 31,
   "metadata": {},
   "outputs": [
    {
     "output_type": "execute_result",
     "data": {
      "text/plain": "            RF      LGBM        LR\nRF    1.000000  0.872379  0.853337\nLGBM  0.872379  1.000000  0.852574\nLR    0.853337  0.852574  1.000000",
      "text/html": "<div>\n<style scoped>\n    .dataframe tbody tr th:only-of-type {\n        vertical-align: middle;\n    }\n\n    .dataframe tbody tr th {\n        vertical-align: top;\n    }\n\n    .dataframe thead th {\n        text-align: right;\n    }\n</style>\n<table border=\"1\" class=\"dataframe\">\n  <thead>\n    <tr style=\"text-align: right;\">\n      <th></th>\n      <th>RF</th>\n      <th>LGBM</th>\n      <th>LR</th>\n    </tr>\n  </thead>\n  <tbody>\n    <tr>\n      <th>RF</th>\n      <td>1.000000</td>\n      <td>0.872379</td>\n      <td>0.853337</td>\n    </tr>\n    <tr>\n      <th>LGBM</th>\n      <td>0.872379</td>\n      <td>1.000000</td>\n      <td>0.852574</td>\n    </tr>\n    <tr>\n      <th>LR</th>\n      <td>0.853337</td>\n      <td>0.852574</td>\n      <td>1.000000</td>\n    </tr>\n  </tbody>\n</table>\n</div>"
     },
     "metadata": {},
     "execution_count": 31
    }
   ],
   "source": [
    "pd.DataFrame({\"RF\": p_rf, \"LGBM\" : p_lgbm, \"LR\" : p_lr}).corr()"
   ]
  },
  {
   "cell_type": "code",
   "execution_count": 34,
   "metadata": {},
   "outputs": [
    {
     "output_type": "execute_result",
     "data": {
      "text/plain": "(0.7696668417358516, 0.8598282442748092)"
     },
     "metadata": {},
     "execution_count": 34
    }
   ],
   "source": [
    "part_lgbm, part_rf, part_lr = .6, .2, .2\n",
    "p = part_lgbm * p_lgbm + part_rf * p_rf + part_lr * p_lr\n",
    "average_precision_score(y_val, p), roc_auc_score(y_val, p)"
   ]
  },
  {
   "cell_type": "code",
   "execution_count": 35,
   "metadata": {},
   "outputs": [],
   "source": [
    "import joblib as jb"
   ]
  },
  {
   "cell_type": "code",
   "execution_count": 36,
   "metadata": {},
   "outputs": [],
   "source": [
    "import datetime"
   ]
  },
  {
   "cell_type": "code",
   "execution_count": 37,
   "metadata": {},
   "outputs": [],
   "source": [
    "timestamp = datetime.datetime.now().strftime('%d_%b_%Y')"
   ]
  },
  {
   "cell_type": "code",
   "execution_count": 38,
   "metadata": {},
   "outputs": [
    {
     "output_type": "execute_result",
     "data": {
      "text/plain": "['../app/models/title_vec_28_Jul_2020.jb']"
     },
     "metadata": {},
     "execution_count": 38
    }
   ],
   "source": [
    "jb.dump(mdl_lgbm, f'../app/models/lgbm_{timestamp}.jb')\n",
    "jb.dump(mdl_rf, f'../app/models/rf_{timestamp}.jb')\n",
    "jb.dump(lr_pipe, f'../app/models/lr_{timestamp}.jb')\n",
    "jb.dump(desc_vec, f'../app/models/desc_vec_{timestamp}.jb')\n",
    "jb.dump(title_vec, f'../app/models/title_vec_{timestamp}.jb')"
   ]
  },
  {
   "cell_type": "code",
   "execution_count": null,
   "metadata": {},
   "outputs": [],
   "source": []
  }
 ],
 "metadata": {
  "language_info": {
   "codemirror_mode": {
    "name": "ipython",
    "version": 3
   },
   "file_extension": ".py",
   "mimetype": "text/x-python",
   "name": "python",
   "nbconvert_exporter": "python",
   "pygments_lexer": "ipython3",
   "version": "3.7.6-final"
  },
  "orig_nbformat": 2,
  "kernelspec": {
   "name": "python3",
   "display_name": "Python 3"
  }
 },
 "nbformat": 4,
 "nbformat_minor": 2
}