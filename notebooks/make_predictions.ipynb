{
 "cells": [
  {
   "cell_type": "code",
   "execution_count": 1,
   "metadata": {},
   "outputs": [],
   "source": [
    "import sys\n",
    "sys.path.append('../app/')"
   ]
  },
  {
   "cell_type": "code",
   "execution_count": 3,
   "metadata": {},
   "outputs": [],
   "source": [
    "from pymongo import MongoClient\n",
    "import pandas as pd\n",
    "from feature_extractor import get_ohe_features\n",
    "import joblib as jb\n",
    "import datetime\n",
    "import json"
   ]
  },
  {
   "cell_type": "code",
   "execution_count": 4,
   "metadata": {},
   "outputs": [],
   "source": [
    "with open('../config.json') as json_file:\n",
    "    config = json.load(json_file)"
   ]
  },
  {
   "cell_type": "code",
   "execution_count": 5,
   "metadata": {},
   "outputs": [],
   "source": [
    "client = MongoClient(config['MONGO_URI'])\n",
    "db = client.linkedin\n",
    "collection = db.jobIds"
   ]
  },
  {
   "cell_type": "code",
   "execution_count": 3,
   "metadata": {},
   "outputs": [],
   "source": [
    "df = pd.DataFrame(list(collection.find({ 'label' : {'$exists' : False}})))"
   ]
  },
  {
   "cell_type": "code",
   "execution_count": null,
   "metadata": {},
   "outputs": [],
   "source": [
    "df.head(15)"
   ]
  },
  {
   "cell_type": "code",
   "execution_count": null,
   "metadata": {},
   "outputs": [],
   "source": []
  },
  {
   "cell_type": "code",
   "execution_count": 4,
   "metadata": {},
   "outputs": [],
   "source": [
    "model = jb.load('./models/lgbm_07_Jul_2020.jb')\n",
    "desc_vec = jb.load('./models/desc_vec_07_Jul_2020.jb')\n",
    "title_vec = jb.load('./models/title_vec_07_Jul_2020.jb')"
   ]
  },
  {
   "cell_type": "code",
   "execution_count": 5,
   "metadata": {},
   "outputs": [],
   "source": [
    "usedFeatures = ['applicants', 'applicants_per_day', 'description_len']\n",
    "\n",
    "features_list = [df[usedFeatures]]\n"
   ]
  },
  {
   "cell_type": "code",
   "execution_count": 6,
   "metadata": {},
   "outputs": [],
   "source": [
    "categorical_fields = ['Seniority level', 'Employment type', 'Job function', 'Industries']\n",
    "\n",
    "for field in categorical_fields:\n",
    "    features_list.append(get_ohe_features(df, field))\n"
   ]
  },
  {
   "cell_type": "code",
   "execution_count": 7,
   "metadata": {},
   "outputs": [],
   "source": [
    "title_bow_test = title_vec.transform(df['title'])\n",
    "desc_bow_test = desc_vec.transform(df['description'])\n",
    "features_list.append(title_bow_test)\n",
    "features_list.append(desc_bow_test)"
   ]
  },
  {
   "cell_type": "code",
   "execution_count": 8,
   "metadata": {},
   "outputs": [],
   "source": [
    "from scipy.sparse import hstack\n",
    "\n",
    "X_test = hstack(features_list)"
   ]
  },
  {
   "cell_type": "code",
   "execution_count": 9,
   "metadata": {},
   "outputs": [],
   "source": [
    "pred = model.predict_proba(X_test)[:, 1]"
   ]
  },
  {
   "cell_type": "code",
   "execution_count": 10,
   "metadata": {},
   "outputs": [],
   "source": [
    "df['pred'] = pred"
   ]
  },
  {
   "cell_type": "code",
   "execution_count": 11,
   "metadata": {},
   "outputs": [
    {
     "output_type": "execute_result",
     "data": {
      "text/plain": "                          _id       jobId  loaded         company  \\\n446  5eff7c51a2ae983dbb5d6893  1906711546    True         Harnham   \n805  5f03a910f904fbf7622f3aeb  1932926640    True    Unicorn Hunt   \n421  5eff7c51a2ae983dbb5d6878  1718334914    True           Apple   \n424  5eff7c51a2ae983dbb5d687c  1866261249    True        JUST EAT   \n286  5efca9dbb4432a82d5b96eee  1877473764    True  Lendico Brazil   \n\n                                city                  posted  applicants  \\\n446  London, England, United Kingdom 2020-07-04 23:28:12.838          28   \n805  London, England, United Kingdom 2020-07-03 22:44:01.682          53   \n421  London, England, United Kingdom 2020-02-15 23:28:12.784          10   \n424  London, England, United Kingdom 2020-06-13 23:28:12.793          10   \n286                São Paulo, Brazil 2020-06-06 23:28:12.448          10   \n\n     applicants_per_day                                        description  \\\n446           28.000000  Data Scientist / Senior Data Scientist – Tempo...   \n805           13.250000  What is Carra? Carra is a hyper-personalisatio...   \n421            0.070922  SummaryWe are looking for an individual with a...   \n424            0.454545  Job Title: Data ScientistDepartment: Machine L...   \n286            0.344828  Este processo seletivo encontra-se em stand by...   \n\n      Seniority level Employment type            Job function  \\\n446  Mid-Senior level       Full-time  Information Technology   \n805       Entry level       Full-time             Engineering   \n421    Not Applicable       Full-time             Engineering   \n424  Mid-Senior level       Full-time             Engineering   \n286  Mid-Senior level       Full-time                 Analyst   \n\n                 Industries  \\\n446                 Analyst   \n805  Information Technology   \n421  Information Technology   \n424  Information Technology   \n286       Strategy/Planning   \n\n                                                 title      pred  \\\n446                                     Data Scientist  0.893880   \n805                                     Data Scientist  0.893594   \n421  Data Scientist - App Store, Apple Music, Apple...  0.884004   \n424                                     Data Scientist  0.866860   \n286  Senior Business Intelligence Analyst I Talent ...  0.860732   \n\n                    created                   added  description_len  \\\n446 2020-07-04 23:28:12.838 2020-07-04 23:28:12.838             2075   \n805 2020-07-06 22:44:01.682 2020-07-06 22:43:28.166             2568   \n421 2020-07-04 23:28:12.784 2020-07-04 23:28:12.784             2332   \n424 2020-07-04 23:28:12.793 2020-07-04 23:28:12.793             2761   \n286 2020-07-04 23:28:12.448 2020-07-04 23:28:12.448             2447   \n\n                  pred_date  \n446 2020-07-06 23:33:00.295  \n805 2020-07-06 23:33:01.344  \n421 2020-07-06 23:33:00.207  \n424 2020-07-06 23:33:00.217  \n286 2020-07-06 23:32:59.786  ",
      "text/html": "<div>\n<style scoped>\n    .dataframe tbody tr th:only-of-type {\n        vertical-align: middle;\n    }\n\n    .dataframe tbody tr th {\n        vertical-align: top;\n    }\n\n    .dataframe thead th {\n        text-align: right;\n    }\n</style>\n<table border=\"1\" class=\"dataframe\">\n  <thead>\n    <tr style=\"text-align: right;\">\n      <th></th>\n      <th>_id</th>\n      <th>jobId</th>\n      <th>loaded</th>\n      <th>company</th>\n      <th>city</th>\n      <th>posted</th>\n      <th>applicants</th>\n      <th>applicants_per_day</th>\n      <th>description</th>\n      <th>Seniority level</th>\n      <th>Employment type</th>\n      <th>Job function</th>\n      <th>Industries</th>\n      <th>title</th>\n      <th>pred</th>\n      <th>created</th>\n      <th>added</th>\n      <th>description_len</th>\n      <th>pred_date</th>\n    </tr>\n  </thead>\n  <tbody>\n    <tr>\n      <th>446</th>\n      <td>5eff7c51a2ae983dbb5d6893</td>\n      <td>1906711546</td>\n      <td>True</td>\n      <td>Harnham</td>\n      <td>London, England, United Kingdom</td>\n      <td>2020-07-04 23:28:12.838</td>\n      <td>28</td>\n      <td>28.000000</td>\n      <td>Data Scientist / Senior Data Scientist – Tempo...</td>\n      <td>Mid-Senior level</td>\n      <td>Full-time</td>\n      <td>Information Technology</td>\n      <td>Analyst</td>\n      <td>Data Scientist</td>\n      <td>0.893880</td>\n      <td>2020-07-04 23:28:12.838</td>\n      <td>2020-07-04 23:28:12.838</td>\n      <td>2075</td>\n      <td>2020-07-06 23:33:00.295</td>\n    </tr>\n    <tr>\n      <th>805</th>\n      <td>5f03a910f904fbf7622f3aeb</td>\n      <td>1932926640</td>\n      <td>True</td>\n      <td>Unicorn Hunt</td>\n      <td>London, England, United Kingdom</td>\n      <td>2020-07-03 22:44:01.682</td>\n      <td>53</td>\n      <td>13.250000</td>\n      <td>What is Carra? Carra is a hyper-personalisatio...</td>\n      <td>Entry level</td>\n      <td>Full-time</td>\n      <td>Engineering</td>\n      <td>Information Technology</td>\n      <td>Data Scientist</td>\n      <td>0.893594</td>\n      <td>2020-07-06 22:44:01.682</td>\n      <td>2020-07-06 22:43:28.166</td>\n      <td>2568</td>\n      <td>2020-07-06 23:33:01.344</td>\n    </tr>\n    <tr>\n      <th>421</th>\n      <td>5eff7c51a2ae983dbb5d6878</td>\n      <td>1718334914</td>\n      <td>True</td>\n      <td>Apple</td>\n      <td>London, England, United Kingdom</td>\n      <td>2020-02-15 23:28:12.784</td>\n      <td>10</td>\n      <td>0.070922</td>\n      <td>SummaryWe are looking for an individual with a...</td>\n      <td>Not Applicable</td>\n      <td>Full-time</td>\n      <td>Engineering</td>\n      <td>Information Technology</td>\n      <td>Data Scientist - App Store, Apple Music, Apple...</td>\n      <td>0.884004</td>\n      <td>2020-07-04 23:28:12.784</td>\n      <td>2020-07-04 23:28:12.784</td>\n      <td>2332</td>\n      <td>2020-07-06 23:33:00.207</td>\n    </tr>\n    <tr>\n      <th>424</th>\n      <td>5eff7c51a2ae983dbb5d687c</td>\n      <td>1866261249</td>\n      <td>True</td>\n      <td>JUST EAT</td>\n      <td>London, England, United Kingdom</td>\n      <td>2020-06-13 23:28:12.793</td>\n      <td>10</td>\n      <td>0.454545</td>\n      <td>Job Title: Data ScientistDepartment: Machine L...</td>\n      <td>Mid-Senior level</td>\n      <td>Full-time</td>\n      <td>Engineering</td>\n      <td>Information Technology</td>\n      <td>Data Scientist</td>\n      <td>0.866860</td>\n      <td>2020-07-04 23:28:12.793</td>\n      <td>2020-07-04 23:28:12.793</td>\n      <td>2761</td>\n      <td>2020-07-06 23:33:00.217</td>\n    </tr>\n    <tr>\n      <th>286</th>\n      <td>5efca9dbb4432a82d5b96eee</td>\n      <td>1877473764</td>\n      <td>True</td>\n      <td>Lendico Brazil</td>\n      <td>São Paulo, Brazil</td>\n      <td>2020-06-06 23:28:12.448</td>\n      <td>10</td>\n      <td>0.344828</td>\n      <td>Este processo seletivo encontra-se em stand by...</td>\n      <td>Mid-Senior level</td>\n      <td>Full-time</td>\n      <td>Analyst</td>\n      <td>Strategy/Planning</td>\n      <td>Senior Business Intelligence Analyst I Talent ...</td>\n      <td>0.860732</td>\n      <td>2020-07-04 23:28:12.448</td>\n      <td>2020-07-04 23:28:12.448</td>\n      <td>2447</td>\n      <td>2020-07-06 23:32:59.786</td>\n    </tr>\n  </tbody>\n</table>\n</div>"
     },
     "metadata": {},
     "execution_count": 11
    }
   ],
   "source": [
    "df.sort_values('pred', ascending=False).head(5)"
   ]
  },
  {
   "cell_type": "code",
   "execution_count": null,
   "metadata": {},
   "outputs": [],
   "source": [
    "float(df[df['jobId'] == '1684009511']['pred'])"
   ]
  },
  {
   "cell_type": "code",
   "execution_count": 14,
   "metadata": {},
   "outputs": [],
   "source": [
    "for unpred_result in collection.find({ 'label' : {'$exists' : False}}):\n",
    "    unpred_result['pred'] = float(df[df['jobId'] == unpred_result['jobId']]['pred'])\n",
    "    unpred_result['pred_date'] = datetime.datetime.utcnow()\n",
    "    collection.save(unpred_result)"
   ]
  },
  {
   "cell_type": "code",
   "execution_count": null,
   "metadata": {},
   "outputs": [],
   "source": [
    "pd.DataFrame(list(collection.find({ 'label' : {'$exists' : False}})))"
   ]
  },
  {
   "cell_type": "code",
   "execution_count": null,
   "metadata": {},
   "outputs": [],
   "source": []
  }
 ],
 "metadata": {
  "language_info": {
   "codemirror_mode": {
    "name": "ipython",
    "version": 3
   },
   "file_extension": ".py",
   "mimetype": "text/x-python",
   "name": "python",
   "nbconvert_exporter": "python",
   "pygments_lexer": "ipython3",
   "version": "3.7.6-final"
  },
  "orig_nbformat": 2,
  "kernelspec": {
   "name": "python3",
   "display_name": "Python 3"
  }
 },
 "nbformat": 4,
 "nbformat_minor": 2
}