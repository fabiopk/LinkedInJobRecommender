{
 "cells": [
  {
   "cell_type": "code",
   "execution_count": 5,
   "metadata": {},
   "outputs": [],
   "source": [
    "from sklearn.feature_extraction.text import CountVectorizer\n",
    "from pymongo import MongoClient"
   ]
  },
  {
   "cell_type": "code",
   "execution_count": 7,
   "metadata": {},
   "outputs": [],
   "source": [
    "client = MongoClient()\n",
    "db = client.linkedin\n",
    "collection = db.jobIds"
   ]
  },
  {
   "cell_type": "code",
   "execution_count": 52,
   "metadata": {},
   "outputs": [],
   "source": [
    "my_itens = collection.find({'description' : {'$exists' : True} })"
   ]
  },
  {
   "cell_type": "code",
   "execution_count": 53,
   "metadata": {
    "tags": []
   },
   "outputs": [],
   "source": [
    "doc_list = []\n",
    "for x in my_itens:\n",
    "    if len(x['description']) > 100:\n",
    "        doc_list.append(x['description'])"
   ]
  },
  {
   "cell_type": "code",
   "execution_count": 62,
   "metadata": {},
   "outputs": [],
   "source": [
    "count_vect = CountVectorizer(stop_words='english')"
   ]
  },
  {
   "cell_type": "code",
   "execution_count": 63,
   "metadata": {
    "tags": []
   },
   "outputs": [],
   "source": [
    "bag_of_words  = count_vect.fit_transform(doc_list)\n",
    "sum_words = bag_of_words.sum(axis=0)\n",
    "words_freq = [(word, sum_words[0, idx]) for word, idx in count_vect.vocabulary_.items()]\n",
    "words_freq =sorted(words_freq, key = lambda x: x[1], reverse=True)\n"
   ]
  },
  {
   "cell_type": "code",
   "execution_count": 64,
   "metadata": {},
   "outputs": [
    {
     "output_type": "execute_result",
     "data": {
      "text/plain": "[('data', 12168),\n ('en', 4120),\n ('experience', 3979),\n ('business', 3282),\n ('team', 3212),\n ('work', 2744),\n ('learning', 2552),\n ('em', 2514),\n ('com', 2153),\n ('je', 2135),\n ('machine', 2036),\n ('di', 1966),\n ('para', 1958),\n ('science', 1907),\n ('skills', 1905),\n ('analytics', 1749),\n ('van', 1740),\n ('working', 1655),\n ('een', 1581),\n ('development', 1567),\n ('knowledge', 1523),\n ('que', 1488),\n ('new', 1465),\n ('solutions', 1444),\n ('python', 1342),\n ('big', 1326),\n ('company', 1225),\n ('dados', 1213),\n ('scientist', 1188),\n ('management', 1185),\n ('software', 1173),\n ('analysis', 1149),\n ('technical', 1125),\n ('het', 1118),\n ('technology', 1113),\n ('la', 1109),\n ('world', 1073),\n ('role', 1028),\n ('met', 1008),\n ('looking', 1004),\n ('environment', 1000),\n ('strong', 990),\n ('projects', 977),\n ('tools', 973),\n ('services', 972),\n ('support', 964),\n ('te', 950),\n ('customer', 948),\n ('sql', 934),\n ('teams', 918),\n ('cloud', 908),\n ('time', 903),\n ('customers', 899),\n ('years', 893),\n ('using', 884),\n ('digital', 877),\n ('help', 864),\n ('engineering', 862),\n ('da', 859),\n ('design', 858),\n ('develop', 854),\n ('models', 849),\n ('product', 846),\n ('ability', 825),\n ('people', 809),\n ('best', 764),\n ('aws', 751),\n ('ou', 749),\n ('technologies', 749),\n ('make', 748),\n ('ai', 742),\n ('et', 738),\n ('information', 733),\n ('research', 732),\n ('computer', 724),\n ('build', 724),\n ('opportunity', 719),\n ('insights', 711),\n ('experiência', 704),\n ('use', 704),\n ('industry', 693),\n ('job', 684),\n ('high', 684),\n ('provide', 681),\n ('project', 666),\n ('systems', 665),\n ('based', 661),\n ('analytical', 660),\n ('voor', 654),\n ('communication', 649),\n ('op', 645),\n ('como', 642),\n ('intelligence', 640),\n ('end', 639),\n ('like', 631),\n ('clients', 629),\n ('você', 628),\n ('including', 626),\n ('opportunities', 624),\n ('apply', 621),\n ('understanding', 614),\n ('join', 614),\n ('um', 613),\n ('ll', 612),\n ('techniques', 609),\n ('quality', 606),\n ('marketing', 597),\n ('degree', 595),\n ('complex', 583),\n ('key', 583),\n ('good', 581),\n ('platform', 578),\n ('uma', 577),\n ('large', 576),\n ('na', 575),\n ('se', 571),\n ('global', 571),\n ('products', 565),\n ('advanced', 564),\n ('english', 564),\n ('value', 562),\n ('por', 559),\n ('performance', 557),\n ('building', 557),\n ('om', 554),\n ('leading', 553),\n ('statistical', 549),\n ('related', 545),\n ('requirements', 544),\n ('excellent', 536),\n ('driven', 534),\n ('learn', 532),\n ('os', 520),\n ('plus', 520),\n ('problems', 517),\n ('process', 513),\n ('growth', 512),\n ('algorithms', 509),\n ('impact', 508),\n ('deep', 508),\n ('improve', 504),\n ('able', 504),\n ('conhecimento', 498),\n ('relevant', 496),\n ('drive', 491),\n ('applications', 490),\n ('programming', 487),\n ('innovative', 485),\n ('expertise', 483),\n ('mais', 479),\n ('spark', 469),\n ('real', 468),\n ('modelos', 467),\n ('statistics', 462),\n ('different', 458),\n ('des', 457),\n ('level', 454),\n ('analyst', 451),\n ('sales', 448),\n ('client', 446),\n ('create', 440),\n ('desenvolvimento', 439),\n ('del', 438),\n ('senior', 437),\n ('stakeholders', 436),\n ('offer', 435),\n ('market', 432),\n ('lead', 432),\n ('results', 431),\n ('need', 431),\n ('professional', 430),\n ('innovation', 428),\n ('processing', 427),\n ('deliver', 424),\n ('needs', 421),\n ('growing', 421),\n ('fast', 412),\n ('bi', 411),\n ('companies', 411),\n ('processes', 409),\n ('internal', 408),\n ('master', 403),\n ('language', 394),\n ('le', 388),\n ('als', 387),\n ('developing', 385),\n ('field', 383),\n ('aan', 378),\n ('understand', 377),\n ('problem', 375),\n ('service', 374),\n ('artificial', 373),\n ('financial', 373),\n ('dos', 372),\n ('written', 372),\n ('way', 372),\n ('day', 371),\n ('position', 367),\n ('life', 367),\n ('career', 367),\n ('required', 365),\n ('training', 361),\n ('great', 354),\n ('scientists', 353),\n ('identify', 353),\n ('application', 352),\n ('flexible', 349),\n ('responsible', 348),\n ('el', 348),\n ('solving', 346),\n ('making', 345),\n ('organization', 345),\n ('highly', 344),\n ('benefits', 342),\n ('employees', 340),\n ('challenges', 339),\n ('ervaring', 339),\n ('passionate', 337),\n ('reporting', 337),\n ('international', 337),\n ('ml', 336),\n ('delivery', 335),\n ('ensure', 335),\n ('empresa', 333),\n ('engineers', 333),\n ('il', 331),\n ('web', 330),\n ('vision', 329),\n ('bij', 328),\n ('better', 327),\n ('java', 326),\n ('al', 326),\n ('azure', 325),\n ('agile', 325),\n ('activities', 325),\n ('candidate', 324),\n ('hadoop', 323),\n ('engineer', 322),\n ('office', 321),\n ('dei', 321),\n ('solution', 320),\n ('análise', 316),\n ('strategy', 316),\n ('dynamic', 315),\n ('predictive', 314),\n ('open', 314),\n ('responsibilities', 313),\n ('les', 313),\n ('user', 312),\n ('group', 312),\n ('methods', 310),\n ('various', 310),\n ('model', 309),\n ('partners', 308),\n ('soluções', 307),\n ('want', 305),\n ('risk', 305),\n ('focus', 305),\n ('implement', 301),\n ('languages', 301),\n ('modelling', 300),\n ('code', 296),\n ('mathematics', 295),\n ('passion', 295),\n ('future', 294),\n ('architecture', 292),\n ('zijn', 292),\n ('scale', 291),\n ('right', 291),\n ('google', 291),\n ('decision', 290),\n ('production', 288),\n ('die', 288),\n ('dat', 288),\n ('projetos', 287),\n ('functional', 286),\n ('onze', 286),\n ('plan', 285),\n ('external', 285),\n ('hebt', 285),\n ('quantitative', 284),\n ('una', 284),\n ('operations', 282),\n ('los', 279),\n ('são', 275),\n ('nos', 275),\n ('closely', 275),\n ('solve', 275),\n ('following', 275),\n ('scientific', 274),\n ('hands', 272),\n ('non', 272),\n ('diverse', 271),\n ('strategic', 270),\n ('areas', 270),\n ('creating', 269),\n ('culture', 267),\n ('conoscenza', 267),\n ('não', 265),\n ('order', 265),\n ('mobile', 265),\n ('manage', 265),\n ('competitive', 264),\n ('employment', 264),\n ('online', 263),\n ('contact', 263),\n ('nosso', 262),\n ('000', 262),\n ('oriented', 262),\n ('communicate', 260),\n ('power', 260),\n ('phd', 260),\n ('decisions', 259),\n ('health', 259),\n ('edge', 257),\n ('mining', 256),\n ('contribute', 256),\n ('expert', 256),\n ('databases', 255),\n ('core', 254),\n ('know', 253),\n ('personal', 253),\n ('modeling', 252),\n ('trabalho', 252),\n ('salary', 252),\n ('sas', 252),\n ('partner', 252),\n ('implementation', 252),\n ('jij', 252),\n ('clientes', 251),\n ('mission', 250),\n ('grow', 250),\n ('sets', 248),\n ('status', 248),\n ('vous', 248),\n ('datos', 248),\n ('experiencia', 247),\n ('dati', 246),\n ('enterprise', 245),\n ('insurance', 244),\n ('visualization', 243),\n ('seu', 243),\n ('tech', 242),\n ('challenging', 239),\n ('successful', 239),\n ('reports', 239),\n ('background', 239),\n ('multiple', 239),\n ('variety', 238),\n ('practices', 237),\n ('candidates', 237),\n ('concepts', 236),\n ('computing', 236),\n ('infrastructure', 236),\n ('das', 235),\n ('testing', 235),\n ('nossos', 233),\n ('técnicas', 233),\n ('ser', 232),\n ('success', 232),\n ('collaboration', 231),\n ('platforms', 231),\n ('focused', 230),\n ('tecnologia', 230),\n ('sources', 230),\n ('manager', 229),\n ('scala', 228),\n ('database', 228),\n ('belgium', 228),\n ('kennis', 228),\n ('collaborate', 227),\n ('fluent', 227),\n ('leadership', 224),\n ('leader', 224),\n ('consulting', 223),\n ('diversity', 223),\n ('werken', 222),\n ('equivalent', 221),\n ('applied', 221),\n ('ook', 221),\n ('deze', 220),\n ('sobre', 219),\n ('ferramentas', 219),\n ('challenge', 219),\n ('analyses', 219),\n ('qualifications', 218),\n ('área', 218),\n ('ideas', 218),\n ('come', 217),\n ('tableau', 216),\n ('transformation', 216),\n ('colleagues', 216),\n ('creative', 215),\n ('set', 215),\n ('home', 213),\n ('cv', 213),\n ('bent', 213),\n ('analyse', 212),\n ('similar', 212),\n ('access', 212),\n ('naar', 212),\n ('europe', 212),\n ('main', 211),\n ('bring', 210),\n ('department', 210),\n ('proven', 210),\n ('ad', 210),\n ('helping', 210),\n ('conhecimentos', 209),\n ('existing', 208),\n ('range', 208),\n ('specific', 208),\n ('experts', 208),\n ('members', 208),\n ('important', 207),\n ('equal', 207),\n ('trabalhar', 206),\n ('player', 206),\n ('available', 206),\n ('requisitos', 205),\n ('excel', 205),\n ('las', 205),\n ('package', 204),\n ('cross', 203),\n ('interested', 203),\n ('love', 202),\n ('state', 201),\n ('planning', 201),\n ('tasks', 201),\n ('asset', 201),\n ('ambiente', 200),\n ('datasets', 200),\n ('trends', 200),\n ('professionals', 200),\n ('long', 199),\n ('multi', 199),\n ('current', 199),\n ('issues', 199),\n ('parte', 198),\n ('approach', 198),\n ('used', 198),\n ('test', 198),\n ('applying', 197),\n ('area', 197),\n ('cutting', 197),\n ('kan', 197),\n ('share', 196),\n ('include', 196),\n ('self', 195),\n ('amazon', 195),\n ('security', 195),\n ('experienced', 195),\n ('questions', 194),\n ('base', 194),\n ('ms', 194),\n ('start', 194),\n ('term', 194),\n ('change', 194),\n ('delle', 194),\n ('negócio', 193),\n ('local', 192),\n ('users', 192),\n ('unique', 192),\n ('insight', 192),\n ('countries', 192),\n ('verbal', 191),\n ('sistemas', 189),\n ('operational', 189),\n ('meet', 188),\n ('relationships', 188),\n ('offers', 188),\n ('solid', 188),\n ('etl', 188),\n ('esperienza', 188),\n ('dutch', 187),\n ('della', 187),\n ('art', 186),\n ('perform', 185),\n ('klanten', 185),\n ('sector', 184),\n ('maintain', 184),\n ('critical', 184),\n ('class', 184),\n ('áreas', 183),\n ('banco', 183),\n ('resultados', 183),\n ('cliente', 182),\n ('potential', 182),\n ('desenvolver', 181),\n ('problemas', 181),\n ('ter', 181),\n ('committed', 181),\n ('frameworks', 180),\n ('10', 180),\n ('employer', 180),\n ('programação', 179),\n ('effectively', 179),\n ('exciting', 179),\n ('microsoft', 179),\n ('finance', 179),\n ('record', 178),\n ('define', 178),\n ('businesses', 178),\n ('ao', 177),\n ('algoritmos', 177),\n ('achieve', 177),\n ('thinking', 177),\n ('integration', 177),\n ('managing', 177),\n ('paced', 176),\n ('supply', 175),\n ('brussels', 175),\n ('offices', 174),\n ('optimization', 174),\n ('track', 174),\n ('network', 174),\n ('preferred', 174),\n ('nlp', 174),\n ('place', 173),\n ('devops', 173),\n ('www', 173),\n ('participate', 173),\n ('providing', 173),\n ('energy', 173),\n ('analyze', 172),\n ('talented', 172),\n ('talent', 172),\n ('developers', 172),\n ('clinical', 172),\n ('nossa', 171),\n ('basis', 171),\n ('wat', 171),\n ('possible', 170),\n ('believe', 170),\n ('capabilities', 170),\n ('pour', 170),\n ('methodologies', 169),\n ('things', 169),\n ('games', 169),\n ('pipelines', 169),\n ('date', 169),\n ('scalable', 168),\n ('distributed', 168),\n ('natural', 168),\n ('french', 168),\n ('uit', 168),\n ('wij', 168),\n ('vale', 167),\n ('commercial', 167),\n ('minimum', 167),\n ('equipe', 166),\n ('care', 166),\n ('si', 166),\n ('year', 166),\n ('une', 166),\n ('delivering', 166),\n ('healthcare', 165),\n ('100', 165),\n ('needed', 165),\n ('nosql', 164),\n ('jouw', 164),\n ('estamos', 163),\n ('estatística', 163),\n ('gender', 162),\n ('disability', 162),\n ('currently', 161),\n ('mercado', 161),\n ('portfolio', 161),\n ('binnen', 161),\n ('analisi', 161),\n ('pessoas', 160),\n ('designing', 160),\n ('modelagem', 159),\n ('empresas', 159),\n ('hive', 159),\n ('medical', 158),\n ('negócios', 158),\n ('initiatives', 158),\n ('collaborative', 158),\n ('profile', 157),\n ('sexual', 157),\n ('somos', 156),\n ('processo', 156),\n ('dashboards', 156),\n ('enjoy', 156),\n ('proficiency', 155),\n ('control', 155),\n ('content', 155),\n ('fazer', 154),\n ('effective', 154),\n ('strategies', 154),\n ('gsk', 154),\n ('engenharia', 153),\n ('national', 153),\n ('travel', 153),\n ('données', 153),\n ('testes', 152),\n ('enable', 152),\n ('dans', 152),\n ('sempre', 151),\n ('stack', 151),\n ('features', 151),\n ('orientation', 151),\n ('processos', 151),\n ('days', 150),\n ('tensorflow', 150),\n ('additional', 150),\n ('bachelor', 150),\n ('standards', 149),\n ('wide', 149),\n ('dan', 149),\n ('social', 148),\n ('structured', 148),\n ('motivated', 147),\n ('buscamos', 147),\n ('approaches', 146),\n ('fun', 146),\n ('supporting', 146),\n ('door', 146),\n ('developer', 146),\n ('discipline', 145),\n ('recommendations', 144),\n ('values', 144),\n ('scripting', 144),\n ('search', 144),\n ('domain', 144),\n ('european', 144),\n ('actionable', 143),\n ('plataforma', 143),\n ('mindset', 143),\n ('leaders', 143),\n ('ons', 143),\n ('nel', 143),\n ('changing', 142),\n ('difference', 142),\n ('nieuwe', 142),\n ('managers', 141),\n ('patients', 141),\n ('ben', 141),\n ('dit', 141),\n ('program', 141),\n ('practice', 140),\n ('cases', 140),\n ('human', 140),\n ('paulo', 139),\n ('junior', 139),\n ('latest', 139),\n ('experiences', 139),\n ('patterns', 139),\n ('involved', 139),\n ('entre', 138),\n ('public', 138),\n ('basic', 138),\n ('result', 138),\n ('profissionais', 137),\n ('novas', 137),\n ('media', 137),\n ('community', 137),\n ('computação', 136),\n ('present', 136),\n ('git', 136),\n ('vaga', 136),\n ('hard', 136),\n ('play', 136),\n ('today', 136),\n ('resources', 136),\n ('active', 136),\n ('privacy', 136),\n ('análises', 135),\n ('kafka', 135),\n ('architect', 135),\n ('significant', 135),\n ('goals', 134),\n ('sciences', 134),\n ('vaccines', 134),\n ('su', 134),\n ('leverage', 133),\n ('chain', 133),\n ('implementing', 133),\n ('revenue', 132),\n ('automation', 132),\n ('considered', 132),\n ('source', 132),\n ('realizar', 131),\n ('analysts', 131),\n ('goal', 131),\n ('annual', 131),\n ('mathematical', 131),\n ('largest', 131),\n ('regulatory', 131),\n ('monitoring', 131),\n ('informatica', 131),\n ('ed', 131),\n ('site', 130),\n ('javascript', 130),\n ('writing', 130),\n ('times', 129),\n ('responsibility', 129),\n ('deploy', 129),\n ('just', 129),\n ('race', 129),\n ('outcomes', 129),\n ('lavoro', 129),\n ('ideal', 128),\n ('person', 128),\n ('preferably', 128),\n ('religion', 128),\n ('directly', 128),\n ('member', 128),\n ('organisation', 128),\n ('alla', 128),\n ('generation', 127),\n ('architectures', 127),\n ('uk', 127),\n ('samen', 127),\n ('individual', 126),\n ('remote', 126),\n ('forward', 126),\n ('objectives', 126),\n ('line', 126),\n ('consultants', 125),\n ('ensuring', 125),\n ('habilidades', 125),\n ('clear', 125),\n ('plans', 125),\n ('docker', 125),\n ('canada', 125),\n ('bairesdev', 125),\n ('oracle', 124),\n ('extensive', 124),\n ('ways', 124),\n ('driving', 124),\n ('er', 124),\n ('sua', 123),\n ('independently', 123),\n ('continuous', 123),\n ('collega', 123),\n ('capacità', 123),\n ('location', 122),\n ('serviços', 122),\n ('analytic', 122),\n ('perfil', 122),\n ('linux', 122),\n ('2020', 122),\n ('improvement', 122),\n ('eager', 122),\n ('functie', 122),\n ('kunnen', 122),\n ('todos', 121),\n ('free', 121),\n ('daily', 121),\n ('governance', 121),\n ('bonus', 121),\n ('du', 121),\n ('che', 121),\n ('scikit', 120),\n ('brands', 120),\n ('wordt', 120),\n ('consultant', 120),\n ('contract', 120),\n ('desarrollo', 120),\n ('lake', 119),\n ('think', 119),\n ('presentation', 119),\n ('small', 119),\n ('recognized', 119),\n ('criação', 118),\n ('patient', 118),\n ('server', 118),\n ('close', 118),\n ('physics', 118),\n ('compliance', 118),\n ('recruitment', 117),\n ('scrum', 117),\n ('levels', 117),\n ('maken', 117),\n ('isso', 116),\n ('refeição', 116),\n ('será', 116),\n ('worldwide', 116),\n ('ti', 116),\n ('tot', 116),\n ('depth', 116),\n ('produtos', 115),\n ('formação', 115),\n ('modern', 115),\n ('individuals', 115),\n ('quickly', 115),\n ('translate', 115),\n ('es', 115),\n ('broad', 114),\n ('excellence', 114),\n ('entrepreneurial', 114),\n ('iot', 114),\n ('report', 114),\n ('applicants', 114),\n ('specialist', 114),\n ('discover', 114),\n ('tu', 114),\n ('forma', 113),\n ('vida', 113),\n ('tecnologias', 113),\n ('profissional', 113),\n ('gestão', 113),\n ('pipeline', 113),\n ('account', 113),\n ('actively', 113),\n ('forecasting', 113),\n ('https', 112),\n ('também', 112),\n ('optimize', 112),\n ('subject', 112),\n ('don', 112),\n ('efficient', 112),\n ('environments', 112),\n ('organizations', 112),\n ('deployment', 112),\n ('proficient', 112),\n ('jou', 112),\n ('está', 111),\n ('inglês', 111),\n ('coding', 111),\n ('university', 111),\n ('education', 111),\n ('look', 111),\n ('compensation', 111),\n ('adoption', 111),\n ('avec', 111),\n ('review', 111),\n ('heart', 111),\n ('expect', 111),\n ('equipo', 111),\n ('seus', 110),\n ('outros', 110),\n ('20', 110),\n ('assist', 110),\n ('practical', 110),\n ('comfortable', 110),\n ('integrity', 110),\n ('center', 110),\n ('thrive', 110),\n ('hebben', 110),\n ('improving', 109),\n ('transform', 109),\n ('werk', 109),\n ('apache', 108),\n ('smart', 108),\n ('ambitious', 108),\n ('superior', 108),\n ('ideally', 108),\n ('validation', 108),\n ('image', 108),\n ('alle', 108),\n ('organisatie', 108),\n ('uso', 107),\n ('context', 107),\n ('meaningful', 107),\n ('facing', 107),\n ('appropriate', 107),\n ('balance', 107),\n ('bieden', 107),\n ('rwe', 107),\n ('goede', 107),\n ('sviluppo', 107),\n ('tem', 106),\n ('consumer', 106),\n ('proactive', 106),\n ('framework', 106),\n ('tests', 106),\n ('function', 106),\n ('maar', 106),\n ('sap', 106),\n ('ambito', 106),\n ('dia', 105),\n ('benefit', 105),\n ('informações', 105),\n ('million', 105),\n ('works', 105),\n ('documentation', 105),\n ('utilizando', 104),\n ('nós', 104),\n ('melhores', 104),\n ('além', 104),\n ('qualidade', 104),\n ('fields', 104),\n ('age', 104),\n ('respect', 104),\n ('architects', 104),\n ('click', 104),\n ('multicultural', 104),\n ('hardware', 104),\n ('desafios', 103),\n ('aqui', 103),\n ('ready', 103),\n ('complete', 103),\n ('metrics', 103),\n ('london', 103),\n ('fastest', 103),\n ('computational', 103),\n ('send', 103),\n ('workplace', 103),\n ('waar', 103),\n ('lives', 102),\n ('action', 102),\n ('performing', 102),\n ('regression', 102),\n ('crédito', 102),\n ('academic', 102),\n ('identifying', 102),\n ('hours', 102),\n ('provides', 102),\n ('demonstrated', 102),\n ('jaar', 102),\n ('mee', 102),\n ('retail', 102),\n ('análisis', 102),\n ('nossas', 101),\n ('produto', 101),\n ('matemática', 101),\n ('benefícios', 101),\n ('apis', 101),\n ('pricing', 101),\n ('events', 101),\n ('verschillende', 101),\n ('standard', 101),\n ('ricerca', 101),\n ('temos', 100),\n ('ci', 100),\n ('ve', 100),\n ('follow', 100),\n ('write', 100),\n ('located', 100),\n ('budget', 100),\n ('niet', 100),\n ('insider', 100),\n ('sharing', 99),\n ('credit', 99),\n ('industries', 99),\n ('manufacturing', 99),\n ('oportunidade', 98),\n ('nice', 98),\n ('live', 98),\n ('influence', 98),\n ('inclusive', 98),\n ('advantage', 98),\n ('zoals', 98),\n ('valor', 97),\n ('aprender', 97),\n ('efficiency', 97),\n ('structure', 97),\n ('500', 97),\n ('exceptional', 97),\n ('markets', 97),\n ('legal', 97),\n ('hoc', 97),\n ('ecosystem', 97),\n ('private', 97),\n ('allow', 97),\n ('feel', 97),\n ('brasil', 96),\n ('major', 96),\n ('generate', 96),\n ('melhor', 96),\n ('gcp', 96),\n ('game', 96),\n ('willing', 96),\n ('necessary', 96),\n ('actions', 96),\n ('attractive', 96),\n ('startup', 95),\n ('capacidade', 95),\n ('ciência', 95),\n ('pandas', 95),\n ('corporate', 95),\n ('networks', 95),\n ('construir', 95),\n ('functions', 95),\n ('shape', 95),\n ('collection', 95),\n ('spirit', 95),\n ('firm', 95),\n ('api', 95),\n ('demonstrate', 95),\n ('worden', 95),\n ('ucb', 95),\n ('più', 95),\n ('proyectos', 95),\n ('familiarity', 94),\n ('plano', 94),\n ('bem', 94),\n ('apps', 94),\n ('aim', 94),\n ('mind', 94),\n ('economics', 94),\n ('millions', 94),\n ('operate', 94),\n ('study', 94),\n ('require', 94),\n ('pension', 94),\n ('hun', 94),\n ...]"
     },
     "metadata": {},
     "execution_count": 64
    }
   ],
   "source": [
    "words_freq"
   ]
  },
  {
   "cell_type": "code",
   "execution_count": null,
   "metadata": {},
   "outputs": [],
   "source": []
  }
 ],
 "metadata": {
  "language_info": {
   "codemirror_mode": {
    "name": "ipython",
    "version": 3
   },
   "file_extension": ".py",
   "mimetype": "text/x-python",
   "name": "python",
   "nbconvert_exporter": "python",
   "pygments_lexer": "ipython3",
   "version": 3
  },
  "orig_nbformat": 2,
  "kernelspec": {
   "name": "python_defaultSpec_1594433579561",
   "display_name": "Python 3.7.6 64-bit ('base': conda)"
  }
 },
 "nbformat": 4,
 "nbformat_minor": 2
}