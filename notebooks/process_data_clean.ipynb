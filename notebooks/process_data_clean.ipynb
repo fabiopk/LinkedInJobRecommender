{
 "cells": [
  {
   "cell_type": "code",
   "execution_count": 1,
   "metadata": {},
   "outputs": [],
   "source": [
    "from pymongo import MongoClient\n",
    "import pandas as pd\n",
    "from feature_extractor import get_ohe_features"
   ]
  },
  {
   "cell_type": "code",
   "execution_count": 2,
   "metadata": {},
   "outputs": [],
   "source": [
    "from sklearn.feature_extraction import text\n",
    "from portuguese_stop_words import pt_br_stopwords\n",
    "stop_words = text.ENGLISH_STOP_WORDS.union(pt_br_stopwords)"
   ]
  },
  {
   "cell_type": "code",
   "execution_count": 3,
   "metadata": {},
   "outputs": [],
   "source": [
    "client = MongoClient()\n",
    "db = client.linkedin\n",
    "collection = db.jobIds"
   ]
  },
  {
   "cell_type": "code",
   "execution_count": 4,
   "metadata": {},
   "outputs": [],
   "source": [
    "df = pd.DataFrame(list(collection.find({})))"
   ]
  },
  {
   "cell_type": "code",
   "execution_count": 5,
   "metadata": {},
   "outputs": [],
   "source": [
    "from sklearn.model_selection import train_test_split\n",
    "\n",
    "df['Description Length'] = df['description'].apply(len)\n",
    "\n",
    "df_train_val = df[pd.notna(df['label'])]\n",
    "df_test = df[~pd.notna(df['label'])]\n",
    "X_test = df_test\n",
    "\n",
    "X = df_train_val.drop(columns=['label'])\n",
    "y = df_train_val[['label']]\n",
    "\n",
    "usedFeatures = ['applicants', 'applicants_per_day', 'Description Length']\n",
    "\n",
    "X_train, X_val, y_train, y_val = train_test_split(X, y, test_size=0.25, random_state=777, stratify=y)\n",
    "\n",
    "final_features_train = [X_train[usedFeatures]]\n",
    "final_features_val = [X_val[usedFeatures]]\n",
    "final_features_test = [X_test[usedFeatures]]\n",
    "\n",
    "final_vects_train = []\n",
    "final_vects_val = []\n",
    "final_vects_test = []"
   ]
  },
  {
   "cell_type": "code",
   "execution_count": 6,
   "metadata": {},
   "outputs": [],
   "source": [
    "categorical_fields = ['Seniority level', 'Employment type', 'Job function', 'Industries']\n",
    "\n",
    "for field in categorical_fields:\n",
    "    final_features_train.append(get_ohe_features(X_train, field))\n",
    "    final_features_val.append(get_ohe_features(X_val, field))\n",
    "    final_features_test.append(get_ohe_features(X_test, field))"
   ]
  },
  {
   "cell_type": "code",
   "execution_count": 7,
   "metadata": {
    "tags": []
   },
   "outputs": [
    {
     "output_type": "stream",
     "name": "stdout",
     "text": "(498, 34)\n"
    }
   ],
   "source": [
    "from sklearn.feature_extraction.text import TfidfVectorizer\n",
    "\n",
    "title_vec = TfidfVectorizer(min_df=10, ngram_range=(1,2), stop_words=stop_words)\n",
    "title_bow_train = title_vec.fit_transform(X_train['title'])\n",
    "title_bow_val = title_vec.transform(X_val['title'])\n",
    "title_bow_test = title_vec.transform(X_test['title'])\n",
    "\n",
    "print(title_bow_train.shape)\n",
    "\n",
    "final_vects_train.append(title_bow_train)\n",
    "final_vects_val.append(title_bow_val)\n",
    "final_vects_test.append(title_bow_test)"
   ]
  },
  {
   "cell_type": "code",
   "execution_count": 8,
   "metadata": {
    "tags": []
   },
   "outputs": [
    {
     "output_type": "stream",
     "name": "stdout",
     "text": "(498, 6784)\n"
    }
   ],
   "source": [
    "desc_vec = TfidfVectorizer(min_df=5, ngram_range=(1,4), stop_words=stop_words)\n",
    "desc_bow_train = desc_vec.fit_transform(X_train['description'])\n",
    "desc_bow_val = desc_vec.transform(X_val['description'])\n",
    "desc_bow_test = desc_vec.transform(X_test['description'])\n",
    "\n",
    "print(desc_bow_train.shape)\n",
    "\n",
    "final_vects_train.append(desc_bow_train)\n",
    "final_vects_val.append(desc_bow_val)\n",
    "final_vects_test.append(desc_bow_test)"
   ]
  },
  {
   "cell_type": "code",
   "execution_count": 9,
   "metadata": {},
   "outputs": [],
   "source": [
    "from scipy.sparse import hstack\n",
    "\n",
    "X_train_full = hstack(final_features_train + final_vects_train)\n",
    "X_val_full = hstack(final_features_val + final_vects_val)\n",
    "X_test_full = hstack(final_features_test + final_vects_test)"
   ]
  },
  {
   "cell_type": "code",
   "execution_count": 10,
   "metadata": {},
   "outputs": [
    {
     "output_type": "execute_result",
     "data": {
      "text/plain": "RandomForestClassifier(bootstrap=True, ccp_alpha=0.0, class_weight='balanced',\n                       criterion='gini', max_depth=None, max_features='auto',\n                       max_leaf_nodes=None, max_samples=None,\n                       min_impurity_decrease=0.0, min_impurity_split=None,\n                       min_samples_leaf=5, min_samples_split=2,\n                       min_weight_fraction_leaf=0.0, n_estimators=1000,\n                       n_jobs=-1, oob_score=False, random_state=0, verbose=0,\n                       warm_start=False)"
     },
     "metadata": {},
     "execution_count": 10
    }
   ],
   "source": [
    "from sklearn.ensemble import RandomForestClassifier\n",
    "\n",
    "mdl_rf = RandomForestClassifier(n_estimators=1000, random_state=0, class_weight=\"balanced\", n_jobs=-1, min_samples_leaf=5)\n",
    "mdl_rf.fit(X_train_full, y_train)"
   ]
  },
  {
   "cell_type": "code",
   "execution_count": 11,
   "metadata": {
    "tags": []
   },
   "outputs": [
    {
     "output_type": "stream",
     "name": "stdout",
     "text": "Precision: 57.97%\tAUC: 0.855\n"
    }
   ],
   "source": [
    "from sklearn.metrics import roc_auc_score, average_precision_score\n",
    "\n",
    "p = mdl_rf.predict_proba(X_val_full)[:, 1]\n",
    "\n",
    "precision = average_precision_score(y_val, p)\n",
    "auc = roc_auc_score(y_val, p)\n",
    "\n",
    "print(\"Precision: {:.2f}%\\tAUC: {:.3f}\".format(precision*100, auc))"
   ]
  },
  {
   "cell_type": "code",
   "execution_count": 12,
   "metadata": {},
   "outputs": [],
   "source": [
    "# Precision: 68.71%\tAUC: 0.900 - title_vec = (min_df=3, ngram_range=(1,2) desc_vec =(min_df=4, ngram_range=(1,3)\n",
    "# Precision: 71.35%\tAUC: 0.875 "
   ]
  },
  {
   "cell_type": "code",
   "execution_count": 13,
   "metadata": {},
   "outputs": [],
   "source": [
    "from lightgbm import LGBMClassifier"
   ]
  },
  {
   "cell_type": "code",
   "execution_count": 14,
   "metadata": {},
   "outputs": [
    {
     "output_type": "execute_result",
     "data": {
      "text/plain": "LGBMClassifier(boosting_type='gbdt', class_weight='balanced',\n               colsample_bytree=1.0, importance_type='split', learning_rate=0.1,\n               max_depth=-1, min_child_samples=20, min_child_weight=0.001,\n               min_split_gain=0.0, n_estimators=100, n_jobs=-1, num_leaves=31,\n               objective=None, random_state=0, reg_alpha=0.0, reg_lambda=0.0,\n               silent=True, subsample=1.0, subsample_for_bin=200000,\n               subsample_freq=0)"
     },
     "metadata": {},
     "execution_count": 14
    }
   ],
   "source": [
    "mdl = LGBMClassifier(random_state=0, class_weight=\"balanced\", n_jobs=-1)\n",
    "mdl.fit(X_train_full, y_train)"
   ]
  },
  {
   "cell_type": "code",
   "execution_count": 15,
   "metadata": {
    "tags": []
   },
   "outputs": [
    {
     "output_type": "stream",
     "name": "stdout",
     "text": "Precision: 56.15%\tAUC: 0.847\n"
    }
   ],
   "source": [
    "p = mdl.predict_proba(X_val_full)[:, 1]\n",
    "\n",
    "precision = average_precision_score(y_val, p)\n",
    "auc = roc_auc_score(y_val, p)\n",
    "\n",
    "print(\"Precision: {:.2f}%\\tAUC: {:.3f}\".format(precision*100, auc))"
   ]
  },
  {
   "cell_type": "code",
   "execution_count": 16,
   "metadata": {},
   "outputs": [],
   "source": [
    "from skopt import forest_minimize"
   ]
  },
  {
   "cell_type": "code",
   "execution_count": 17,
   "metadata": {},
   "outputs": [
    {
     "output_type": "execute_result",
     "data": {
      "text/plain": "(label    0.2249\n dtype: float64,\n label    0.222892\n dtype: float64)"
     },
     "metadata": {},
     "execution_count": 17
    }
   ],
   "source": [
    "y_train.mean(), y_val.mean()"
   ]
  },
  {
   "cell_type": "code",
   "execution_count": 18,
   "metadata": {
    "tags": [
     "outputPrepend"
    ]
   },
   "outputs": [
    {
     "output_type": "stream",
     "name": "stdout",
     "text": "eration No: 36 ended. Evaluation done at random point.\nTime taken: 2.8215\nFunction value obtained: -0.5603\nCurrent minimum: -0.5990\nIteration No: 37 started. Evaluating function at random point.\n[0.03277820499942151, 1, 27, 0.3296239518032571, 0.5943463171315009, 15, 3, 5, 4]\n0.8117536140791956\nIteration No: 37 ended. Evaluation done at random point.\nTime taken: 1.5585\nFunction value obtained: -0.5614\nCurrent minimum: -0.5990\nIteration No: 38 started. Evaluating function at random point.\n[0.01278532962202386, 3, 26, 0.4412646381559916, 0.6196014465731267, 12, 3, 2, 1]\n0.8201340875759481\nIteration No: 38 ended. Evaluation done at random point.\nTime taken: 0.4135\nFunction value obtained: -0.5436\nCurrent minimum: -0.5990\nIteration No: 39 started. Evaluating function at random point.\n[0.021458348781111743, 8, 17, 0.8738509201164921, 0.7492052899412638, 13, 3, 3, 2]\n0.822962497381102\nIteration No: 39 ended. Evaluation done at random point.\nTime taken: 1.0480\nFunction value obtained: -0.5225\nCurrent minimum: -0.5990\nIteration No: 40 started. Evaluating function at random point.\n[0.016977507020243126, 2, 17, 0.5268433765090873, 0.819894901630291, 5, 2, 2, 3]\n0.824743347999162\nIteration No: 40 ended. Evaluation done at random point.\nTime taken: 1.6130\nFunction value obtained: -0.5326\nCurrent minimum: -0.5990\nIteration No: 41 started. Searching for the next optimal point.\n[0.017348787542246415, 1, 28, 0.05814219745965308, 0.09377197623407703, 7, 2, 3, 4]\n0.8397234443746072\nIteration No: 41 ended. Search finished for the next optimal point.\nTime taken: 1.8495\nFunction value obtained: -0.5791\nCurrent minimum: -0.5990\nIteration No: 42 started. Searching for the next optimal point.\n[0.010859338556193024, 7, 29, 0.3666730140029063, 0.1504775475961158, 9, 1, 2, 4]\n0.8663314477267966\nIteration No: 42 ended. Search finished for the next optimal point.\nTime taken: 2.0860\nFunction value obtained: -0.5882\nCurrent minimum: -0.5990\nIteration No: 43 started. Searching for the next optimal point.\n[0.08663457479181307, 1, 24, 0.2645583146452398, 0.0749808019231257, 11, 3, 2, 4]\n0.8466373350094281\nIteration No: 43 ended. Search finished for the next optimal point.\nTime taken: 1.9950\nFunction value obtained: -0.5603\nCurrent minimum: -0.5990\nIteration No: 44 started. Searching for the next optimal point.\n[0.02403858416737216, 11, 28, 0.8515631236465283, 0.1043395111077348, 10, 1, 3, 2]\n0.8583699979048817\nIteration No: 44 ended. Search finished for the next optimal point.\nTime taken: 1.3845\nFunction value obtained: -0.5685\nCurrent minimum: -0.5990\nIteration No: 45 started. Searching for the next optimal point.\n[0.010663799070771298, 1, 30, 0.4889711491369306, 0.1934924228560122, 4, 1, 2, 4]\n0.773517703750262\nIteration No: 45 ended. Search finished for the next optimal point.\nTime taken: 1.9940\nFunction value obtained: -0.4822\nCurrent minimum: -0.5990\nIteration No: 46 started. Searching for the next optimal point.\n[0.015407700246962575, 8, 28, 0.9699437661203798, 0.06480787426625205, 3, 2, 3, 4]\n0.8797402053216007\nIteration No: 46 ended. Search finished for the next optimal point.\nTime taken: 2.0350\nFunction value obtained: -0.6155\nCurrent minimum: -0.6155\nIteration No: 47 started. Searching for the next optimal point.\n[0.011374108676504378, 9, 29, 0.8823250418144378, 0.10762920355588967, 11, 1, 2, 4]\n0.8623507228158391\nIteration No: 47 ended. Search finished for the next optimal point.\nTime taken: 2.1525\nFunction value obtained: -0.5854\nCurrent minimum: -0.6155\nIteration No: 48 started. Searching for the next optimal point.\n[0.015002058379618665, 6, 28, 0.4211848168268538, 0.13043853695722507, 3, 2, 2, 4]\n0.8638173056777708\nIteration No: 48 ended. Search finished for the next optimal point.\nTime taken: 2.0495\nFunction value obtained: -0.5903\nCurrent minimum: -0.6155\nIteration No: 49 started. Searching for the next optimal point.\n[0.01038455183497479, 4, 29, 0.8743211593601088, 0.1368040145680176, 13, 2, 4, 4]\n0.8372093023255814\nIteration No: 49 ended. Search finished for the next optimal point.\nTime taken: 1.8675\nFunction value obtained: -0.5246\nCurrent minimum: -0.6155\nIteration No: 50 started. Searching for the next optimal point.\n[0.09504151851653603, 6, 28, 0.8836919453520905, 0.13984451598458963, 4, 2, 2, 4]\n0.8491514770584538\nIteration No: 50 ended. Search finished for the next optimal point.\nTime taken: 2.0375\nFunction value obtained: -0.5768\nCurrent minimum: -0.6155\nIteration No: 51 started. Searching for the next optimal point.\n[0.018165272599875076, 11, 29, 0.4308863319838246, 0.14522618423945147, 3, 2, 2, 4]\n0.8533417138068301\nIteration No: 51 ended. Search finished for the next optimal point.\nTime taken: 2.3875\nFunction value obtained: -0.5618\nCurrent minimum: -0.6155\nIteration No: 52 started. Searching for the next optimal point.\n[0.015281312124240854, 8, 28, 0.7124749157766376, 0.08401551736120141, 9, 1, 7, 4]\n0.8589985334171382\nIteration No: 52 ended. Search finished for the next optimal point.\nTime taken: 1.8355\nFunction value obtained: -0.5591\nCurrent minimum: -0.6155\nIteration No: 53 started. Searching for the next optimal point.\n[0.03532978139100978, 8, 29, 0.18276886805130926, 0.06780790325220704, 15, 2, 3, 4]\n0.8694741252880788\nIteration No: 53 ended. Search finished for the next optimal point.\nTime taken: 1.9030\nFunction value obtained: -0.6006\nCurrent minimum: -0.6155\nIteration No: 54 started. Searching for the next optimal point.\n[0.08805086363010296, 9, 30, 0.7943539355554877, 0.05995079942869814, 6, 3, 3, 3]\n0.8541797611565054\nIteration No: 54 ended. Search finished for the next optimal point.\nTime taken: 1.5140\nFunction value obtained: -0.5730\nCurrent minimum: -0.6155\nIteration No: 55 started. Searching for the next optimal point.\n[0.026286800043458344, 5, 29, 0.5679989331682546, 0.06359304188082546, 15, 1, 2, 4]\n0.8625602346532579\nIteration No: 55 ended. Search finished for the next optimal point.\nTime taken: 2.0885\nFunction value obtained: -0.5692\nCurrent minimum: -0.6155\nIteration No: 56 started. Searching for the next optimal point.\n[0.025755756413969162, 2, 28, 0.4691537882485443, 0.07066463438572444, 15, 3, 3, 4]\n0.8813115441022418\nIteration No: 56 ended. Search finished for the next optimal point.\nTime taken: 1.8465\nFunction value obtained: -0.6338\nCurrent minimum: -0.6338\nIteration No: 57 started. Searching for the next optimal point.\n[0.013552197337801802, 1, 28, 0.8466565708475077, 0.05799676582565244, 7, 2, 4, 4]\n0.8263146867798031\nIteration No: 57 ended. Search finished for the next optimal point.\nTime taken: 1.8096\nFunction value obtained: -0.5748\nCurrent minimum: -0.6338\nIteration No: 58 started. Searching for the next optimal point.\n[0.010292511890115976, 1, 28, 0.4015222447337555, 0.15554248455495073, 6, 1, 3, 4]\n0.8043159438508276\nIteration No: 58 ended. Search finished for the next optimal point.\nTime taken: 1.8855\nFunction value obtained: -0.5284\nCurrent minimum: -0.6338\nIteration No: 59 started. Searching for the next optimal point.\n[0.012236130852486987, 3, 29, 0.19089564282797983, 0.06771012476574612, 15, 3, 3, 4]\n0.877226063272575\nIteration No: 59 ended. Search finished for the next optimal point.\nTime taken: 1.8770\nFunction value obtained: -0.6092\nCurrent minimum: -0.6338\nIteration No: 60 started. Searching for the next optimal point.\n[0.017337535036689885, 1, 20, 0.8762893966046751, 0.05784908507960922, 15, 3, 2, 2]\n0.8114393463230674\nIteration No: 60 ended. Search finished for the next optimal point.\nTime taken: 1.0585\nFunction value obtained: -0.5080\nCurrent minimum: -0.6338\nIteration No: 61 started. Searching for the next optimal point.\n[0.024660504442362067, 2, 30, 0.4044865777356594, 0.4239953270899156, 15, 3, 3, 4]\n0.8501990362455478\nIteration No: 61 ended. Search finished for the next optimal point.\nTime taken: 1.8880\nFunction value obtained: -0.5432\nCurrent minimum: -0.6338\nIteration No: 62 started. Searching for the next optimal point.\n[0.03572469533470006, 6, 30, 0.11146126624605501, 0.063324978855922, 14, 2, 3, 4]\n0.8665409595642154\nIteration No: 62 ended. Search finished for the next optimal point.\nTime taken: 1.8950\nFunction value obtained: -0.5906\nCurrent minimum: -0.6338\nIteration No: 63 started. Searching for the next optimal point.\n[0.031593848816842816, 4, 30, 0.09251254489370771, 0.0912189920631446, 13, 3, 3, 4]\n0.8745024093861303\nIteration No: 63 ended. Search finished for the next optimal point.\nTime taken: 1.9230\nFunction value obtained: -0.6027\nCurrent minimum: -0.6338\nIteration No: 64 started. Searching for the next optimal point.\n[0.010192362297632243, 1, 29, 0.9434085581251246, 0.0718428743065419, 13, 3, 3, 3]\n0.8172009218520847\nIteration No: 64 ended. Search finished for the next optimal point.\nTime taken: 1.4120\nFunction value obtained: -0.5329\nCurrent minimum: -0.6338\nIteration No: 65 started. Searching for the next optimal point.\n[0.022249265794866996, 3, 28, 0.7325618146706947, 0.06239170059985228, 12, 3, 3, 4]\n0.8864445841190027\nIteration No: 65 ended. Search finished for the next optimal point.\nTime taken: 1.8435\nFunction value obtained: -0.6374\nCurrent minimum: -0.6374\nIteration No: 66 started. Searching for the next optimal point.\n[0.01667858541061767, 7, 26, 0.6717383882306625, 0.07195738835140977, 10, 3, 3, 4]\n0.8858160486067463\nIteration No: 66 ended. Search finished for the next optimal point.\nTime taken: 1.9320\nFunction value obtained: -0.6328\nCurrent minimum: -0.6374\nIteration No: 67 started. Searching for the next optimal point.\n[0.011500192745376064, 1, 27, 0.4961215484772524, 0.11070575118228915, 5, 3, 3, 4]\n0.8153153153153153\nIteration No: 67 ended. Search finished for the next optimal point.\nTime taken: 1.8385\nFunction value obtained: -0.5653\nCurrent minimum: -0.6374\nIteration No: 68 started. Searching for the next optimal point.\n[0.04244918304916365, 1, 27, 0.6155696217152953, 0.06727345959585226, 13, 3, 3, 4]\n0.848418185627488\nIteration No: 68 ended. Search finished for the next optimal point.\nTime taken: 1.8720\nFunction value obtained: -0.5797\nCurrent minimum: -0.6374\nIteration No: 69 started. Searching for the next optimal point.\n[0.01825017134968609, 4, 24, 0.8498269313962468, 0.07045337888358931, 14, 3, 4, 4]\n0.8554368321810182\nIteration No: 69 ended. Search finished for the next optimal point.\nTime taken: 1.9100\nFunction value obtained: -0.5615\nCurrent minimum: -0.6374\nIteration No: 70 started. Searching for the next optimal point.\n[0.01048470156222378, 12, 30, 0.474097532311384, 0.08278924046448852, 4, 3, 3, 4]\n0.8763880159228996\nIteration No: 70 ended. Search finished for the next optimal point.\nTime taken: 2.9680\nFunction value obtained: -0.6078\nCurrent minimum: -0.6374\nIteration No: 71 started. Searching for the next optimal point.\n[0.019999575919889875, 4, 29, 0.8740330049708278, 0.2152211914744941, 6, 3, 3, 4]\n0.8694741252880788\nIteration No: 71 ended. Search finished for the next optimal point.\nTime taken: 1.9650\nFunction value obtained: -0.5708\nCurrent minimum: -0.6374\nIteration No: 72 started. Searching for the next optimal point.\n[0.012038230097900865, 3, 30, 0.8475685864303764, 0.07374281639441381, 13, 3, 3, 4]\n0.879321181646763\nIteration No: 72 ended. Search finished for the next optimal point.\nTime taken: 1.9040\nFunction value obtained: -0.6020\nCurrent minimum: -0.6374\nIteration No: 73 started. Searching for the next optimal point.\n[0.045126275170827394, 2, 29, 0.5637527348532478, 0.05061237765348675, 15, 3, 7, 4]\n0.8585795097423005\nIteration No: 73 ended. Search finished for the next optimal point.\nTime taken: 1.7940\nFunction value obtained: -0.5743\nCurrent minimum: -0.6374\nIteration No: 74 started. Searching for the next optimal point.\n[0.025029102322193294, 1, 20, 0.1958744852600302, 0.06658595290399846, 12, 3, 3, 4]\n0.8508275717578042\nIteration No: 74 ended. Search finished for the next optimal point.\nTime taken: 1.8629\nFunction value obtained: -0.5649\nCurrent minimum: -0.6374\nIteration No: 75 started. Searching for the next optimal point.\n[0.028958893367595617, 5, 25, 0.16430526139730817, 0.055161072650585945, 15, 3, 3, 4]\n0.8753404567358056\nIteration No: 75 ended. Search finished for the next optimal point.\nTime taken: 1.8585\nFunction value obtained: -0.6114\nCurrent minimum: -0.6374\nIteration No: 76 started. Searching for the next optimal point.\n[0.06340424394689168, 2, 26, 0.6552030267637385, 0.05076636303519122, 12, 3, 3, 4]\n0.8739786297925833\nIteration No: 76 ended. Search finished for the next optimal point.\nTime taken: 1.9220\nFunction value obtained: -0.5928\nCurrent minimum: -0.6374\nIteration No: 77 started. Searching for the next optimal point.\n[0.010096064101635828, 10, 28, 0.657063684613777, 0.10786592928414324, 15, 3, 3, 4]\n0.8824638592080453\nIteration No: 77 ended. Search finished for the next optimal point.\nTime taken: 2.0415\nFunction value obtained: -0.6104\nCurrent minimum: -0.6374\nIteration No: 78 started. Searching for the next optimal point.\n[0.025416942437717988, 2, 24, 0.9879433791144742, 0.0832738538216324, 15, 2, 3, 4]\n0.871359731824848\nIteration No: 78 ended. Search finished for the next optimal point.\nTime taken: 1.9020\nFunction value obtained: -0.5842\nCurrent minimum: -0.6374\nIteration No: 79 started. Searching for the next optimal point.\n[0.010697423302464329, 2, 10, 0.9822775836048111, 0.06785170780086025, 14, 3, 3, 4]\n0.8580557301487535\nIteration No: 79 ended. Search finished for the next optimal point.\nTime taken: 1.9675\nFunction value obtained: -0.5719\nCurrent minimum: -0.6374\nIteration No: 80 started. Searching for the next optimal point.\n[0.04816338435757834, 8, 24, 0.6099061767238257, 0.05337570285918515, 5, 3, 3, 4]\n0.8667504714016342\nIteration No: 80 ended. Search finished for the next optimal point.\nTime taken: 1.9510\nFunction value obtained: -0.5795\nCurrent minimum: -0.6374\nIteration No: 81 started. Searching for the next optimal point.\n[0.01959224689964902, 8, 13, 0.8192004666635155, 0.058529253689118814, 9, 2, 3, 4]\n0.8747119212235491\nIteration No: 81 ended. Search finished for the next optimal point.\nTime taken: 2.0695\nFunction value obtained: -0.5900\nCurrent minimum: -0.6374\nIteration No: 82 started. Searching for the next optimal point.\n[0.015084974374478595, 9, 18, 0.13367159734257977, 0.06986689908377788, 12, 3, 3, 4]\n0.8669599832390531\nIteration No: 82 ended. Search finished for the next optimal point.\nTime taken: 2.4950\nFunction value obtained: -0.6092\nCurrent minimum: -0.6374\nIteration No: 83 started. Searching for the next optimal point.\n[0.013418568274807884, 6, 28, 0.9108926179237679, 0.07497054076756145, 14, 3, 3, 4]\n0.8814163000209512\nIteration No: 83 ended. Search finished for the next optimal point.\nTime taken: 2.2660\nFunction value obtained: -0.6187\nCurrent minimum: -0.6374\nIteration No: 84 started. Searching for the next optimal point.\n[0.018526808812181716, 7, 26, 0.5548397978032529, 0.11303681195414135, 10, 3, 3, 4]\n0.8789021579719254\nIteration No: 84 ended. Search finished for the next optimal point.\nTime taken: 2.1825\nFunction value obtained: -0.6304\nCurrent minimum: -0.6374\nIteration No: 85 started. Searching for the next optimal point.\n[0.012986080265108972, 10, 13, 0.15179975428248824, 0.07731000859639232, 14, 3, 3, 4]\n0.8673790069138907\nIteration No: 85 ended. Search finished for the next optimal point.\nTime taken: 2.5145\nFunction value obtained: -0.5977\nCurrent minimum: -0.6374\nIteration No: 86 started. Searching for the next optimal point.\n[0.011588567655099776, 7, 29, 0.4116077201095865, 0.15199272178621345, 11, 3, 3, 4]\n0.8803687408338572\nIteration No: 86 ended. Search finished for the next optimal point.\nTime taken: 2.1280\nFunction value obtained: -0.6234\nCurrent minimum: -0.6374\nIteration No: 87 started. Searching for the next optimal point.\n[0.01306122280159373, 5, 29, 0.38897224558214966, 0.35312231199697186, 11, 3, 3, 4]\n0.8564843913681124\nIteration No: 87 ended. Search finished for the next optimal point.\nTime taken: 2.1335\nFunction value obtained: -0.5628\nCurrent minimum: -0.6374\nIteration No: 88 started. Searching for the next optimal point.\n[0.012182691336022927, 12, 28, 0.6607371013586917, 0.07993088701583814, 11, 3, 4, 4]\n0.8696836371254976\nIteration No: 88 ended. Search finished for the next optimal point.\nTime taken: 3.0230\nFunction value obtained: -0.6085\nCurrent minimum: -0.6374\nIteration No: 89 started. Searching for the next optimal point.\n[0.019095061533812286, 3, 26, 0.7095233810284354, 0.18617616528436548, 11, 3, 3, 4]\n0.8608841399539074\nIteration No: 89 ended. Search finished for the next optimal point.\nTime taken: 2.0185\nFunction value obtained: -0.5705\nCurrent minimum: -0.6374\nIteration No: 90 started. Searching for the next optimal point.\n[0.010024223898918274, 6, 29, 0.2590252883662984, 0.15029314926380272, 12, 3, 3, 4]\n0.8688455897758223\nIteration No: 90 ended. Search finished for the next optimal point.\nTime taken: 2.0190\nFunction value obtained: -0.5925\nCurrent minimum: -0.6374\nIteration No: 91 started. Searching for the next optimal point.\n[0.020487606420994793, 7, 30, 0.6268826430717034, 0.15005667975696244, 6, 3, 3, 4]\n0.8682170542635659\nIteration No: 91 ended. Search finished for the next optimal point.\nTime taken: 2.0055\nFunction value obtained: -0.5740\nCurrent minimum: -0.6374\nIteration No: 92 started. Searching for the next optimal point.\n[0.01925152468210426, 9, 26, 0.899074754272173, 0.06043701224486349, 8, 3, 3, 4]\n0.8778545987848314\nIteration No: 92 ended. Search finished for the next optimal point.\nTime taken: 2.0725\nFunction value obtained: -0.6249\nCurrent minimum: -0.6374\nIteration No: 93 started. Searching for the next optimal point.\n[0.016631257809120455, 2, 28, 0.41964254834878273, 0.09758533318291679, 7, 3, 2, 4]\n0.8511418395139325\nIteration No: 93 ended. Search finished for the next optimal point.\nTime taken: 2.0935\nFunction value obtained: -0.5471\nCurrent minimum: -0.6374\nIteration No: 94 started. Searching for the next optimal point.\n[0.01967773721733078, 10, 26, 0.9305893119551287, 0.1540696182084222, 11, 3, 3, 4]\n0.8734548501990362\nIteration No: 94 ended. Search finished for the next optimal point.\nTime taken: 2.1990\nFunction value obtained: -0.5849\nCurrent minimum: -0.6374\nIteration No: 95 started. Searching for the next optimal point.\n[0.01658945956664882, 3, 17, 0.5620727932626872, 0.07293345666832717, 15, 3, 4, 4]\n0.8637125497590614\nIteration No: 95 ended. Search finished for the next optimal point.\nTime taken: 1.9950\nFunction value obtained: -0.5782\nCurrent minimum: -0.6374\nIteration No: 96 started. Searching for the next optimal point.\n[0.01992805468386365, 4, 28, 0.31747421519913166, 0.0848886153365931, 15, 3, 3, 4]\n0.8837209302325582\nIteration No: 96 ended. Search finished for the next optimal point.\nTime taken: 1.9665\nFunction value obtained: -0.6084\nCurrent minimum: -0.6374\nIteration No: 97 started. Searching for the next optimal point.\n[0.012677230579130063, 6, 28, 0.7966812636852204, 0.1073814522666183, 4, 3, 3, 4]\n0.8885397024931909\nIteration No: 97 ended. Search finished for the next optimal point.\nTime taken: 1.8955\nFunction value obtained: -0.6452\nCurrent minimum: -0.6452\nIteration No: 98 started. Searching for the next optimal point.\n[0.016773029642898292, 7, 27, 0.16050544480926016, 0.07561020808372272, 2, 3, 4, 4]\n0.8566939032055312\nIteration No: 98 ended. Search finished for the next optimal point.\nTime taken: 1.8595\nFunction value obtained: -0.5878\nCurrent minimum: -0.6452\nIteration No: 99 started. Searching for the next optimal point.\n[0.010816322183062948, 3, 23, 0.8683947986038596, 0.06125844239160044, 12, 1, 3, 4]\n0.882882882882883\nIteration No: 99 ended. Search finished for the next optimal point.\nTime taken: 1.8750\nFunction value obtained: -0.6238\nCurrent minimum: -0.6452\nIteration No: 100 started. Searching for the next optimal point.\n[0.01640724589955885, 3, 25, 0.5875726462407734, 0.13443497425504514, 10, 1, 3, 4]\n0.8688455897758224\nIteration No: 100 ended. Search finished for the next optimal point.\nTime taken: 1.8625\nFunction value obtained: -0.5784\nCurrent minimum: -0.6452\n"
    }
   ],
   "source": [
    "def tune_lgbm(params):\n",
    "    print(params)\n",
    "    lr = params[0]\n",
    "    max_depth = params[1]\n",
    "    min_child_samples = params[2]\n",
    "    subsample = params[3]\n",
    "    colsample_bytree = params[4]\n",
    "    \n",
    "    min_df = params[5]\n",
    "    ngram_range = (1, params[6])\n",
    "    \n",
    "    min_df_desc = params[7]\n",
    "    ngram_range_desc = (1, params[8])\n",
    "\n",
    "    final_vects_train, final_vects_val = [], []\n",
    "    \n",
    "    title_vec = TfidfVectorizer(min_df=min_df, ngram_range=ngram_range, stop_words=stop_words)\n",
    "    title_bow_train = title_vec.fit_transform(X_train['title'])\n",
    "    title_bow_val = title_vec.transform(X_val['title'])\n",
    "    \n",
    "    final_vects_train.append(title_bow_train)\n",
    "    final_vects_val.append(title_bow_val)\n",
    "\n",
    "    desc_vec = TfidfVectorizer(min_df=min_df_desc, ngram_range=ngram_range_desc, stop_words=stop_words)\n",
    "    desc_bow_train = desc_vec.fit_transform(X_train['description'])\n",
    "    desc_bow_val = desc_vec.transform(X_val['description'])\n",
    "\n",
    "    final_vects_train.append(desc_bow_train)\n",
    "    final_vects_val.append(desc_bow_val)\n",
    "\n",
    "    \n",
    "    \n",
    "    X_train_full = hstack(final_features_train + final_vects_train)\n",
    "    X_val_full = hstack(final_features_val + final_vects_val)\n",
    "\n",
    "\n",
    "    mdl_lgbm = LGBMClassifier(learning_rate=lr, num_leaves=2 ** max_depth, max_depth=max_depth,\n",
    "                            min_child_samples=min_child_samples, subsample=subsample, random_state=0, \n",
    "                            colsample_bytree=colsample_bytree, class_weight=\"balanced\", n_jobs=-1)\n",
    "\n",
    "    mdl_lgbm.fit(X_train_full, y_train)\n",
    "    \n",
    "    p = mdl_lgbm.predict_proba(X_val_full)[:, 1]\n",
    "    \n",
    "    print(roc_auc_score(y_val, p))\n",
    "    \n",
    "    return -average_precision_score(y_val, p)\n",
    "\n",
    "\n",
    "space = [(1e-2, 1e-1, 'log-uniform'), # lr\n",
    "          (1, 12), # max_depth\n",
    "          (10, 30), # min_child_samples\n",
    "          (0.05, 1.), # subsample\n",
    "          (0.05, 1.), # colsample_bytree\n",
    "          (2,15), # min_df title\n",
    "          (1,3), # ngram_range title\n",
    "          (2,8), # min_df desc\n",
    "          (1,4)] # ngram_range desc\n",
    "\n",
    "res = forest_minimize(tune_lgbm, space, random_state=7777, n_random_starts=40, n_calls=100, verbose=1)"
   ]
  },
  {
   "cell_type": "code",
   "execution_count": 19,
   "metadata": {},
   "outputs": [
    {
     "output_type": "execute_result",
     "data": {
      "text/plain": "[0.012677230579130063,\n 6,\n 28,\n 0.7966812636852204,\n 0.1073814522666183,\n 4,\n 3,\n 3,\n 4]"
     },
     "metadata": {},
     "execution_count": 19
    }
   ],
   "source": [
    "res.x"
   ]
  },
  {
   "cell_type": "code",
   "execution_count": 20,
   "metadata": {
    "tags": []
   },
   "outputs": [
    {
     "output_type": "stream",
     "name": "stdout",
     "text": "[0.012, 6, 28, 0.8, 0.1, 4, 3, 3, 4]\n0.8799497171590195\n"
    },
    {
     "output_type": "execute_result",
     "data": {
      "text/plain": "-0.6307312739439663"
     },
     "metadata": {},
     "execution_count": 20
    }
   ],
   "source": [
    "tune_lgbm([0.012,\n",
    " 6,\n",
    " 28,\n",
    " 0.8,\n",
    " 0.1,\n",
    " 4,\n",
    " 3,\n",
    " 3,\n",
    " 4])"
   ]
  },
  {
   "cell_type": "code",
   "execution_count": 21,
   "metadata": {
    "tags": []
   },
   "outputs": [
    {
     "output_type": "stream",
     "name": "stdout",
     "text": "Precision: 63.07%\tAUC: 0.880\n"
    }
   ],
   "source": [
    "params = [0.012, 6, 28, 0.8, 0.1, 4, 3, 3, 4]\n",
    "#params = res.x\n",
    "lr = params[0]\n",
    "max_depth = params[1]\n",
    "min_child_samples = params[2]\n",
    "subsample = params[3]\n",
    "colsample_bytree = params[4]\n",
    "\n",
    "min_df = params[5]\n",
    "ngram_range = (1, params[6])\n",
    "\n",
    "min_df_desc = params[7]\n",
    "ngram_range_desc = (1, params[8])\n",
    "\n",
    "final_vects_train, final_vects_val = [], []\n",
    "\n",
    "title_vec = TfidfVectorizer(min_df=min_df, ngram_range=ngram_range, stop_words=stop_words)\n",
    "title_bow_train = title_vec.fit_transform(X_train['title'])\n",
    "title_bow_val = title_vec.transform(X_val['title'])\n",
    "\n",
    "final_vects_train.append(title_bow_train)\n",
    "final_vects_val.append(title_bow_val)\n",
    "\n",
    "desc_vec = TfidfVectorizer(min_df=min_df_desc, ngram_range=ngram_range_desc, stop_words=stop_words)\n",
    "desc_bow_train = desc_vec.fit_transform(X_train['description'])\n",
    "desc_bow_val = desc_vec.transform(X_val['description'])\n",
    "\n",
    "final_vects_train.append(desc_bow_train)\n",
    "final_vects_val.append(desc_bow_val)\n",
    "\n",
    "\n",
    "\n",
    "X_train_full = hstack(final_features_train + final_vects_train)\n",
    "X_val_full = hstack(final_features_val + final_vects_val)\n",
    "\n",
    "\n",
    "mdl_lgbm = LGBMClassifier(learning_rate=lr, num_leaves=2 ** max_depth, max_depth=max_depth,\n",
    "                        min_child_samples=min_child_samples, subsample=subsample, random_state=0, \n",
    "                        colsample_bytree=colsample_bytree, class_weight=\"balanced\", n_jobs=-1)\n",
    "\n",
    "mdl_lgbm.fit(X_train_full, y_train)\n",
    "\n",
    "p_lgbm = mdl_lgbm.predict_proba(X_val_full)[:, 1]\n",
    "\n",
    "precision = average_precision_score(y_val, p_lgbm)\n",
    "auc = roc_auc_score(y_val, p_lgbm)\n",
    "\n",
    "print(\"Precision: {:.2f}%\\tAUC: {:.3f}\".format(precision*100, auc))\n"
   ]
  },
  {
   "cell_type": "code",
   "execution_count": 41,
   "metadata": {
    "tags": []
   },
   "outputs": [
    {
     "output_type": "stream",
     "name": "stdout",
     "text": "Precision: 58.42%\tAUC: 0.845\n"
    }
   ],
   "source": [
    "mdl_rf = RandomForestClassifier(n_estimators=1000, random_state=0, class_weight=\"balanced\", n_jobs=-1, min_samples_leaf=2)\n",
    "mdl_rf.fit(X_train_full, y_train)\n",
    "\n",
    "\n",
    "p_rf = mdl_rf.predict_proba(X_val_full)[:, 1]\n",
    "\n",
    "precision = average_precision_score(y_val, p_rf)\n",
    "auc = roc_auc_score(y_val, p_rf)\n",
    "\n",
    "print(\"Precision: {:.2f}%\\tAUC: {:.3f}\".format(precision*100, auc))"
   ]
  },
  {
   "cell_type": "code",
   "execution_count": 42,
   "metadata": {},
   "outputs": [],
   "source": [
    "from sklearn.linear_model import LogisticRegression\n",
    "from sklearn.preprocessing import MaxAbsScaler\n",
    "from sklearn.pipeline import make_pipeline"
   ]
  },
  {
   "cell_type": "code",
   "execution_count": 43,
   "metadata": {
    "tags": []
   },
   "outputs": [
    {
     "output_type": "stream",
     "name": "stdout",
     "text": "Precision: 59.95%\tAUC: 0.824\n"
    }
   ],
   "source": [
    "lr_pipe =  make_pipeline(MaxAbsScaler(), LogisticRegression(C=2.0, penalty='l2', n_jobs=-1, random_state=777))\n",
    "lr_pipe.fit(X_train_full, y_train)\n",
    "\n",
    "p_lr = lr_pipe.predict_proba(X_val_full)[:, 1]\n",
    "\n",
    "\n",
    "precision = average_precision_score(y_val, p_lr)\n",
    "auc = roc_auc_score(y_val, p_lr)\n",
    "\n",
    "print(\"Precision: {:.2f}%\\tAUC: {:.3f}\".format(precision*100, auc))"
   ]
  },
  {
   "cell_type": "code",
   "execution_count": 44,
   "metadata": {},
   "outputs": [
    {
     "output_type": "execute_result",
     "data": {
      "text/plain": "            RF      LGBM        LR\nRF    1.000000  0.890783  0.890488\nLGBM  0.890783  1.000000  0.723396\nLR    0.890488  0.723396  1.000000",
      "text/html": "<div>\n<style scoped>\n    .dataframe tbody tr th:only-of-type {\n        vertical-align: middle;\n    }\n\n    .dataframe tbody tr th {\n        vertical-align: top;\n    }\n\n    .dataframe thead th {\n        text-align: right;\n    }\n</style>\n<table border=\"1\" class=\"dataframe\">\n  <thead>\n    <tr style=\"text-align: right;\">\n      <th></th>\n      <th>RF</th>\n      <th>LGBM</th>\n      <th>LR</th>\n    </tr>\n  </thead>\n  <tbody>\n    <tr>\n      <th>RF</th>\n      <td>1.000000</td>\n      <td>0.890783</td>\n      <td>0.890488</td>\n    </tr>\n    <tr>\n      <th>LGBM</th>\n      <td>0.890783</td>\n      <td>1.000000</td>\n      <td>0.723396</td>\n    </tr>\n    <tr>\n      <th>LR</th>\n      <td>0.890488</td>\n      <td>0.723396</td>\n      <td>1.000000</td>\n    </tr>\n  </tbody>\n</table>\n</div>"
     },
     "metadata": {},
     "execution_count": 44
    }
   ],
   "source": [
    "pd.DataFrame({\"RF\": p_rf, \"LGBM\" : p_lgbm, \"LR\" : p_lr}).corr()"
   ]
  },
  {
   "cell_type": "code",
   "execution_count": 45,
   "metadata": {},
   "outputs": [
    {
     "output_type": "execute_result",
     "data": {
      "text/plain": "(0.6308494129133824, 0.8701026608003353)"
     },
     "metadata": {},
     "execution_count": 45
    }
   ],
   "source": [
    "part_lgbm, part_rf, part_lr = .8, .0, .2\n",
    "p = part_lgbm * p_lgbm + part_rf * p_rf + part_lr * p_lr\n",
    "average_precision_score(y_val, p), roc_auc_score(y_val, p)"
   ]
  },
  {
   "cell_type": "code",
   "execution_count": 46,
   "metadata": {},
   "outputs": [],
   "source": [
    "import joblib as jb"
   ]
  },
  {
   "cell_type": "code",
   "execution_count": 47,
   "metadata": {},
   "outputs": [],
   "source": [
    "import datetime"
   ]
  },
  {
   "cell_type": "code",
   "execution_count": 48,
   "metadata": {},
   "outputs": [],
   "source": [
    "timestamp = datetime.datetime.now().strftime('%d_%b_%Y')"
   ]
  },
  {
   "cell_type": "code",
   "execution_count": 49,
   "metadata": {},
   "outputs": [
    {
     "output_type": "execute_result",
     "data": {
      "text/plain": "['./models/title_vec_19_Jul_2020.jb']"
     },
     "metadata": {},
     "execution_count": 49
    }
   ],
   "source": [
    "jb.dump(mdl_lgbm, f'./models/lgbm_{timestamp}.jb')\n",
    "jb.dump(mdl_rf, f'./models/rf_{timestamp}.jb')\n",
    "jb.dump(lr_pipe, f'./models/lr_{timestamp}.jb')\n",
    "jb.dump(desc_vec, f'./models/desc_vec_{timestamp}.jb')\n",
    "jb.dump(title_vec, f'./models/title_vec_{timestamp}.jb')"
   ]
  },
  {
   "cell_type": "code",
   "execution_count": null,
   "metadata": {},
   "outputs": [],
   "source": []
  }
 ],
 "metadata": {
  "language_info": {
   "codemirror_mode": {
    "name": "ipython",
    "version": 3
   },
   "file_extension": ".py",
   "mimetype": "text/x-python",
   "name": "python",
   "nbconvert_exporter": "python",
   "pygments_lexer": "ipython3",
   "version": "3.7.6-final"
  },
  "orig_nbformat": 2,
  "kernelspec": {
   "name": "python3",
   "display_name": "Python 3"
  }
 },
 "nbformat": 4,
 "nbformat_minor": 2
}